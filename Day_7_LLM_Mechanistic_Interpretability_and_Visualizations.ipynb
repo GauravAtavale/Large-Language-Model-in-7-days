{
  "nbformat": 4,
  "nbformat_minor": 0,
  "metadata": {
    "colab": {
      "provenance": [],
      "gpuType": "T4",
      "toc_visible": true
    },
    "kernelspec": {
      "name": "python3",
      "display_name": "Python 3"
    },
    "language_info": {
      "name": "python"
    },
    "accelerator": "GPU",
    "widgets": {
      "application/vnd.jupyter.widget-state+json": {
        "c5b2fda598714d8caf2a3c4eae8a2038": {
          "model_module": "@jupyter-widgets/controls",
          "model_name": "HBoxModel",
          "model_module_version": "1.5.0",
          "state": {
            "_dom_classes": [],
            "_model_module": "@jupyter-widgets/controls",
            "_model_module_version": "1.5.0",
            "_model_name": "HBoxModel",
            "_view_count": null,
            "_view_module": "@jupyter-widgets/controls",
            "_view_module_version": "1.5.0",
            "_view_name": "HBoxView",
            "box_style": "",
            "children": [
              "IPY_MODEL_dc6961ac613b4639be422927b8d8b48e",
              "IPY_MODEL_013fd78d14074ae6827e7d7549b8f36a",
              "IPY_MODEL_6c15201f691144f3884db339dc695be0"
            ],
            "layout": "IPY_MODEL_b60eef4e352e4e9aacf390fe74b787d9"
          }
        },
        "dc6961ac613b4639be422927b8d8b48e": {
          "model_module": "@jupyter-widgets/controls",
          "model_name": "HTMLModel",
          "model_module_version": "1.5.0",
          "state": {
            "_dom_classes": [],
            "_model_module": "@jupyter-widgets/controls",
            "_model_module_version": "1.5.0",
            "_model_name": "HTMLModel",
            "_view_count": null,
            "_view_module": "@jupyter-widgets/controls",
            "_view_module_version": "1.5.0",
            "_view_name": "HTMLView",
            "description": "",
            "description_tooltip": null,
            "layout": "IPY_MODEL_a2060d60e7464e89907791ab145bae64",
            "placeholder": "​",
            "style": "IPY_MODEL_c328c34edebe4845b0fe31388b13a06f",
            "value": "tokenizer_config.json: 100%"
          }
        },
        "013fd78d14074ae6827e7d7549b8f36a": {
          "model_module": "@jupyter-widgets/controls",
          "model_name": "FloatProgressModel",
          "model_module_version": "1.5.0",
          "state": {
            "_dom_classes": [],
            "_model_module": "@jupyter-widgets/controls",
            "_model_module_version": "1.5.0",
            "_model_name": "FloatProgressModel",
            "_view_count": null,
            "_view_module": "@jupyter-widgets/controls",
            "_view_module_version": "1.5.0",
            "_view_name": "ProgressView",
            "bar_style": "success",
            "description": "",
            "description_tooltip": null,
            "layout": "IPY_MODEL_91ef0addcefb46d184b94a79eb58d92c",
            "max": 26,
            "min": 0,
            "orientation": "horizontal",
            "style": "IPY_MODEL_9df6883a746a4405b817b8cf28802bc7",
            "value": 26
          }
        },
        "6c15201f691144f3884db339dc695be0": {
          "model_module": "@jupyter-widgets/controls",
          "model_name": "HTMLModel",
          "model_module_version": "1.5.0",
          "state": {
            "_dom_classes": [],
            "_model_module": "@jupyter-widgets/controls",
            "_model_module_version": "1.5.0",
            "_model_name": "HTMLModel",
            "_view_count": null,
            "_view_module": "@jupyter-widgets/controls",
            "_view_module_version": "1.5.0",
            "_view_name": "HTMLView",
            "description": "",
            "description_tooltip": null,
            "layout": "IPY_MODEL_b7337578e3d1427eabb2333bfbeecd93",
            "placeholder": "​",
            "style": "IPY_MODEL_d3ba7e0bf74444449805583e5a0a6f05",
            "value": " 26.0/26.0 [00:00&lt;00:00, 1.51kB/s]"
          }
        },
        "b60eef4e352e4e9aacf390fe74b787d9": {
          "model_module": "@jupyter-widgets/base",
          "model_name": "LayoutModel",
          "model_module_version": "1.2.0",
          "state": {
            "_model_module": "@jupyter-widgets/base",
            "_model_module_version": "1.2.0",
            "_model_name": "LayoutModel",
            "_view_count": null,
            "_view_module": "@jupyter-widgets/base",
            "_view_module_version": "1.2.0",
            "_view_name": "LayoutView",
            "align_content": null,
            "align_items": null,
            "align_self": null,
            "border": null,
            "bottom": null,
            "display": null,
            "flex": null,
            "flex_flow": null,
            "grid_area": null,
            "grid_auto_columns": null,
            "grid_auto_flow": null,
            "grid_auto_rows": null,
            "grid_column": null,
            "grid_gap": null,
            "grid_row": null,
            "grid_template_areas": null,
            "grid_template_columns": null,
            "grid_template_rows": null,
            "height": null,
            "justify_content": null,
            "justify_items": null,
            "left": null,
            "margin": null,
            "max_height": null,
            "max_width": null,
            "min_height": null,
            "min_width": null,
            "object_fit": null,
            "object_position": null,
            "order": null,
            "overflow": null,
            "overflow_x": null,
            "overflow_y": null,
            "padding": null,
            "right": null,
            "top": null,
            "visibility": null,
            "width": null
          }
        },
        "a2060d60e7464e89907791ab145bae64": {
          "model_module": "@jupyter-widgets/base",
          "model_name": "LayoutModel",
          "model_module_version": "1.2.0",
          "state": {
            "_model_module": "@jupyter-widgets/base",
            "_model_module_version": "1.2.0",
            "_model_name": "LayoutModel",
            "_view_count": null,
            "_view_module": "@jupyter-widgets/base",
            "_view_module_version": "1.2.0",
            "_view_name": "LayoutView",
            "align_content": null,
            "align_items": null,
            "align_self": null,
            "border": null,
            "bottom": null,
            "display": null,
            "flex": null,
            "flex_flow": null,
            "grid_area": null,
            "grid_auto_columns": null,
            "grid_auto_flow": null,
            "grid_auto_rows": null,
            "grid_column": null,
            "grid_gap": null,
            "grid_row": null,
            "grid_template_areas": null,
            "grid_template_columns": null,
            "grid_template_rows": null,
            "height": null,
            "justify_content": null,
            "justify_items": null,
            "left": null,
            "margin": null,
            "max_height": null,
            "max_width": null,
            "min_height": null,
            "min_width": null,
            "object_fit": null,
            "object_position": null,
            "order": null,
            "overflow": null,
            "overflow_x": null,
            "overflow_y": null,
            "padding": null,
            "right": null,
            "top": null,
            "visibility": null,
            "width": null
          }
        },
        "c328c34edebe4845b0fe31388b13a06f": {
          "model_module": "@jupyter-widgets/controls",
          "model_name": "DescriptionStyleModel",
          "model_module_version": "1.5.0",
          "state": {
            "_model_module": "@jupyter-widgets/controls",
            "_model_module_version": "1.5.0",
            "_model_name": "DescriptionStyleModel",
            "_view_count": null,
            "_view_module": "@jupyter-widgets/base",
            "_view_module_version": "1.2.0",
            "_view_name": "StyleView",
            "description_width": ""
          }
        },
        "91ef0addcefb46d184b94a79eb58d92c": {
          "model_module": "@jupyter-widgets/base",
          "model_name": "LayoutModel",
          "model_module_version": "1.2.0",
          "state": {
            "_model_module": "@jupyter-widgets/base",
            "_model_module_version": "1.2.0",
            "_model_name": "LayoutModel",
            "_view_count": null,
            "_view_module": "@jupyter-widgets/base",
            "_view_module_version": "1.2.0",
            "_view_name": "LayoutView",
            "align_content": null,
            "align_items": null,
            "align_self": null,
            "border": null,
            "bottom": null,
            "display": null,
            "flex": null,
            "flex_flow": null,
            "grid_area": null,
            "grid_auto_columns": null,
            "grid_auto_flow": null,
            "grid_auto_rows": null,
            "grid_column": null,
            "grid_gap": null,
            "grid_row": null,
            "grid_template_areas": null,
            "grid_template_columns": null,
            "grid_template_rows": null,
            "height": null,
            "justify_content": null,
            "justify_items": null,
            "left": null,
            "margin": null,
            "max_height": null,
            "max_width": null,
            "min_height": null,
            "min_width": null,
            "object_fit": null,
            "object_position": null,
            "order": null,
            "overflow": null,
            "overflow_x": null,
            "overflow_y": null,
            "padding": null,
            "right": null,
            "top": null,
            "visibility": null,
            "width": null
          }
        },
        "9df6883a746a4405b817b8cf28802bc7": {
          "model_module": "@jupyter-widgets/controls",
          "model_name": "ProgressStyleModel",
          "model_module_version": "1.5.0",
          "state": {
            "_model_module": "@jupyter-widgets/controls",
            "_model_module_version": "1.5.0",
            "_model_name": "ProgressStyleModel",
            "_view_count": null,
            "_view_module": "@jupyter-widgets/base",
            "_view_module_version": "1.2.0",
            "_view_name": "StyleView",
            "bar_color": null,
            "description_width": ""
          }
        },
        "b7337578e3d1427eabb2333bfbeecd93": {
          "model_module": "@jupyter-widgets/base",
          "model_name": "LayoutModel",
          "model_module_version": "1.2.0",
          "state": {
            "_model_module": "@jupyter-widgets/base",
            "_model_module_version": "1.2.0",
            "_model_name": "LayoutModel",
            "_view_count": null,
            "_view_module": "@jupyter-widgets/base",
            "_view_module_version": "1.2.0",
            "_view_name": "LayoutView",
            "align_content": null,
            "align_items": null,
            "align_self": null,
            "border": null,
            "bottom": null,
            "display": null,
            "flex": null,
            "flex_flow": null,
            "grid_area": null,
            "grid_auto_columns": null,
            "grid_auto_flow": null,
            "grid_auto_rows": null,
            "grid_column": null,
            "grid_gap": null,
            "grid_row": null,
            "grid_template_areas": null,
            "grid_template_columns": null,
            "grid_template_rows": null,
            "height": null,
            "justify_content": null,
            "justify_items": null,
            "left": null,
            "margin": null,
            "max_height": null,
            "max_width": null,
            "min_height": null,
            "min_width": null,
            "object_fit": null,
            "object_position": null,
            "order": null,
            "overflow": null,
            "overflow_x": null,
            "overflow_y": null,
            "padding": null,
            "right": null,
            "top": null,
            "visibility": null,
            "width": null
          }
        },
        "d3ba7e0bf74444449805583e5a0a6f05": {
          "model_module": "@jupyter-widgets/controls",
          "model_name": "DescriptionStyleModel",
          "model_module_version": "1.5.0",
          "state": {
            "_model_module": "@jupyter-widgets/controls",
            "_model_module_version": "1.5.0",
            "_model_name": "DescriptionStyleModel",
            "_view_count": null,
            "_view_module": "@jupyter-widgets/base",
            "_view_module_version": "1.2.0",
            "_view_name": "StyleView",
            "description_width": ""
          }
        },
        "65989754c11048dba98da2aafb1c1b48": {
          "model_module": "@jupyter-widgets/controls",
          "model_name": "HBoxModel",
          "model_module_version": "1.5.0",
          "state": {
            "_dom_classes": [],
            "_model_module": "@jupyter-widgets/controls",
            "_model_module_version": "1.5.0",
            "_model_name": "HBoxModel",
            "_view_count": null,
            "_view_module": "@jupyter-widgets/controls",
            "_view_module_version": "1.5.0",
            "_view_name": "HBoxView",
            "box_style": "",
            "children": [
              "IPY_MODEL_6ba223ef10404b0c95b6dc5c866f4214",
              "IPY_MODEL_6083eacb72624d15b469d81f597e71cf",
              "IPY_MODEL_360fae1834e74955936774ad90c47a04"
            ],
            "layout": "IPY_MODEL_8136171f191d40c99dc622679ced02f5"
          }
        },
        "6ba223ef10404b0c95b6dc5c866f4214": {
          "model_module": "@jupyter-widgets/controls",
          "model_name": "HTMLModel",
          "model_module_version": "1.5.0",
          "state": {
            "_dom_classes": [],
            "_model_module": "@jupyter-widgets/controls",
            "_model_module_version": "1.5.0",
            "_model_name": "HTMLModel",
            "_view_count": null,
            "_view_module": "@jupyter-widgets/controls",
            "_view_module_version": "1.5.0",
            "_view_name": "HTMLView",
            "description": "",
            "description_tooltip": null,
            "layout": "IPY_MODEL_e994e52728144ea0873db8a89bb59dd8",
            "placeholder": "​",
            "style": "IPY_MODEL_2e45519c65094940a36ef3073f3b94ae",
            "value": "vocab.json: 100%"
          }
        },
        "6083eacb72624d15b469d81f597e71cf": {
          "model_module": "@jupyter-widgets/controls",
          "model_name": "FloatProgressModel",
          "model_module_version": "1.5.0",
          "state": {
            "_dom_classes": [],
            "_model_module": "@jupyter-widgets/controls",
            "_model_module_version": "1.5.0",
            "_model_name": "FloatProgressModel",
            "_view_count": null,
            "_view_module": "@jupyter-widgets/controls",
            "_view_module_version": "1.5.0",
            "_view_name": "ProgressView",
            "bar_style": "success",
            "description": "",
            "description_tooltip": null,
            "layout": "IPY_MODEL_a58b19a7df94469c9566bf8893b00cc0",
            "max": 1042301,
            "min": 0,
            "orientation": "horizontal",
            "style": "IPY_MODEL_92048a405b2641debdf45263895998c7",
            "value": 1042301
          }
        },
        "360fae1834e74955936774ad90c47a04": {
          "model_module": "@jupyter-widgets/controls",
          "model_name": "HTMLModel",
          "model_module_version": "1.5.0",
          "state": {
            "_dom_classes": [],
            "_model_module": "@jupyter-widgets/controls",
            "_model_module_version": "1.5.0",
            "_model_name": "HTMLModel",
            "_view_count": null,
            "_view_module": "@jupyter-widgets/controls",
            "_view_module_version": "1.5.0",
            "_view_name": "HTMLView",
            "description": "",
            "description_tooltip": null,
            "layout": "IPY_MODEL_25a83224f20d4040aeaae5d07c2505e7",
            "placeholder": "​",
            "style": "IPY_MODEL_9ebac70a65f24b64992e7b713fc1af0f",
            "value": " 1.04M/1.04M [00:00&lt;00:00, 4.15MB/s]"
          }
        },
        "8136171f191d40c99dc622679ced02f5": {
          "model_module": "@jupyter-widgets/base",
          "model_name": "LayoutModel",
          "model_module_version": "1.2.0",
          "state": {
            "_model_module": "@jupyter-widgets/base",
            "_model_module_version": "1.2.0",
            "_model_name": "LayoutModel",
            "_view_count": null,
            "_view_module": "@jupyter-widgets/base",
            "_view_module_version": "1.2.0",
            "_view_name": "LayoutView",
            "align_content": null,
            "align_items": null,
            "align_self": null,
            "border": null,
            "bottom": null,
            "display": null,
            "flex": null,
            "flex_flow": null,
            "grid_area": null,
            "grid_auto_columns": null,
            "grid_auto_flow": null,
            "grid_auto_rows": null,
            "grid_column": null,
            "grid_gap": null,
            "grid_row": null,
            "grid_template_areas": null,
            "grid_template_columns": null,
            "grid_template_rows": null,
            "height": null,
            "justify_content": null,
            "justify_items": null,
            "left": null,
            "margin": null,
            "max_height": null,
            "max_width": null,
            "min_height": null,
            "min_width": null,
            "object_fit": null,
            "object_position": null,
            "order": null,
            "overflow": null,
            "overflow_x": null,
            "overflow_y": null,
            "padding": null,
            "right": null,
            "top": null,
            "visibility": null,
            "width": null
          }
        },
        "e994e52728144ea0873db8a89bb59dd8": {
          "model_module": "@jupyter-widgets/base",
          "model_name": "LayoutModel",
          "model_module_version": "1.2.0",
          "state": {
            "_model_module": "@jupyter-widgets/base",
            "_model_module_version": "1.2.0",
            "_model_name": "LayoutModel",
            "_view_count": null,
            "_view_module": "@jupyter-widgets/base",
            "_view_module_version": "1.2.0",
            "_view_name": "LayoutView",
            "align_content": null,
            "align_items": null,
            "align_self": null,
            "border": null,
            "bottom": null,
            "display": null,
            "flex": null,
            "flex_flow": null,
            "grid_area": null,
            "grid_auto_columns": null,
            "grid_auto_flow": null,
            "grid_auto_rows": null,
            "grid_column": null,
            "grid_gap": null,
            "grid_row": null,
            "grid_template_areas": null,
            "grid_template_columns": null,
            "grid_template_rows": null,
            "height": null,
            "justify_content": null,
            "justify_items": null,
            "left": null,
            "margin": null,
            "max_height": null,
            "max_width": null,
            "min_height": null,
            "min_width": null,
            "object_fit": null,
            "object_position": null,
            "order": null,
            "overflow": null,
            "overflow_x": null,
            "overflow_y": null,
            "padding": null,
            "right": null,
            "top": null,
            "visibility": null,
            "width": null
          }
        },
        "2e45519c65094940a36ef3073f3b94ae": {
          "model_module": "@jupyter-widgets/controls",
          "model_name": "DescriptionStyleModel",
          "model_module_version": "1.5.0",
          "state": {
            "_model_module": "@jupyter-widgets/controls",
            "_model_module_version": "1.5.0",
            "_model_name": "DescriptionStyleModel",
            "_view_count": null,
            "_view_module": "@jupyter-widgets/base",
            "_view_module_version": "1.2.0",
            "_view_name": "StyleView",
            "description_width": ""
          }
        },
        "a58b19a7df94469c9566bf8893b00cc0": {
          "model_module": "@jupyter-widgets/base",
          "model_name": "LayoutModel",
          "model_module_version": "1.2.0",
          "state": {
            "_model_module": "@jupyter-widgets/base",
            "_model_module_version": "1.2.0",
            "_model_name": "LayoutModel",
            "_view_count": null,
            "_view_module": "@jupyter-widgets/base",
            "_view_module_version": "1.2.0",
            "_view_name": "LayoutView",
            "align_content": null,
            "align_items": null,
            "align_self": null,
            "border": null,
            "bottom": null,
            "display": null,
            "flex": null,
            "flex_flow": null,
            "grid_area": null,
            "grid_auto_columns": null,
            "grid_auto_flow": null,
            "grid_auto_rows": null,
            "grid_column": null,
            "grid_gap": null,
            "grid_row": null,
            "grid_template_areas": null,
            "grid_template_columns": null,
            "grid_template_rows": null,
            "height": null,
            "justify_content": null,
            "justify_items": null,
            "left": null,
            "margin": null,
            "max_height": null,
            "max_width": null,
            "min_height": null,
            "min_width": null,
            "object_fit": null,
            "object_position": null,
            "order": null,
            "overflow": null,
            "overflow_x": null,
            "overflow_y": null,
            "padding": null,
            "right": null,
            "top": null,
            "visibility": null,
            "width": null
          }
        },
        "92048a405b2641debdf45263895998c7": {
          "model_module": "@jupyter-widgets/controls",
          "model_name": "ProgressStyleModel",
          "model_module_version": "1.5.0",
          "state": {
            "_model_module": "@jupyter-widgets/controls",
            "_model_module_version": "1.5.0",
            "_model_name": "ProgressStyleModel",
            "_view_count": null,
            "_view_module": "@jupyter-widgets/base",
            "_view_module_version": "1.2.0",
            "_view_name": "StyleView",
            "bar_color": null,
            "description_width": ""
          }
        },
        "25a83224f20d4040aeaae5d07c2505e7": {
          "model_module": "@jupyter-widgets/base",
          "model_name": "LayoutModel",
          "model_module_version": "1.2.0",
          "state": {
            "_model_module": "@jupyter-widgets/base",
            "_model_module_version": "1.2.0",
            "_model_name": "LayoutModel",
            "_view_count": null,
            "_view_module": "@jupyter-widgets/base",
            "_view_module_version": "1.2.0",
            "_view_name": "LayoutView",
            "align_content": null,
            "align_items": null,
            "align_self": null,
            "border": null,
            "bottom": null,
            "display": null,
            "flex": null,
            "flex_flow": null,
            "grid_area": null,
            "grid_auto_columns": null,
            "grid_auto_flow": null,
            "grid_auto_rows": null,
            "grid_column": null,
            "grid_gap": null,
            "grid_row": null,
            "grid_template_areas": null,
            "grid_template_columns": null,
            "grid_template_rows": null,
            "height": null,
            "justify_content": null,
            "justify_items": null,
            "left": null,
            "margin": null,
            "max_height": null,
            "max_width": null,
            "min_height": null,
            "min_width": null,
            "object_fit": null,
            "object_position": null,
            "order": null,
            "overflow": null,
            "overflow_x": null,
            "overflow_y": null,
            "padding": null,
            "right": null,
            "top": null,
            "visibility": null,
            "width": null
          }
        },
        "9ebac70a65f24b64992e7b713fc1af0f": {
          "model_module": "@jupyter-widgets/controls",
          "model_name": "DescriptionStyleModel",
          "model_module_version": "1.5.0",
          "state": {
            "_model_module": "@jupyter-widgets/controls",
            "_model_module_version": "1.5.0",
            "_model_name": "DescriptionStyleModel",
            "_view_count": null,
            "_view_module": "@jupyter-widgets/base",
            "_view_module_version": "1.2.0",
            "_view_name": "StyleView",
            "description_width": ""
          }
        },
        "62ed808bce054a0588a4e938e262fb74": {
          "model_module": "@jupyter-widgets/controls",
          "model_name": "HBoxModel",
          "model_module_version": "1.5.0",
          "state": {
            "_dom_classes": [],
            "_model_module": "@jupyter-widgets/controls",
            "_model_module_version": "1.5.0",
            "_model_name": "HBoxModel",
            "_view_count": null,
            "_view_module": "@jupyter-widgets/controls",
            "_view_module_version": "1.5.0",
            "_view_name": "HBoxView",
            "box_style": "",
            "children": [
              "IPY_MODEL_bbf0fe461c99440d9403c262605b0465",
              "IPY_MODEL_c038cbc3cc63418f8a491eb21a439e9b",
              "IPY_MODEL_71544807e90144c7a2768b9a0418db65"
            ],
            "layout": "IPY_MODEL_3f9682d9de05489bb41171cf132fdb5d"
          }
        },
        "bbf0fe461c99440d9403c262605b0465": {
          "model_module": "@jupyter-widgets/controls",
          "model_name": "HTMLModel",
          "model_module_version": "1.5.0",
          "state": {
            "_dom_classes": [],
            "_model_module": "@jupyter-widgets/controls",
            "_model_module_version": "1.5.0",
            "_model_name": "HTMLModel",
            "_view_count": null,
            "_view_module": "@jupyter-widgets/controls",
            "_view_module_version": "1.5.0",
            "_view_name": "HTMLView",
            "description": "",
            "description_tooltip": null,
            "layout": "IPY_MODEL_f0b30929fac24602b04753d1ff03aa55",
            "placeholder": "​",
            "style": "IPY_MODEL_76237923bf2e4e229c9f78b4f3319904",
            "value": "merges.txt: 100%"
          }
        },
        "c038cbc3cc63418f8a491eb21a439e9b": {
          "model_module": "@jupyter-widgets/controls",
          "model_name": "FloatProgressModel",
          "model_module_version": "1.5.0",
          "state": {
            "_dom_classes": [],
            "_model_module": "@jupyter-widgets/controls",
            "_model_module_version": "1.5.0",
            "_model_name": "FloatProgressModel",
            "_view_count": null,
            "_view_module": "@jupyter-widgets/controls",
            "_view_module_version": "1.5.0",
            "_view_name": "ProgressView",
            "bar_style": "success",
            "description": "",
            "description_tooltip": null,
            "layout": "IPY_MODEL_69f9ec1ba7c94989838bdbd1f044b4a5",
            "max": 456318,
            "min": 0,
            "orientation": "horizontal",
            "style": "IPY_MODEL_3bc3a1d1b07e43878526fcd92d96f845",
            "value": 456318
          }
        },
        "71544807e90144c7a2768b9a0418db65": {
          "model_module": "@jupyter-widgets/controls",
          "model_name": "HTMLModel",
          "model_module_version": "1.5.0",
          "state": {
            "_dom_classes": [],
            "_model_module": "@jupyter-widgets/controls",
            "_model_module_version": "1.5.0",
            "_model_name": "HTMLModel",
            "_view_count": null,
            "_view_module": "@jupyter-widgets/controls",
            "_view_module_version": "1.5.0",
            "_view_name": "HTMLView",
            "description": "",
            "description_tooltip": null,
            "layout": "IPY_MODEL_9d02466ea47e477faad6c2ae5306be70",
            "placeholder": "​",
            "style": "IPY_MODEL_35cf801753c04c398bc46c2e4cbb7064",
            "value": " 456k/456k [00:00&lt;00:00, 6.28MB/s]"
          }
        },
        "3f9682d9de05489bb41171cf132fdb5d": {
          "model_module": "@jupyter-widgets/base",
          "model_name": "LayoutModel",
          "model_module_version": "1.2.0",
          "state": {
            "_model_module": "@jupyter-widgets/base",
            "_model_module_version": "1.2.0",
            "_model_name": "LayoutModel",
            "_view_count": null,
            "_view_module": "@jupyter-widgets/base",
            "_view_module_version": "1.2.0",
            "_view_name": "LayoutView",
            "align_content": null,
            "align_items": null,
            "align_self": null,
            "border": null,
            "bottom": null,
            "display": null,
            "flex": null,
            "flex_flow": null,
            "grid_area": null,
            "grid_auto_columns": null,
            "grid_auto_flow": null,
            "grid_auto_rows": null,
            "grid_column": null,
            "grid_gap": null,
            "grid_row": null,
            "grid_template_areas": null,
            "grid_template_columns": null,
            "grid_template_rows": null,
            "height": null,
            "justify_content": null,
            "justify_items": null,
            "left": null,
            "margin": null,
            "max_height": null,
            "max_width": null,
            "min_height": null,
            "min_width": null,
            "object_fit": null,
            "object_position": null,
            "order": null,
            "overflow": null,
            "overflow_x": null,
            "overflow_y": null,
            "padding": null,
            "right": null,
            "top": null,
            "visibility": null,
            "width": null
          }
        },
        "f0b30929fac24602b04753d1ff03aa55": {
          "model_module": "@jupyter-widgets/base",
          "model_name": "LayoutModel",
          "model_module_version": "1.2.0",
          "state": {
            "_model_module": "@jupyter-widgets/base",
            "_model_module_version": "1.2.0",
            "_model_name": "LayoutModel",
            "_view_count": null,
            "_view_module": "@jupyter-widgets/base",
            "_view_module_version": "1.2.0",
            "_view_name": "LayoutView",
            "align_content": null,
            "align_items": null,
            "align_self": null,
            "border": null,
            "bottom": null,
            "display": null,
            "flex": null,
            "flex_flow": null,
            "grid_area": null,
            "grid_auto_columns": null,
            "grid_auto_flow": null,
            "grid_auto_rows": null,
            "grid_column": null,
            "grid_gap": null,
            "grid_row": null,
            "grid_template_areas": null,
            "grid_template_columns": null,
            "grid_template_rows": null,
            "height": null,
            "justify_content": null,
            "justify_items": null,
            "left": null,
            "margin": null,
            "max_height": null,
            "max_width": null,
            "min_height": null,
            "min_width": null,
            "object_fit": null,
            "object_position": null,
            "order": null,
            "overflow": null,
            "overflow_x": null,
            "overflow_y": null,
            "padding": null,
            "right": null,
            "top": null,
            "visibility": null,
            "width": null
          }
        },
        "76237923bf2e4e229c9f78b4f3319904": {
          "model_module": "@jupyter-widgets/controls",
          "model_name": "DescriptionStyleModel",
          "model_module_version": "1.5.0",
          "state": {
            "_model_module": "@jupyter-widgets/controls",
            "_model_module_version": "1.5.0",
            "_model_name": "DescriptionStyleModel",
            "_view_count": null,
            "_view_module": "@jupyter-widgets/base",
            "_view_module_version": "1.2.0",
            "_view_name": "StyleView",
            "description_width": ""
          }
        },
        "69f9ec1ba7c94989838bdbd1f044b4a5": {
          "model_module": "@jupyter-widgets/base",
          "model_name": "LayoutModel",
          "model_module_version": "1.2.0",
          "state": {
            "_model_module": "@jupyter-widgets/base",
            "_model_module_version": "1.2.0",
            "_model_name": "LayoutModel",
            "_view_count": null,
            "_view_module": "@jupyter-widgets/base",
            "_view_module_version": "1.2.0",
            "_view_name": "LayoutView",
            "align_content": null,
            "align_items": null,
            "align_self": null,
            "border": null,
            "bottom": null,
            "display": null,
            "flex": null,
            "flex_flow": null,
            "grid_area": null,
            "grid_auto_columns": null,
            "grid_auto_flow": null,
            "grid_auto_rows": null,
            "grid_column": null,
            "grid_gap": null,
            "grid_row": null,
            "grid_template_areas": null,
            "grid_template_columns": null,
            "grid_template_rows": null,
            "height": null,
            "justify_content": null,
            "justify_items": null,
            "left": null,
            "margin": null,
            "max_height": null,
            "max_width": null,
            "min_height": null,
            "min_width": null,
            "object_fit": null,
            "object_position": null,
            "order": null,
            "overflow": null,
            "overflow_x": null,
            "overflow_y": null,
            "padding": null,
            "right": null,
            "top": null,
            "visibility": null,
            "width": null
          }
        },
        "3bc3a1d1b07e43878526fcd92d96f845": {
          "model_module": "@jupyter-widgets/controls",
          "model_name": "ProgressStyleModel",
          "model_module_version": "1.5.0",
          "state": {
            "_model_module": "@jupyter-widgets/controls",
            "_model_module_version": "1.5.0",
            "_model_name": "ProgressStyleModel",
            "_view_count": null,
            "_view_module": "@jupyter-widgets/base",
            "_view_module_version": "1.2.0",
            "_view_name": "StyleView",
            "bar_color": null,
            "description_width": ""
          }
        },
        "9d02466ea47e477faad6c2ae5306be70": {
          "model_module": "@jupyter-widgets/base",
          "model_name": "LayoutModel",
          "model_module_version": "1.2.0",
          "state": {
            "_model_module": "@jupyter-widgets/base",
            "_model_module_version": "1.2.0",
            "_model_name": "LayoutModel",
            "_view_count": null,
            "_view_module": "@jupyter-widgets/base",
            "_view_module_version": "1.2.0",
            "_view_name": "LayoutView",
            "align_content": null,
            "align_items": null,
            "align_self": null,
            "border": null,
            "bottom": null,
            "display": null,
            "flex": null,
            "flex_flow": null,
            "grid_area": null,
            "grid_auto_columns": null,
            "grid_auto_flow": null,
            "grid_auto_rows": null,
            "grid_column": null,
            "grid_gap": null,
            "grid_row": null,
            "grid_template_areas": null,
            "grid_template_columns": null,
            "grid_template_rows": null,
            "height": null,
            "justify_content": null,
            "justify_items": null,
            "left": null,
            "margin": null,
            "max_height": null,
            "max_width": null,
            "min_height": null,
            "min_width": null,
            "object_fit": null,
            "object_position": null,
            "order": null,
            "overflow": null,
            "overflow_x": null,
            "overflow_y": null,
            "padding": null,
            "right": null,
            "top": null,
            "visibility": null,
            "width": null
          }
        },
        "35cf801753c04c398bc46c2e4cbb7064": {
          "model_module": "@jupyter-widgets/controls",
          "model_name": "DescriptionStyleModel",
          "model_module_version": "1.5.0",
          "state": {
            "_model_module": "@jupyter-widgets/controls",
            "_model_module_version": "1.5.0",
            "_model_name": "DescriptionStyleModel",
            "_view_count": null,
            "_view_module": "@jupyter-widgets/base",
            "_view_module_version": "1.2.0",
            "_view_name": "StyleView",
            "description_width": ""
          }
        },
        "1b6bd57ad6264ad997e067c004b023a4": {
          "model_module": "@jupyter-widgets/controls",
          "model_name": "HBoxModel",
          "model_module_version": "1.5.0",
          "state": {
            "_dom_classes": [],
            "_model_module": "@jupyter-widgets/controls",
            "_model_module_version": "1.5.0",
            "_model_name": "HBoxModel",
            "_view_count": null,
            "_view_module": "@jupyter-widgets/controls",
            "_view_module_version": "1.5.0",
            "_view_name": "HBoxView",
            "box_style": "",
            "children": [
              "IPY_MODEL_5d145cb15b654820a67b66159acc1b2e",
              "IPY_MODEL_075ff3455e6b4f98a85dcdc44aaae89a",
              "IPY_MODEL_593ae3e93adb458298714327070f5285"
            ],
            "layout": "IPY_MODEL_40618bb1b51149d2b2f2855030c6df5c"
          }
        },
        "5d145cb15b654820a67b66159acc1b2e": {
          "model_module": "@jupyter-widgets/controls",
          "model_name": "HTMLModel",
          "model_module_version": "1.5.0",
          "state": {
            "_dom_classes": [],
            "_model_module": "@jupyter-widgets/controls",
            "_model_module_version": "1.5.0",
            "_model_name": "HTMLModel",
            "_view_count": null,
            "_view_module": "@jupyter-widgets/controls",
            "_view_module_version": "1.5.0",
            "_view_name": "HTMLView",
            "description": "",
            "description_tooltip": null,
            "layout": "IPY_MODEL_851a5dd6b6004a5da8e2110c9ddbcda8",
            "placeholder": "​",
            "style": "IPY_MODEL_04b66e9587bd4a78b6006855a3c41ff9",
            "value": "tokenizer.json: 100%"
          }
        },
        "075ff3455e6b4f98a85dcdc44aaae89a": {
          "model_module": "@jupyter-widgets/controls",
          "model_name": "FloatProgressModel",
          "model_module_version": "1.5.0",
          "state": {
            "_dom_classes": [],
            "_model_module": "@jupyter-widgets/controls",
            "_model_module_version": "1.5.0",
            "_model_name": "FloatProgressModel",
            "_view_count": null,
            "_view_module": "@jupyter-widgets/controls",
            "_view_module_version": "1.5.0",
            "_view_name": "ProgressView",
            "bar_style": "success",
            "description": "",
            "description_tooltip": null,
            "layout": "IPY_MODEL_f5eb49ec60b44f6e9952c88e9b1e17de",
            "max": 1355256,
            "min": 0,
            "orientation": "horizontal",
            "style": "IPY_MODEL_e98ba431edce4082b07a541a212abb69",
            "value": 1355256
          }
        },
        "593ae3e93adb458298714327070f5285": {
          "model_module": "@jupyter-widgets/controls",
          "model_name": "HTMLModel",
          "model_module_version": "1.5.0",
          "state": {
            "_dom_classes": [],
            "_model_module": "@jupyter-widgets/controls",
            "_model_module_version": "1.5.0",
            "_model_name": "HTMLModel",
            "_view_count": null,
            "_view_module": "@jupyter-widgets/controls",
            "_view_module_version": "1.5.0",
            "_view_name": "HTMLView",
            "description": "",
            "description_tooltip": null,
            "layout": "IPY_MODEL_2ec5ceb4dd0443508b4adf222a0709cc",
            "placeholder": "​",
            "style": "IPY_MODEL_fb7e8c5149dc47a8aff69f82c1ed917f",
            "value": " 1.36M/1.36M [00:00&lt;00:00, 13.9MB/s]"
          }
        },
        "40618bb1b51149d2b2f2855030c6df5c": {
          "model_module": "@jupyter-widgets/base",
          "model_name": "LayoutModel",
          "model_module_version": "1.2.0",
          "state": {
            "_model_module": "@jupyter-widgets/base",
            "_model_module_version": "1.2.0",
            "_model_name": "LayoutModel",
            "_view_count": null,
            "_view_module": "@jupyter-widgets/base",
            "_view_module_version": "1.2.0",
            "_view_name": "LayoutView",
            "align_content": null,
            "align_items": null,
            "align_self": null,
            "border": null,
            "bottom": null,
            "display": null,
            "flex": null,
            "flex_flow": null,
            "grid_area": null,
            "grid_auto_columns": null,
            "grid_auto_flow": null,
            "grid_auto_rows": null,
            "grid_column": null,
            "grid_gap": null,
            "grid_row": null,
            "grid_template_areas": null,
            "grid_template_columns": null,
            "grid_template_rows": null,
            "height": null,
            "justify_content": null,
            "justify_items": null,
            "left": null,
            "margin": null,
            "max_height": null,
            "max_width": null,
            "min_height": null,
            "min_width": null,
            "object_fit": null,
            "object_position": null,
            "order": null,
            "overflow": null,
            "overflow_x": null,
            "overflow_y": null,
            "padding": null,
            "right": null,
            "top": null,
            "visibility": null,
            "width": null
          }
        },
        "851a5dd6b6004a5da8e2110c9ddbcda8": {
          "model_module": "@jupyter-widgets/base",
          "model_name": "LayoutModel",
          "model_module_version": "1.2.0",
          "state": {
            "_model_module": "@jupyter-widgets/base",
            "_model_module_version": "1.2.0",
            "_model_name": "LayoutModel",
            "_view_count": null,
            "_view_module": "@jupyter-widgets/base",
            "_view_module_version": "1.2.0",
            "_view_name": "LayoutView",
            "align_content": null,
            "align_items": null,
            "align_self": null,
            "border": null,
            "bottom": null,
            "display": null,
            "flex": null,
            "flex_flow": null,
            "grid_area": null,
            "grid_auto_columns": null,
            "grid_auto_flow": null,
            "grid_auto_rows": null,
            "grid_column": null,
            "grid_gap": null,
            "grid_row": null,
            "grid_template_areas": null,
            "grid_template_columns": null,
            "grid_template_rows": null,
            "height": null,
            "justify_content": null,
            "justify_items": null,
            "left": null,
            "margin": null,
            "max_height": null,
            "max_width": null,
            "min_height": null,
            "min_width": null,
            "object_fit": null,
            "object_position": null,
            "order": null,
            "overflow": null,
            "overflow_x": null,
            "overflow_y": null,
            "padding": null,
            "right": null,
            "top": null,
            "visibility": null,
            "width": null
          }
        },
        "04b66e9587bd4a78b6006855a3c41ff9": {
          "model_module": "@jupyter-widgets/controls",
          "model_name": "DescriptionStyleModel",
          "model_module_version": "1.5.0",
          "state": {
            "_model_module": "@jupyter-widgets/controls",
            "_model_module_version": "1.5.0",
            "_model_name": "DescriptionStyleModel",
            "_view_count": null,
            "_view_module": "@jupyter-widgets/base",
            "_view_module_version": "1.2.0",
            "_view_name": "StyleView",
            "description_width": ""
          }
        },
        "f5eb49ec60b44f6e9952c88e9b1e17de": {
          "model_module": "@jupyter-widgets/base",
          "model_name": "LayoutModel",
          "model_module_version": "1.2.0",
          "state": {
            "_model_module": "@jupyter-widgets/base",
            "_model_module_version": "1.2.0",
            "_model_name": "LayoutModel",
            "_view_count": null,
            "_view_module": "@jupyter-widgets/base",
            "_view_module_version": "1.2.0",
            "_view_name": "LayoutView",
            "align_content": null,
            "align_items": null,
            "align_self": null,
            "border": null,
            "bottom": null,
            "display": null,
            "flex": null,
            "flex_flow": null,
            "grid_area": null,
            "grid_auto_columns": null,
            "grid_auto_flow": null,
            "grid_auto_rows": null,
            "grid_column": null,
            "grid_gap": null,
            "grid_row": null,
            "grid_template_areas": null,
            "grid_template_columns": null,
            "grid_template_rows": null,
            "height": null,
            "justify_content": null,
            "justify_items": null,
            "left": null,
            "margin": null,
            "max_height": null,
            "max_width": null,
            "min_height": null,
            "min_width": null,
            "object_fit": null,
            "object_position": null,
            "order": null,
            "overflow": null,
            "overflow_x": null,
            "overflow_y": null,
            "padding": null,
            "right": null,
            "top": null,
            "visibility": null,
            "width": null
          }
        },
        "e98ba431edce4082b07a541a212abb69": {
          "model_module": "@jupyter-widgets/controls",
          "model_name": "ProgressStyleModel",
          "model_module_version": "1.5.0",
          "state": {
            "_model_module": "@jupyter-widgets/controls",
            "_model_module_version": "1.5.0",
            "_model_name": "ProgressStyleModel",
            "_view_count": null,
            "_view_module": "@jupyter-widgets/base",
            "_view_module_version": "1.2.0",
            "_view_name": "StyleView",
            "bar_color": null,
            "description_width": ""
          }
        },
        "2ec5ceb4dd0443508b4adf222a0709cc": {
          "model_module": "@jupyter-widgets/base",
          "model_name": "LayoutModel",
          "model_module_version": "1.2.0",
          "state": {
            "_model_module": "@jupyter-widgets/base",
            "_model_module_version": "1.2.0",
            "_model_name": "LayoutModel",
            "_view_count": null,
            "_view_module": "@jupyter-widgets/base",
            "_view_module_version": "1.2.0",
            "_view_name": "LayoutView",
            "align_content": null,
            "align_items": null,
            "align_self": null,
            "border": null,
            "bottom": null,
            "display": null,
            "flex": null,
            "flex_flow": null,
            "grid_area": null,
            "grid_auto_columns": null,
            "grid_auto_flow": null,
            "grid_auto_rows": null,
            "grid_column": null,
            "grid_gap": null,
            "grid_row": null,
            "grid_template_areas": null,
            "grid_template_columns": null,
            "grid_template_rows": null,
            "height": null,
            "justify_content": null,
            "justify_items": null,
            "left": null,
            "margin": null,
            "max_height": null,
            "max_width": null,
            "min_height": null,
            "min_width": null,
            "object_fit": null,
            "object_position": null,
            "order": null,
            "overflow": null,
            "overflow_x": null,
            "overflow_y": null,
            "padding": null,
            "right": null,
            "top": null,
            "visibility": null,
            "width": null
          }
        },
        "fb7e8c5149dc47a8aff69f82c1ed917f": {
          "model_module": "@jupyter-widgets/controls",
          "model_name": "DescriptionStyleModel",
          "model_module_version": "1.5.0",
          "state": {
            "_model_module": "@jupyter-widgets/controls",
            "_model_module_version": "1.5.0",
            "_model_name": "DescriptionStyleModel",
            "_view_count": null,
            "_view_module": "@jupyter-widgets/base",
            "_view_module_version": "1.2.0",
            "_view_name": "StyleView",
            "description_width": ""
          }
        },
        "7f5365cbbde1411fa7d0ee9af31729ff": {
          "model_module": "@jupyter-widgets/controls",
          "model_name": "HBoxModel",
          "model_module_version": "1.5.0",
          "state": {
            "_dom_classes": [],
            "_model_module": "@jupyter-widgets/controls",
            "_model_module_version": "1.5.0",
            "_model_name": "HBoxModel",
            "_view_count": null,
            "_view_module": "@jupyter-widgets/controls",
            "_view_module_version": "1.5.0",
            "_view_name": "HBoxView",
            "box_style": "",
            "children": [
              "IPY_MODEL_e8782b74ea204674b6a530717764f03c",
              "IPY_MODEL_bf7378348aec4670b196b985aee462ae",
              "IPY_MODEL_22fdde3153554687853ec308ca6c7150"
            ],
            "layout": "IPY_MODEL_3125c256f78b4710ba96caf31f6890de"
          }
        },
        "e8782b74ea204674b6a530717764f03c": {
          "model_module": "@jupyter-widgets/controls",
          "model_name": "HTMLModel",
          "model_module_version": "1.5.0",
          "state": {
            "_dom_classes": [],
            "_model_module": "@jupyter-widgets/controls",
            "_model_module_version": "1.5.0",
            "_model_name": "HTMLModel",
            "_view_count": null,
            "_view_module": "@jupyter-widgets/controls",
            "_view_module_version": "1.5.0",
            "_view_name": "HTMLView",
            "description": "",
            "description_tooltip": null,
            "layout": "IPY_MODEL_46f415f562e94c8f98f1a3c21ab77240",
            "placeholder": "​",
            "style": "IPY_MODEL_bb01a0615c5348c298ac04cc7ced1594",
            "value": "config.json: 100%"
          }
        },
        "bf7378348aec4670b196b985aee462ae": {
          "model_module": "@jupyter-widgets/controls",
          "model_name": "FloatProgressModel",
          "model_module_version": "1.5.0",
          "state": {
            "_dom_classes": [],
            "_model_module": "@jupyter-widgets/controls",
            "_model_module_version": "1.5.0",
            "_model_name": "FloatProgressModel",
            "_view_count": null,
            "_view_module": "@jupyter-widgets/controls",
            "_view_module_version": "1.5.0",
            "_view_name": "ProgressView",
            "bar_style": "success",
            "description": "",
            "description_tooltip": null,
            "layout": "IPY_MODEL_f4566c34dcaa41648d0402624e1657f6",
            "max": 665,
            "min": 0,
            "orientation": "horizontal",
            "style": "IPY_MODEL_1ba58c99123e4f63a2cabb94ef94c94e",
            "value": 665
          }
        },
        "22fdde3153554687853ec308ca6c7150": {
          "model_module": "@jupyter-widgets/controls",
          "model_name": "HTMLModel",
          "model_module_version": "1.5.0",
          "state": {
            "_dom_classes": [],
            "_model_module": "@jupyter-widgets/controls",
            "_model_module_version": "1.5.0",
            "_model_name": "HTMLModel",
            "_view_count": null,
            "_view_module": "@jupyter-widgets/controls",
            "_view_module_version": "1.5.0",
            "_view_name": "HTMLView",
            "description": "",
            "description_tooltip": null,
            "layout": "IPY_MODEL_2107fcb4920e4259858e98c588a1a78a",
            "placeholder": "​",
            "style": "IPY_MODEL_4f5291bb01024e0ca9f404559005d7b9",
            "value": " 665/665 [00:00&lt;00:00, 17.2kB/s]"
          }
        },
        "3125c256f78b4710ba96caf31f6890de": {
          "model_module": "@jupyter-widgets/base",
          "model_name": "LayoutModel",
          "model_module_version": "1.2.0",
          "state": {
            "_model_module": "@jupyter-widgets/base",
            "_model_module_version": "1.2.0",
            "_model_name": "LayoutModel",
            "_view_count": null,
            "_view_module": "@jupyter-widgets/base",
            "_view_module_version": "1.2.0",
            "_view_name": "LayoutView",
            "align_content": null,
            "align_items": null,
            "align_self": null,
            "border": null,
            "bottom": null,
            "display": null,
            "flex": null,
            "flex_flow": null,
            "grid_area": null,
            "grid_auto_columns": null,
            "grid_auto_flow": null,
            "grid_auto_rows": null,
            "grid_column": null,
            "grid_gap": null,
            "grid_row": null,
            "grid_template_areas": null,
            "grid_template_columns": null,
            "grid_template_rows": null,
            "height": null,
            "justify_content": null,
            "justify_items": null,
            "left": null,
            "margin": null,
            "max_height": null,
            "max_width": null,
            "min_height": null,
            "min_width": null,
            "object_fit": null,
            "object_position": null,
            "order": null,
            "overflow": null,
            "overflow_x": null,
            "overflow_y": null,
            "padding": null,
            "right": null,
            "top": null,
            "visibility": null,
            "width": null
          }
        },
        "46f415f562e94c8f98f1a3c21ab77240": {
          "model_module": "@jupyter-widgets/base",
          "model_name": "LayoutModel",
          "model_module_version": "1.2.0",
          "state": {
            "_model_module": "@jupyter-widgets/base",
            "_model_module_version": "1.2.0",
            "_model_name": "LayoutModel",
            "_view_count": null,
            "_view_module": "@jupyter-widgets/base",
            "_view_module_version": "1.2.0",
            "_view_name": "LayoutView",
            "align_content": null,
            "align_items": null,
            "align_self": null,
            "border": null,
            "bottom": null,
            "display": null,
            "flex": null,
            "flex_flow": null,
            "grid_area": null,
            "grid_auto_columns": null,
            "grid_auto_flow": null,
            "grid_auto_rows": null,
            "grid_column": null,
            "grid_gap": null,
            "grid_row": null,
            "grid_template_areas": null,
            "grid_template_columns": null,
            "grid_template_rows": null,
            "height": null,
            "justify_content": null,
            "justify_items": null,
            "left": null,
            "margin": null,
            "max_height": null,
            "max_width": null,
            "min_height": null,
            "min_width": null,
            "object_fit": null,
            "object_position": null,
            "order": null,
            "overflow": null,
            "overflow_x": null,
            "overflow_y": null,
            "padding": null,
            "right": null,
            "top": null,
            "visibility": null,
            "width": null
          }
        },
        "bb01a0615c5348c298ac04cc7ced1594": {
          "model_module": "@jupyter-widgets/controls",
          "model_name": "DescriptionStyleModel",
          "model_module_version": "1.5.0",
          "state": {
            "_model_module": "@jupyter-widgets/controls",
            "_model_module_version": "1.5.0",
            "_model_name": "DescriptionStyleModel",
            "_view_count": null,
            "_view_module": "@jupyter-widgets/base",
            "_view_module_version": "1.2.0",
            "_view_name": "StyleView",
            "description_width": ""
          }
        },
        "f4566c34dcaa41648d0402624e1657f6": {
          "model_module": "@jupyter-widgets/base",
          "model_name": "LayoutModel",
          "model_module_version": "1.2.0",
          "state": {
            "_model_module": "@jupyter-widgets/base",
            "_model_module_version": "1.2.0",
            "_model_name": "LayoutModel",
            "_view_count": null,
            "_view_module": "@jupyter-widgets/base",
            "_view_module_version": "1.2.0",
            "_view_name": "LayoutView",
            "align_content": null,
            "align_items": null,
            "align_self": null,
            "border": null,
            "bottom": null,
            "display": null,
            "flex": null,
            "flex_flow": null,
            "grid_area": null,
            "grid_auto_columns": null,
            "grid_auto_flow": null,
            "grid_auto_rows": null,
            "grid_column": null,
            "grid_gap": null,
            "grid_row": null,
            "grid_template_areas": null,
            "grid_template_columns": null,
            "grid_template_rows": null,
            "height": null,
            "justify_content": null,
            "justify_items": null,
            "left": null,
            "margin": null,
            "max_height": null,
            "max_width": null,
            "min_height": null,
            "min_width": null,
            "object_fit": null,
            "object_position": null,
            "order": null,
            "overflow": null,
            "overflow_x": null,
            "overflow_y": null,
            "padding": null,
            "right": null,
            "top": null,
            "visibility": null,
            "width": null
          }
        },
        "1ba58c99123e4f63a2cabb94ef94c94e": {
          "model_module": "@jupyter-widgets/controls",
          "model_name": "ProgressStyleModel",
          "model_module_version": "1.5.0",
          "state": {
            "_model_module": "@jupyter-widgets/controls",
            "_model_module_version": "1.5.0",
            "_model_name": "ProgressStyleModel",
            "_view_count": null,
            "_view_module": "@jupyter-widgets/base",
            "_view_module_version": "1.2.0",
            "_view_name": "StyleView",
            "bar_color": null,
            "description_width": ""
          }
        },
        "2107fcb4920e4259858e98c588a1a78a": {
          "model_module": "@jupyter-widgets/base",
          "model_name": "LayoutModel",
          "model_module_version": "1.2.0",
          "state": {
            "_model_module": "@jupyter-widgets/base",
            "_model_module_version": "1.2.0",
            "_model_name": "LayoutModel",
            "_view_count": null,
            "_view_module": "@jupyter-widgets/base",
            "_view_module_version": "1.2.0",
            "_view_name": "LayoutView",
            "align_content": null,
            "align_items": null,
            "align_self": null,
            "border": null,
            "bottom": null,
            "display": null,
            "flex": null,
            "flex_flow": null,
            "grid_area": null,
            "grid_auto_columns": null,
            "grid_auto_flow": null,
            "grid_auto_rows": null,
            "grid_column": null,
            "grid_gap": null,
            "grid_row": null,
            "grid_template_areas": null,
            "grid_template_columns": null,
            "grid_template_rows": null,
            "height": null,
            "justify_content": null,
            "justify_items": null,
            "left": null,
            "margin": null,
            "max_height": null,
            "max_width": null,
            "min_height": null,
            "min_width": null,
            "object_fit": null,
            "object_position": null,
            "order": null,
            "overflow": null,
            "overflow_x": null,
            "overflow_y": null,
            "padding": null,
            "right": null,
            "top": null,
            "visibility": null,
            "width": null
          }
        },
        "4f5291bb01024e0ca9f404559005d7b9": {
          "model_module": "@jupyter-widgets/controls",
          "model_name": "DescriptionStyleModel",
          "model_module_version": "1.5.0",
          "state": {
            "_model_module": "@jupyter-widgets/controls",
            "_model_module_version": "1.5.0",
            "_model_name": "DescriptionStyleModel",
            "_view_count": null,
            "_view_module": "@jupyter-widgets/base",
            "_view_module_version": "1.2.0",
            "_view_name": "StyleView",
            "description_width": ""
          }
        }
      }
    }
  },
  "cells": [
    {
      "cell_type": "markdown",
      "source": [
        "# Understand your LLM with Mechanistic Interpretability and Visualizations\n",
        "\n",
        "After developing a language model like MiniGPT, a rigorous and systematic evaluation becomes essential to understand its capabilities/limitations, and identify opportunities for refinement. Below, I outline the essential methods for rigorously assessing the model’s performance:\n",
        "\n",
        "> **Perplexity -**This metric gauges how well the model predicts the next word in a sequence. A lower perplexity score signals stronger language modeling — it can be thought as the model’s confidence level in its predictions.\n",
        "\n",
        "> **Loss Tracking –** By keeping an eye on training loss, we can track how effectively the model learns over epochs.\n",
        "\n",
        "> **Attention Analysis –** To gain a deeper understanding of the model’s decision-making process, visualization techniques such as heatmaps or network graphs can be employed to examine attention weights. This method elucidates how MiniGPT allocates focus across input sequences, enhancing the interpretability of its behavior.\n",
        "\n",
        "> **Embedding Visualization –** Mapping learned embeddings (e.g., using t-SNE or PCA) helps interpret how the model clusters words and captures semantic relationships.\n",
        "\n",
        "> **Human Evaluation -** To assess qualitative performance, human evaluators score the model’s responses to carefully selected prompts based on criteria such as fluency, coherence, and relevance.\n",
        "\n",
        "Together, these methods don’t just measure performance—they unlock insights into how MiniGPT interprets language, paving the way for smarter, more transparent AI."
      ],
      "metadata": {
        "id": "Qn-Jc5DWlOG7"
      }
    },
    {
      "cell_type": "code",
      "execution_count": 2,
      "metadata": {
        "id": "AKx16cF2VKh5",
        "colab": {
          "base_uri": "https://localhost:8080/"
        },
        "outputId": "39978d1b-692c-4969-e7c4-757cad67353d"
      },
      "outputs": [
        {
          "output_type": "stream",
          "name": "stdout",
          "text": [
            "\u001b[2K     \u001b[90m━━━━━━━━━━━━━━━━━━━━━━━━━━━━━━━━━━━━━━━━\u001b[0m \u001b[32m40.4/40.4 kB\u001b[0m \u001b[31m1.5 MB/s\u001b[0m eta \u001b[36m0:00:00\u001b[0m\n",
            "\u001b[2K   \u001b[90m━━━━━━━━━━━━━━━━━━━━━━━━━━━━━━━━━━━━━━━━\u001b[0m \u001b[32m815.2/815.2 kB\u001b[0m \u001b[31m13.0 MB/s\u001b[0m eta \u001b[36m0:00:00\u001b[0m\n",
            "\u001b[2K   \u001b[90m━━━━━━━━━━━━━━━━━━━━━━━━━━━━━━━━━━━━━━━━\u001b[0m \u001b[32m363.4/363.4 MB\u001b[0m \u001b[31m1.3 MB/s\u001b[0m eta \u001b[36m0:00:00\u001b[0m\n",
            "\u001b[2K   \u001b[90m━━━━━━━━━━━━━━━━━━━━━━━━━━━━━━━━━━━━━━━━\u001b[0m \u001b[32m13.8/13.8 MB\u001b[0m \u001b[31m31.3 MB/s\u001b[0m eta \u001b[36m0:00:00\u001b[0m\n",
            "\u001b[2K   \u001b[90m━━━━━━━━━━━━━━━━━━━━━━━━━━━━━━━━━━━━━━━━\u001b[0m \u001b[32m24.6/24.6 MB\u001b[0m \u001b[31m10.7 MB/s\u001b[0m eta \u001b[36m0:00:00\u001b[0m\n",
            "\u001b[2K   \u001b[90m━━━━━━━━━━━━━━━━━━━━━━━━━━━━━━━━━━━━━━━━\u001b[0m \u001b[32m883.7/883.7 kB\u001b[0m \u001b[31m10.6 MB/s\u001b[0m eta \u001b[36m0:00:00\u001b[0m\n",
            "\u001b[2K   \u001b[90m━━━━━━━━━━━━━━━━━━━━━━━━━━━━━━━━━━━━━━━━\u001b[0m \u001b[32m664.8/664.8 MB\u001b[0m \u001b[31m2.5 MB/s\u001b[0m eta \u001b[36m0:00:00\u001b[0m\n",
            "\u001b[2K   \u001b[90m━━━━━━━━━━━━━━━━━━━━━━━━━━━━━━━━━━━━━━━━\u001b[0m \u001b[32m211.5/211.5 MB\u001b[0m \u001b[31m5.7 MB/s\u001b[0m eta \u001b[36m0:00:00\u001b[0m\n",
            "\u001b[2K   \u001b[90m━━━━━━━━━━━━━━━━━━━━━━━━━━━━━━━━━━━━━━━━\u001b[0m \u001b[32m56.3/56.3 MB\u001b[0m \u001b[31m11.7 MB/s\u001b[0m eta \u001b[36m0:00:00\u001b[0m\n",
            "\u001b[2K   \u001b[90m━━━━━━━━━━━━━━━━━━━━━━━━━━━━━━━━━━━━━━━━\u001b[0m \u001b[32m127.9/127.9 MB\u001b[0m \u001b[31m7.0 MB/s\u001b[0m eta \u001b[36m0:00:00\u001b[0m\n",
            "\u001b[2K   \u001b[90m━━━━━━━━━━━━━━━━━━━━━━━━━━━━━━━━━━━━━━━━\u001b[0m \u001b[32m207.5/207.5 MB\u001b[0m \u001b[31m5.8 MB/s\u001b[0m eta \u001b[36m0:00:00\u001b[0m\n",
            "\u001b[2K   \u001b[90m━━━━━━━━━━━━━━━━━━━━━━━━━━━━━━━━━━━━━━━━\u001b[0m \u001b[32m21.1/21.1 MB\u001b[0m \u001b[31m49.9 MB/s\u001b[0m eta \u001b[36m0:00:00\u001b[0m\n",
            "\u001b[2K   \u001b[90m━━━━━━━━━━━━━━━━━━━━━━━━━━━━━━━━━━━━━━━━\u001b[0m \u001b[32m931.7/931.7 kB\u001b[0m \u001b[31m25.2 MB/s\u001b[0m eta \u001b[36m0:00:00\u001b[0m\n",
            "\u001b[2K   \u001b[90m━━━━━━━━━━━━━━━━━━━━━━━━━━━━━━━━━━━━━━━━\u001b[0m \u001b[32m819.3/819.3 kB\u001b[0m \u001b[31m30.7 MB/s\u001b[0m eta \u001b[36m0:00:00\u001b[0m\n",
            "\u001b[?25h"
          ]
        }
      ],
      "source": [
        "# Import relevant libraries\n",
        "\n",
        "! pip install -q lightning\n",
        "\n",
        "import numpy as np\n",
        "import matplotlib.pyplot as plt\n",
        "from sklearn.manifold import TSNE\n",
        "import time\n",
        "import warnings\n",
        "\n",
        "import torch\n",
        "import torch.nn as nn\n",
        "import torch.nn.functional as F\n",
        "\n",
        "from torch.optim import Adam\n",
        "from torch.utils.data import TensorDataset, DataLoader\n",
        "\n",
        "import lightning as L\n",
        "# Ignore all warnings\n",
        "warnings.filterwarnings(\"ignore\")"
      ]
    },
    {
      "cell_type": "markdown",
      "source": [
        "## Position encoding"
      ],
      "metadata": {
        "id": "lym2W7-bVl9x"
      }
    },
    {
      "cell_type": "code",
      "source": [
        "class PositionEncoding(nn.Module):\n",
        "    def __init__(self, d_model=2, max_len=6):\n",
        "        super().__init__()\n",
        "        pe = torch.zeros(max_len, d_model)\n",
        "\n",
        "        # Precompute positional encodings\n",
        "        position = torch.arange(max_len, dtype=torch.float).unsqueeze(1)  # [max_len, 1]\n",
        "        div_term = torch.exp(torch.arange(0, d_model, 2, dtype=torch.float) * (-torch.log(torch.tensor(10000.0)) / d_model))\n",
        "\n",
        "        pe[:, 0::2] = torch.sin(position * div_term)\n",
        "        pe[:, 1::2] = torch.cos(position * div_term)\n",
        "\n",
        "        # Add batch dimension for broadcasting: [1, max_len, d_model]\n",
        "        pe = pe.unsqueeze(0)\n",
        "        self.register_buffer('pe', pe)\n",
        "\n",
        "    def forward(self, word_embeddings):\n",
        "        \"\"\"\n",
        "        Add positional encodings to batched word embeddings.\n",
        "        Args:\n",
        "            word_embeddings: [batch_size, seq_len, d_model]\n",
        "        Returns:\n",
        "            [batch_size, seq_len, d_model]\n",
        "        \"\"\"\n",
        "        seq_len = word_embeddings.size(1)  # Get sequence length from dim 1\n",
        "        # Slice pe to match seq_len: [1, seq_len, d_model]\n",
        "        pe_slice = self.pe[:, :seq_len, :]\n",
        "        # Broadcasting adds pe to each sequence in the batch\n",
        "        return word_embeddings + pe_slice"
      ],
      "metadata": {
        "id": "B2TTJymDVmAQ"
      },
      "execution_count": 3,
      "outputs": []
    },
    {
      "cell_type": "markdown",
      "source": [
        "## Multihead Attention Block"
      ],
      "metadata": {
        "id": "snKmSsOeVmCj"
      }
    },
    {
      "cell_type": "code",
      "source": [
        "class MultiHeadAttention(nn.Module):\n",
        "    def __init__(self, d_model=2, num_heads=2):\n",
        "        super().__init__()\n",
        "        assert d_model % num_heads == 0, \"d_model must be divisible by num_heads\"\n",
        "        self.d_model = d_model\n",
        "        self.num_heads = num_heads\n",
        "        self.d_k = d_model // num_heads  # Dimension per head\n",
        "\n",
        "        # Linear projections for queries, keys, values, and output\n",
        "        self.W_q = nn.Linear(d_model, d_model, bias=False)\n",
        "        self.W_k = nn.Linear(d_model, d_model, bias=False)\n",
        "        self.W_v = nn.Linear(d_model, d_model, bias=False)\n",
        "        self.W_o = nn.Linear(d_model, d_model, bias=False)\n",
        "\n",
        "        # Add attribute to store attention weights\n",
        "        self.attention_percents = None\n",
        "\n",
        "    def forward(self, encodings_for_q, encodings_for_k, encodings_for_v, mask=None):\n",
        "        batch_size, seq_len, _ = encodings_for_q.shape  # Shape: [batch_size, seq_len, d_model]\n",
        "\n",
        "        # Linear projections\n",
        "        q = self.W_q(encodings_for_q)  # [batch_size, seq_len, d_model]\n",
        "        k = self.W_k(encodings_for_k)  # [batch_size, seq_len, d_model]\n",
        "        v = self.W_v(encodings_for_v)  # [batch_size, seq_len, d_model]\n",
        "\n",
        "        # Split into heads: [batch_size, num_heads, seq_len, d_k]\n",
        "        q = q.view(batch_size, seq_len, self.num_heads, self.d_k).transpose(1, 2)\n",
        "        k = k.view(batch_size, seq_len, self.num_heads, self.d_k).transpose(1, 2)\n",
        "        v = v.view(batch_size, seq_len, self.num_heads, self.d_k).transpose(1, 2)\n",
        "\n",
        "        # Compute attention scores: [batch_size, num_heads, seq_len, seq_len]\n",
        "        sims = torch.matmul(q, k.transpose(-2, -1)) / (self.d_k ** 0.5)\n",
        "\n",
        "        # Apply mask if provided\n",
        "        if mask is not None:\n",
        "            mask = mask.unsqueeze(1)  # [batch_size, 1, seq_len, seq_len] for broadcasting\n",
        "            sims = sims.masked_fill(mask, -1e9)\n",
        "\n",
        "        # Softmax to get attention weights\n",
        "        attention_percents = F.softmax(sims, dim=-1)\n",
        "        # Store the attention weights\n",
        "        self.attention_percents = attention_percents\n",
        "\n",
        "        # Compute attention output: [batch_size, num_heads, seq_len, d_k]\n",
        "        attention_output = torch.matmul(attention_percents, v)\n",
        "\n",
        "        # Concatenate heads: [batch_size, seq_len, d_model]\n",
        "        attention_output = attention_output.transpose(1, 2).contiguous().view(batch_size, seq_len, self.d_model)\n",
        "\n",
        "        # Final linear projection: [batch_size, seq_len, d_model]\n",
        "        output = self.W_o(attention_output)\n",
        "        return output"
      ],
      "metadata": {
        "id": "ApEGZEUMVmE7"
      },
      "execution_count": 4,
      "outputs": []
    },
    {
      "cell_type": "markdown",
      "source": [
        "## Decoder layer"
      ],
      "metadata": {
        "id": "EHToCUSlVmHX"
      }
    },
    {
      "cell_type": "code",
      "source": [
        "class DecoderLayer(nn.Module):\n",
        "    def __init__(self, d_model=2, num_heads=2, d_ff=8, dropout=0.1):\n",
        "        super().__init__()\n",
        "        self.self_attention = MultiHeadAttention(d_model=d_model, num_heads=num_heads)\n",
        "        self.norm1 = nn.LayerNorm(d_model)\n",
        "        self.dropout = nn.Dropout(dropout)\n",
        "        self.ffn = nn.Sequential(\n",
        "            nn.Linear(d_model, d_ff),\n",
        "            nn.ReLU(),\n",
        "            nn.Dropout(dropout),\n",
        "            nn.Linear(d_ff, d_model)\n",
        "        )\n",
        "        self.norm2 = nn.LayerNorm(d_model)\n",
        "\n",
        "    def forward(self, x, mask=None):\n",
        "        # Self-attention sub-layer\n",
        "        attn_output = self.self_attention(x, x, x, mask)\n",
        "        x = self.norm1(x + self.dropout(attn_output))  # Residual + norm\n",
        "\n",
        "        # Feed-forward sub-layer\n",
        "        ffn_output = self.ffn(x)\n",
        "        x = self.norm2(x + self.dropout(ffn_output))  # Residual + norm\n",
        "        return x"
      ],
      "metadata": {
        "id": "N0u_WZD7VxEz"
      },
      "execution_count": 5,
      "outputs": []
    },
    {
      "cell_type": "markdown",
      "source": [
        "## Decoder Only Transformer - Main class"
      ],
      "metadata": {
        "id": "v0AHnbRzVxHl"
      }
    },
    {
      "cell_type": "code",
      "source": [
        "class DecoderOnlyTransformer(L.LightningModule):\n",
        "    def __init__(self, num_tokens=4, d_model=2, num_heads=2, num_layers=6, d_ff=8, max_len=6, dropout=0.1):\n",
        "        super().__init__()\n",
        "        L.seed_everything(seed=42)\n",
        "        self.num_tokens = num_tokens\n",
        "        self.d_model = d_model\n",
        "\n",
        "        # Embedding and positional encoding\n",
        "        self.we = nn.Embedding(num_embeddings=num_tokens, embedding_dim=d_model)\n",
        "        self.pe = PositionEncoding(d_model=d_model, max_len=max_len)\n",
        "        self.dropout = nn.Dropout(dropout)\n",
        "\n",
        "        # Stack 6 decoder layers\n",
        "        self.layers = nn.ModuleList([\n",
        "            DecoderLayer(d_model=d_model, num_heads=num_heads, d_ff=d_ff, dropout=dropout)\n",
        "            for _ in range(num_layers)\n",
        "        ])\n",
        "\n",
        "        # Output layer\n",
        "        self.fc_layer = nn.Linear(d_model, num_tokens)\n",
        "        self.loss = nn.CrossEntropyLoss(ignore_index=0)\n",
        "\n",
        "    def forward(self, token_ids, attention_mask=None):\n",
        "        batch_size, seq_len = token_ids.shape\n",
        "\n",
        "        # Embeddings and positional encoding\n",
        "        word_embeddings = self.we(token_ids)  # [batch_size, seq_len, d_model]\n",
        "        x = self.pe(word_embeddings)\n",
        "        x = self.dropout(x)\n",
        "\n",
        "        # Create masks\n",
        "        causal_mask = torch.tril(torch.ones(seq_len, seq_len)).to(token_ids.device) == 0\n",
        "        causal_mask = causal_mask.unsqueeze(0).expand(batch_size, -1, -1)\n",
        "        if attention_mask is None:\n",
        "            padding_mask = (token_ids == 0).unsqueeze(1).expand(-1, seq_len, -1)\n",
        "        else:\n",
        "            padding_mask = (attention_mask == 0).unsqueeze(1).expand(-1, seq_len, -1)\n",
        "        final_mask = causal_mask | padding_mask\n",
        "\n",
        "        # Pass through 6 stacked layers\n",
        "        for layer in self.layers:\n",
        "            x = layer(x, mask=final_mask)  # [batch_size, seq_len, d_model]\n",
        "\n",
        "        # Final output\n",
        "        fc_layer_output = self.fc_layer(x)  # [batch_size, seq_len, num_tokens]\n",
        "        return fc_layer_output\n",
        "\n",
        "    def configure_optimizers(self):\n",
        "        return torch.optim.Adam(self.parameters(), lr=0.00025)\n",
        "\n",
        "    def training_step(self, batch, batch_idx):\n",
        "        input_tokens, labels = batch\n",
        "        output = self.forward(input_tokens)\n",
        "        loss = self.loss(output.view(-1, self.num_tokens), labels.view(-1))\n",
        "        self.log(\"train_loss\", loss, prog_bar=True)\n",
        "        return loss"
      ],
      "metadata": {
        "id": "3IBUyvxOVxJt"
      },
      "execution_count": 6,
      "outputs": []
    },
    {
      "cell_type": "markdown",
      "source": [
        "## Get training data"
      ],
      "metadata": {
        "id": "-VpkhLFOVxL_"
      }
    },
    {
      "cell_type": "code",
      "source": [
        "! pip install -q datasets\n",
        "! pip install -q contractions\n",
        "\n",
        "from datasets import load_dataset\n",
        "import nltk\n",
        "import regex as re\n",
        "from contractions import contractions_dict\n",
        "import torch\n",
        "import numpy as np\n",
        "import pandas as pd\n",
        "from torch.nn.utils.rnn import pad_sequence\n",
        "from torch.utils.data import DataLoader\n",
        "from tqdm import tqdm"
      ],
      "metadata": {
        "id": "57xE12GIVxOg",
        "colab": {
          "base_uri": "https://localhost:8080/"
        },
        "outputId": "8056e7da-979b-430d-805d-a291ea16feb0"
      },
      "execution_count": 7,
      "outputs": [
        {
          "output_type": "stream",
          "name": "stdout",
          "text": [
            "\u001b[2K   \u001b[90m━━━━━━━━━━━━━━━━━━━━━━━━━━━━━━━━━━━━━━━━\u001b[0m \u001b[32m487.4/487.4 kB\u001b[0m \u001b[31m6.8 MB/s\u001b[0m eta \u001b[36m0:00:00\u001b[0m\n",
            "\u001b[2K   \u001b[90m━━━━━━━━━━━━━━━━━━━━━━━━━━━━━━━━━━━━━━━━\u001b[0m \u001b[32m116.3/116.3 kB\u001b[0m \u001b[31m2.8 MB/s\u001b[0m eta \u001b[36m0:00:00\u001b[0m\n",
            "\u001b[2K   \u001b[90m━━━━━━━━━━━━━━━━━━━━━━━━━━━━━━━━━━━━━━━━\u001b[0m \u001b[32m143.5/143.5 kB\u001b[0m \u001b[31m4.0 MB/s\u001b[0m eta \u001b[36m0:00:00\u001b[0m\n",
            "\u001b[2K   \u001b[90m━━━━━━━━━━━━━━━━━━━━━━━━━━━━━━━━━━━━━━━━\u001b[0m \u001b[32m194.8/194.8 kB\u001b[0m \u001b[31m7.8 MB/s\u001b[0m eta \u001b[36m0:00:00\u001b[0m\n",
            "\u001b[2K   \u001b[90m━━━━━━━━━━━━━━━━━━━━━━━━━━━━━━━━━━━━━━━━\u001b[0m \u001b[32m289.9/289.9 kB\u001b[0m \u001b[31m4.2 MB/s\u001b[0m eta \u001b[36m0:00:00\u001b[0m\n",
            "\u001b[2K   \u001b[90m━━━━━━━━━━━━━━━━━━━━━━━━━━━━━━━━━━━━━━━━\u001b[0m \u001b[32m118.3/118.3 kB\u001b[0m \u001b[31m7.1 MB/s\u001b[0m eta \u001b[36m0:00:00\u001b[0m\n",
            "\u001b[?25h"
          ]
        }
      ]
    },
    {
      "cell_type": "code",
      "source": [
        "# Install required libraries\n",
        "from datasets import load_dataset\n",
        "import os\n",
        "\n",
        "def clean_text(text):\n",
        "    # Optional: Remove special characters (keep if meaningful)\n",
        "    text = re.sub(r'[^a-zA-Z\\s.,!?]', '', text)\n",
        "    # Optional: Lowercase (skip if preserving case like GPT-1)\n",
        "    text = text.lower()\n",
        "    # Remove extra whitespace and normalize\n",
        "    text = re.sub(r'\\s+', ' ', text.strip())\n",
        "\n",
        "    return text\n",
        "\n",
        "# !pip install -q datasets\n",
        "\n",
        "def get_roc_stories(num_stories):\n",
        "    file_path = \"ROC_data_train.txt\"\n",
        "\n",
        "    with open(file_path, 'r', encoding='utf-8') as file:\n",
        "        # Read the entire file and split by double newline\n",
        "        raw_stories = file.read().strip().split('\\n')\n",
        "    stories_list = []\n",
        "    for each in raw_stories:\n",
        "        clened_text = clean_text(each)\n",
        "        stories_list.append(clened_text)\n",
        "    if num_stories == \"All\":\n",
        "        return stories_list\n",
        "    return stories_list[:num_stories]"
      ],
      "metadata": {
        "id": "DpgwXG6SVxQ2"
      },
      "execution_count": 8,
      "outputs": []
    },
    {
      "cell_type": "code",
      "source": [
        "# Get token_to_id and id_to_token\n",
        "# Tokenize all stories and count unique tokens\n",
        "def get_dicts_from_stories(stories):\n",
        "  from collections import Counter\n",
        "  all_tokens = []\n",
        "  for story in stories:\n",
        "      tokens = tokenizer.tokenize(story)\n",
        "      all_tokens.extend(tokens)\n",
        "\n",
        "  # Build a reduced vocabulary\n",
        "  token_counts = Counter(all_tokens)\n",
        "  seen_vocab = {token: idx+1 for idx, (token, _) in enumerate(token_counts.items())}\n",
        "  seen_vocab[\"<pad>\"] = 0  # Add padding token\n",
        "  token_to_id = seen_vocab\n",
        "  id_to_token = {idx: token for token, idx in token_to_id.items()}\n",
        "  return token_to_id, id_to_token"
      ],
      "metadata": {
        "id": "zh28jZeDVmJh"
      },
      "execution_count": 9,
      "outputs": []
    },
    {
      "cell_type": "code",
      "source": [
        "def prepare_inputs_labels_from_stories(stories,t_to_i,max_len_local):\n",
        "  inputs_list = []\n",
        "  labels_list = []\n",
        "\n",
        "  for story in stories:\n",
        "      tokens_global = tokenizer.tokenize(story)\n",
        "                        #  , truncation=True, max_length=max_len_local, return_tensors=\"pt\")[\"input_ids\"].squeeze(0)\n",
        "      tokens = [t_to_i.get(token, t_to_i[\"<pad>\"]) for token in tokens_global]\n",
        "      if len(tokens) < 2:  # Skip if too short\n",
        "          continue\n",
        "      # Input: all but last token, Label: all but first token\n",
        "      input_ids = torch.tensor(tokens[:-1][:max_len_local])\n",
        "      label_ids = torch.tensor(tokens[1:][:max_len_local])\n",
        "      # Pad to max_len\n",
        "      padding_length = max_len_local - len(input_ids)\n",
        "      if padding_length > 0:\n",
        "          input_ids = torch.cat([input_ids, torch.full((padding_length,), 0)]) #pad_token_id = 0\n",
        "          label_ids = torch.cat([label_ids, torch.full((padding_length,), 0)]) #pad_token_id = 0\n",
        "      inputs_list.append(input_ids)\n",
        "      labels_list.append(label_ids)\n",
        "  inputs_list_tensor = torch.stack(inputs_list)\n",
        "  labels_list_tensor = torch.stack(labels_list)\n",
        "  return inputs_list_tensor, labels_list_tensor"
      ],
      "metadata": {
        "id": "S45MN7BPV74X"
      },
      "execution_count": 10,
      "outputs": []
    },
    {
      "cell_type": "code",
      "source": [
        "# BPE tokenizer from transformers import T5Tokenizer\n",
        "from transformers import GPT2Tokenizer\n",
        "# Load tokenizer\n",
        "# Note we are using the tokenizer used in GPT2 for better performance instead of keeping tokens = words\n",
        "tokenizer = GPT2Tokenizer.from_pretrained(\"gpt2\")\n",
        "tokenizer.pad_token = tokenizer.eos_token  # Set pad token as EOS"
      ],
      "metadata": {
        "id": "ldMW_lsjV761",
        "colab": {
          "base_uri": "https://localhost:8080/",
          "height": 177,
          "referenced_widgets": [
            "c5b2fda598714d8caf2a3c4eae8a2038",
            "dc6961ac613b4639be422927b8d8b48e",
            "013fd78d14074ae6827e7d7549b8f36a",
            "6c15201f691144f3884db339dc695be0",
            "b60eef4e352e4e9aacf390fe74b787d9",
            "a2060d60e7464e89907791ab145bae64",
            "c328c34edebe4845b0fe31388b13a06f",
            "91ef0addcefb46d184b94a79eb58d92c",
            "9df6883a746a4405b817b8cf28802bc7",
            "b7337578e3d1427eabb2333bfbeecd93",
            "d3ba7e0bf74444449805583e5a0a6f05",
            "65989754c11048dba98da2aafb1c1b48",
            "6ba223ef10404b0c95b6dc5c866f4214",
            "6083eacb72624d15b469d81f597e71cf",
            "360fae1834e74955936774ad90c47a04",
            "8136171f191d40c99dc622679ced02f5",
            "e994e52728144ea0873db8a89bb59dd8",
            "2e45519c65094940a36ef3073f3b94ae",
            "a58b19a7df94469c9566bf8893b00cc0",
            "92048a405b2641debdf45263895998c7",
            "25a83224f20d4040aeaae5d07c2505e7",
            "9ebac70a65f24b64992e7b713fc1af0f",
            "62ed808bce054a0588a4e938e262fb74",
            "bbf0fe461c99440d9403c262605b0465",
            "c038cbc3cc63418f8a491eb21a439e9b",
            "71544807e90144c7a2768b9a0418db65",
            "3f9682d9de05489bb41171cf132fdb5d",
            "f0b30929fac24602b04753d1ff03aa55",
            "76237923bf2e4e229c9f78b4f3319904",
            "69f9ec1ba7c94989838bdbd1f044b4a5",
            "3bc3a1d1b07e43878526fcd92d96f845",
            "9d02466ea47e477faad6c2ae5306be70",
            "35cf801753c04c398bc46c2e4cbb7064",
            "1b6bd57ad6264ad997e067c004b023a4",
            "5d145cb15b654820a67b66159acc1b2e",
            "075ff3455e6b4f98a85dcdc44aaae89a",
            "593ae3e93adb458298714327070f5285",
            "40618bb1b51149d2b2f2855030c6df5c",
            "851a5dd6b6004a5da8e2110c9ddbcda8",
            "04b66e9587bd4a78b6006855a3c41ff9",
            "f5eb49ec60b44f6e9952c88e9b1e17de",
            "e98ba431edce4082b07a541a212abb69",
            "2ec5ceb4dd0443508b4adf222a0709cc",
            "fb7e8c5149dc47a8aff69f82c1ed917f",
            "7f5365cbbde1411fa7d0ee9af31729ff",
            "e8782b74ea204674b6a530717764f03c",
            "bf7378348aec4670b196b985aee462ae",
            "22fdde3153554687853ec308ca6c7150",
            "3125c256f78b4710ba96caf31f6890de",
            "46f415f562e94c8f98f1a3c21ab77240",
            "bb01a0615c5348c298ac04cc7ced1594",
            "f4566c34dcaa41648d0402624e1657f6",
            "1ba58c99123e4f63a2cabb94ef94c94e",
            "2107fcb4920e4259858e98c588a1a78a",
            "4f5291bb01024e0ca9f404559005d7b9"
          ]
        },
        "outputId": "9f9314e1-e49b-4649-f8f1-c6496718d272"
      },
      "execution_count": 11,
      "outputs": [
        {
          "output_type": "display_data",
          "data": {
            "text/plain": [
              "tokenizer_config.json:   0%|          | 0.00/26.0 [00:00<?, ?B/s]"
            ],
            "application/vnd.jupyter.widget-view+json": {
              "version_major": 2,
              "version_minor": 0,
              "model_id": "c5b2fda598714d8caf2a3c4eae8a2038"
            }
          },
          "metadata": {}
        },
        {
          "output_type": "display_data",
          "data": {
            "text/plain": [
              "vocab.json:   0%|          | 0.00/1.04M [00:00<?, ?B/s]"
            ],
            "application/vnd.jupyter.widget-view+json": {
              "version_major": 2,
              "version_minor": 0,
              "model_id": "65989754c11048dba98da2aafb1c1b48"
            }
          },
          "metadata": {}
        },
        {
          "output_type": "display_data",
          "data": {
            "text/plain": [
              "merges.txt:   0%|          | 0.00/456k [00:00<?, ?B/s]"
            ],
            "application/vnd.jupyter.widget-view+json": {
              "version_major": 2,
              "version_minor": 0,
              "model_id": "62ed808bce054a0588a4e938e262fb74"
            }
          },
          "metadata": {}
        },
        {
          "output_type": "display_data",
          "data": {
            "text/plain": [
              "tokenizer.json:   0%|          | 0.00/1.36M [00:00<?, ?B/s]"
            ],
            "application/vnd.jupyter.widget-view+json": {
              "version_major": 2,
              "version_minor": 0,
              "model_id": "1b6bd57ad6264ad997e067c004b023a4"
            }
          },
          "metadata": {}
        },
        {
          "output_type": "display_data",
          "data": {
            "text/plain": [
              "config.json:   0%|          | 0.00/665 [00:00<?, ?B/s]"
            ],
            "application/vnd.jupyter.widget-view+json": {
              "version_major": 2,
              "version_minor": 0,
              "model_id": "7f5365cbbde1411fa7d0ee9af31729ff"
            }
          },
          "metadata": {}
        }
      ]
    },
    {
      "cell_type": "markdown",
      "source": [
        "## Get final data"
      ],
      "metadata": {
        "id": "RGO2prS8V79J"
      }
    },
    {
      "cell_type": "code",
      "source": [
        "n = 5000\n",
        "stories = get_roc_stories(5000)\n",
        "print(\"Stories:\",len(stories))\n",
        "token_to_id, id_to_token = get_dicts_from_stories(stories)\n",
        "len(token_to_id), len(id_to_token)"
      ],
      "metadata": {
        "colab": {
          "base_uri": "https://localhost:8080/"
        },
        "id": "b2ZOAlHkWFB3",
        "outputId": "0d2104b6-02be-405d-e55c-67436824c62e"
      },
      "execution_count": 12,
      "outputs": [
        {
          "output_type": "stream",
          "name": "stdout",
          "text": [
            "Stories: 5000\n"
          ]
        },
        {
          "output_type": "execute_result",
          "data": {
            "text/plain": [
              "(10411, 10411)"
            ]
          },
          "metadata": {},
          "execution_count": 12
        }
      ]
    },
    {
      "cell_type": "code",
      "source": [
        "context_len = 512\n",
        "a,b = prepare_inputs_labels_from_stories(stories,token_to_id,context_len)\n",
        "print(len(a), a.shape)\n",
        "dataset_new = TensorDataset(a, b)\n",
        "dataloader = DataLoader(dataset_new, batch_size=32, shuffle=True, pin_memory=True, num_workers=2)"
      ],
      "metadata": {
        "colab": {
          "base_uri": "https://localhost:8080/"
        },
        "id": "qVvqzXP8WFEX",
        "outputId": "58b14c5d-1f0e-4e2e-8228-8d000d889094"
      },
      "execution_count": 16,
      "outputs": [
        {
          "output_type": "stream",
          "name": "stdout",
          "text": [
            "5000 torch.Size([5000, 512])\n"
          ]
        }
      ]
    },
    {
      "cell_type": "code",
      "source": [
        "import nltk\n",
        "nltk.download('punkt')\n",
        "nltk.download('averaged_perceptron_tagger')\n",
        "nltk.download('punkt_tab') # This line downloads the missing resource\n",
        "nltk.download('averaged_perceptron_tagger_eng') # Download the required resource\n",
        "\n",
        "from nltk.tokenize import word_tokenize\n",
        "from nltk import pos_tag\n",
        "\n",
        "word_count_dict = {}\n",
        "for each in stories:\n",
        "  word_list = each.replace('.','').split(' ')\n",
        "  for word in word_list:\n",
        "    word_count_dict[word] = word_count_dict.get(word,0) + 1\n",
        "# stories[0].replace('.','').split(' ')\n",
        "word_count_dict_sorted = dict(sorted(word_count_dict.items(), key=lambda item: item[1], reverse=True))\n",
        "\n",
        "pos_dict = {}\n",
        "for each in word_count_dict_sorted.keys():\n",
        "  pos = pos_tag([each])[0][1]\n",
        "  if pos not in pos_dict:\n",
        "    pos_dict[pos] = []\n",
        "  pos_dict[pos].append(each)"
      ],
      "metadata": {
        "id": "pEBR5ANWL5VY"
      },
      "execution_count": 13,
      "outputs": []
    },
    {
      "cell_type": "code",
      "source": [
        "print(pos_dict.keys(),\"\\n\", pos_dict['NN'] [0:10])"
      ],
      "metadata": {
        "colab": {
          "base_uri": "https://localhost:8080/"
        },
        "collapsed": true,
        "id": "Bs_-81xZWCjz",
        "outputId": "8108e5cc-223c-4da3-c759-2370206f5616"
      },
      "execution_count": 39,
      "outputs": [
        {
          "output_type": "stream",
          "name": "stdout",
          "text": [
            "dict_keys(['DT', 'TO', 'VBD', 'PRP', 'CC', 'PRP$', 'IN', 'NN', 'RB', 'CD', 'WRB', 'JJ', 'MD', 'VB', 'VBZ', 'NNS', 'VBN', 'VBG', 'RBR', 'WP', 'JJS', 'VBP', ',', 'WDT', 'JJR', '.']) \n",
            " ['i', 'day', 'home', 'time', 'didnt', 'found', 'told', 'work', 'saw', 'school']\n"
          ]
        }
      ]
    },
    {
      "cell_type": "markdown",
      "source": [
        "# Build miniGPT model"
      ],
      "metadata": {
        "id": "UUEOsvkDWFG_"
      }
    },
    {
      "cell_type": "code",
      "source": [
        "model = DecoderOnlyTransformer(num_tokens= len(token_to_id), d_model = 256,num_heads=16, num_layers=2, d_ff=512, max_len = context_len, dropout=0.1)"
      ],
      "metadata": {
        "colab": {
          "base_uri": "https://localhost:8080/"
        },
        "id": "vJJhkdqcV7_e",
        "outputId": "c81810f9-b8ef-494f-e02c-68fc12061e8a"
      },
      "execution_count": 17,
      "outputs": [
        {
          "output_type": "stream",
          "name": "stderr",
          "text": [
            "INFO: Seed set to 42\n",
            "INFO:lightning.fabric.utilities.seed:Seed set to 42\n"
          ]
        }
      ]
    },
    {
      "cell_type": "markdown",
      "source": [
        "## Train the model"
      ],
      "metadata": {
        "id": "JfMLLkYem7Oy"
      }
    },
    {
      "cell_type": "code",
      "source": [
        "# Ensure Google Drive is mounted\n",
        "import os\n",
        "# from google.colab import drive\n",
        "# drive.mount('/content/drive')\n",
        "\n",
        "from lightning.pytorch.loggers import CSVLogger\n",
        "save_loc_my_drive = \"<path to save model>\"\n",
        "logger = CSVLogger(save_dir=save_loc_my_drive, name=\"training_logs\")\n",
        "\n",
        "class SaveCheckpointCallback(L.Callback):\n",
        "    def __init__(self, save_freq=2, save_dir=save_loc_my_drive):\n",
        "        super().__init__()\n",
        "        self.save_freq = save_freq\n",
        "        self.save_dir = save_dir\n",
        "        # Create directory if it doesn't exist\n",
        "        os.makedirs(self.save_dir, exist_ok=True)\n",
        "        # print(f\"Initialized callback with save_dir: {self.save_dir}\")\n",
        "\n",
        "    def on_train_epoch_end(self, trainer, pl_module):\n",
        "        epoch = trainer.current_epoch\n",
        "        # print(f\"Epoch {epoch + 1} ended\")  # Debug to confirm callback is called\n",
        "        if (epoch + 1) % self.save_freq == 0:\n",
        "            # print(\"Now is the time to save the model\")  # Debug save trigger\n",
        "            checkpoint = {\n",
        "                'epoch': epoch + 1,\n",
        "                'model_state_dict': pl_module.state_dict(),\n",
        "                'optimizer_state_dict': trainer.optimizers[0].state_dict(),\n",
        "            }\n",
        "            filename = f\"day_6_model_{epoch + 1}.pt\"\n",
        "            try:\n",
        "                torch.save(checkpoint, filename)\n",
        "                print(f\"Saved checkpoint at {epoch + 1}: {filename}\")\n",
        "            except Exception as e:\n",
        "                print(f\"Failed to save checkpoint: {e}\")\n",
        "\n",
        "# Training setup\n",
        "checkpoint_callback = SaveCheckpointCallback(save_freq=25, save_dir=save_loc_my_drive)\n",
        "trainer = L.Trainer(\n",
        "    max_epochs=200,\n",
        "    callbacks=[checkpoint_callback],\n",
        "    accelerator=\"auto\",\n",
        "    devices=1,\n",
        "    enable_progress_bar=True,\n",
        "    logger=logger,  # Add the logger here\n",
        ")\n",
        "trainer.fit(model, train_dataloaders=dataloader)"
      ],
      "metadata": {
        "colab": {
          "base_uri": "https://localhost:8080/"
        },
        "id": "fqne-1k3nJpJ",
        "outputId": "d86da703-7759-40e7-9fce-0c2e14c7b4a0"
      },
      "execution_count": 40,
      "outputs": [
        {
          "output_type": "stream",
          "name": "stdout",
          "text": [
            "INFO: GPU available: True (cuda), used: True\n",
            "INFO: TPU available: False, using: 0 TPU cores\n",
            "INFO: HPU available: False, using: 0 HPUs\n",
            "INFO: LOCAL_RANK: 0 - CUDA_VISIBLE_DEVICES: [0]\n",
            "INFO: \n",
            "  | Name     | Type             | Params | Mode \n",
            "------------------------------------------------------\n",
            "0 | we       | Embedding        | 2.7 M  | train\n",
            "1 | pe       | PositionEncoding | 0      | train\n",
            "2 | dropout  | Dropout          | 0      | train\n",
            "3 | layers   | ModuleList       | 1.1 M  | train\n",
            "4 | fc_layer | Linear           | 2.7 M  | train\n",
            "5 | loss     | CrossEntropyLoss | 0      | train\n",
            "------------------------------------------------------\n",
            "6.4 M     Trainable params\n",
            "0         Non-trainable params\n",
            "6.4 M     Total params\n",
            "25.572    Total estimated model params size (MB)\n",
            "34        Modules in train mode\n",
            "0         Modules in eval mode\n",
            "Training: |          | 200/200 [00:25<00:00,  6.19it/s, v_num=1, train_loss=0.939\n",
            "Saved checkpoint at 25: day_6_model_25.pt\n",
            "Saved checkpoint at 50: day_6_model_50.pt\n",
            "Saved checkpoint at 75: day_6_model_75.pt\n",
            "Saved checkpoint at 100: day_6_model_100.pt\n",
            "Saved checkpoint at 125: day_6_model_125.pt\n",
            "Saved checkpoint at 150: day_6_model_150.pt\n",
            "Saved checkpoint at 175: day_6_model_175.pt\n",
            "Saved checkpoint at 200: day_6_model_200.pt\n",
            "INFO: `Trainer.fit` stopped: `max_epochs=200` reached.\n"
          ]
        }
      ]
    },
    {
      "cell_type": "markdown",
      "source": [
        "# 1. Get Loss curve"
      ],
      "metadata": {
        "id": "xZScJ8P8SeRl"
      }
    },
    {
      "cell_type": "code",
      "source": [
        "import pandas as pd\n",
        "import matplotlib.pyplot as plt\n",
        "\n",
        "# this is a saved csv based on the logger in trainini\n",
        "metrics = pd.read_csv(\"metrics_final.csv\")\n",
        "\n",
        "epoch_losses = metrics\n",
        "plt.plot(epoch_losses[\"epoch\"], epoch_losses[\"train_loss\"])\n",
        "plt.xlabel(\"Epoch\")\n",
        "plt.ylabel(\"Average Training Loss\")\n",
        "plt.title(\"MiniGPT Training Loss Over Epochs\", fontsize = 16)\n",
        "plt.show()"
      ],
      "metadata": {
        "colab": {
          "base_uri": "https://localhost:8080/",
          "height": 474
        },
        "id": "N_hlum91SeY_",
        "outputId": "b5184bb7-5a29-4cf9-df5c-915409a566f0"
      },
      "execution_count": 23,
      "outputs": [
        {
          "output_type": "display_data",
          "data": {
            "text/plain": [
              "<Figure size 640x480 with 1 Axes>"
            ],
            "image/png": "[encoded data removed]"
          },
          "metadata": {}
        }
      ]
    },
    {
      "cell_type": "markdown",
      "source": [
        "# 2. Evaluate Perplexity"
      ],
      "metadata": {
        "id": "y52Wsv-gcPf5"
      }
    },
    {
      "cell_type": "code",
      "source": [
        "def compute_perplexity(model, dataloader):\n",
        "    model.eval()\n",
        "    total_loss = 0\n",
        "    total_samples = 0\n",
        "    with torch.no_grad():\n",
        "        ct = 0\n",
        "        for input_ids, label_ids in dataloader:\n",
        "            ct +=1\n",
        "            logits = model(input_ids)\n",
        "            loss = model.loss(logits.view(-1, model.num_tokens), label_ids.view(-1))\n",
        "            total_loss += loss.item() * input_ids.size(0)\n",
        "            total_samples += input_ids.size(0)\n",
        "            if ct % 20 == 0:\n",
        "              break\n",
        "    avg_loss = total_loss / total_samples\n",
        "    perplexity = torch.exp(torch.tensor(avg_loss))\n",
        "    return perplexity"
      ],
      "metadata": {
        "id": "zz2XizCQcPiB"
      },
      "execution_count": 24,
      "outputs": []
    },
    {
      "cell_type": "code",
      "source": [
        "# Perplexity over\n",
        "def load_saved_model(i):\n",
        "  checkpoint_path = os.path.join(f'day_6_model_{i}.pt') #save_loc_my_drive, #day_6_Gutenburg_test_4_model_\n",
        "  checkpoint = torch.load(checkpoint_path, map_location=torch.device('cpu'))\n",
        "  model.load_state_dict(checkpoint['model_state_dict'])\n",
        "  return model"
      ],
      "metadata": {
        "id": "qo0vA56MYQd-"
      },
      "execution_count": 28,
      "outputs": []
    },
    {
      "cell_type": "code",
      "source": [
        "perplexity_track = []\n",
        "for each in range(25,225,25):\n",
        "  # model = load_saved_model(each)\n",
        "  model = load_saved_model(each)\n",
        "  model.eval()\n",
        "  perplexity = compute_perplexity(model, dataloader)\n",
        "  print(f\"Model iterations {each} and Perplexity: {perplexity:.2f}\")\n",
        "  perplexity_track.append(perplexity)\n",
        "# Set the model to evaluation mode (important for inference)\n",
        "# model.eval()"
      ],
      "metadata": {
        "colab": {
          "base_uri": "https://localhost:8080/"
        },
        "id": "DnZtqmMJYh6C",
        "outputId": "74d64e35-3204-4e6b-8ad3-2db5b23b665f"
      },
      "execution_count": 29,
      "outputs": [
        {
          "output_type": "stream",
          "name": "stdout",
          "text": [
            "Model iterations 25 and Perplexity: 15.20\n",
            "Model iterations 50 and Perplexity: 4.96\n",
            "Model iterations 75 and Perplexity: 2.88\n",
            "Model iterations 100 and Perplexity: 2.15\n",
            "Model iterations 125 and Perplexity: 1.79\n",
            "Model iterations 150 and Perplexity: 1.56\n",
            "Model iterations 175 and Perplexity: 1.43\n",
            "Model iterations 200 and Perplexity: 1.34\n"
          ]
        }
      ]
    },
    {
      "cell_type": "code",
      "source": [
        "plt.plot(range(25,225,25), perplexity_track)\n",
        "plt.xlabel(\"Epoch\")\n",
        "plt.ylabel(\"Perplexity\")\n",
        "plt.title(\"MiniGPT Perplexity over Epochs\", fontsize = 16)\n",
        "plt.show()"
      ],
      "metadata": {
        "colab": {
          "base_uri": "https://localhost:8080/",
          "height": 474
        },
        "id": "d5SpWHlYShL5",
        "outputId": "dab90f8d-61d5-4db9-8700-c167391838a9"
      },
      "execution_count": 31,
      "outputs": [
        {
          "output_type": "display_data",
          "data": {
            "text/plain": [
              "<Figure size 640x480 with 1 Axes>"
            ],
            "image/png": "[encoded data removed]"
          },
          "metadata": {}
        }
      ]
    },
    {
      "cell_type": "markdown",
      "source": [
        "# 3. Human Evaluation - Model inference"
      ],
      "metadata": {
        "id": "04Inr9gSWLY7"
      }
    },
    {
      "cell_type": "code",
      "source": [
        "def model_inference(model, prompt,token_to_id,response_type, temperature,sentences):\n",
        "    tokens_big = tokenizer.tokenize(prompt)\n",
        "    prompt_tokens = [token_to_id.get(token, token_to_id[\"<pad>\"]) for token in tokens_big]\n",
        "    # print the prompt\n",
        "    print(\"\\033[91mPrompt:\\033[0m\")\n",
        "    print(prompt)\n",
        "\n",
        "    # response_type : 1 = Fixed\n",
        "    torch.manual_seed(42)  # Fix random seed\n",
        "    model.eval()           # Disable dropout and batch norm\n",
        "    model_input = torch.tensor(prompt_tokens) #, token_to_id[\"is\"], token_to_id[\"where\"]\n",
        "\n",
        "    model_input = model_input.unsqueeze(0)  # Shape: [1, seq_len]\n",
        "    input_length = model_input.size(dim=1)  # Now use dim=1 for seq_len\n",
        "    predictions = model(model_input)\n",
        "    def pred_by_distribution(pred,temp):\n",
        "        g = torch.Generator().manual_seed(1)\n",
        "        prob = torch.softmax(pred[0][-1,:]/temp, dim=-1)\n",
        "        pred_id = torch.multinomial(prob, num_samples=1, generator = g)\n",
        "        return pred_id\n",
        "    if response_type == 1:\n",
        "        predicted_id = torch.tensor([torch.argmax(predictions[0][-1,:])])\n",
        "    else:\n",
        "        predicted_id = pred_by_distribution(predictions,temperature)\n",
        "    predicted_ids = predicted_id\n",
        "\n",
        "    sent_ct = 0\n",
        "    while True:\n",
        "        if predicted_id == token_to_id[\".\"]:\n",
        "            sent_ct +=1\n",
        "        if sent_ct == sentences:\n",
        "            break\n",
        "        model_input = torch.cat((model_input, predicted_id.unsqueeze(0)), dim=1)\n",
        "        predictions = model(model_input)\n",
        "        if response_type == 1:\n",
        "            predicted_id = torch.tensor([torch.argmax(predictions[0][-1,:])])\n",
        "        else:\n",
        "            predicted_id = pred_by_distribution(predictions,temperature)\n",
        "        predicted_ids = torch.cat((predicted_ids, predicted_id))\n",
        "\n",
        "    # print(\"Model Response:\")\n",
        "    print(\"\\033[94mModel Response:\\033[0m\")\n",
        "    for each in predicted_ids:\n",
        "        print(id_to_token[each.item()].replace('Ġ', ''), end=\" \", flush=True)\n",
        "        if id_to_token[each.item()] == \".\":\n",
        "            print()\n",
        "        time.sleep(.2)"
      ],
      "metadata": {
        "id": "7Sn0b7CsWLbW"
      },
      "execution_count": 32,
      "outputs": []
    },
    {
      "cell_type": "code",
      "source": [
        "# Load the saved models and run inference\n",
        "checkpoint_path = os.path.join('day_6_model_200.pt') #save_loc_my_drive,\n",
        "checkpoint = torch.load(checkpoint_path, map_location=torch.device('cpu'))\n",
        "# Load the model state_dict\n",
        "model.load_state_dict(checkpoint['model_state_dict'])\n",
        "# Set the model to evaluation mode (important for inference)\n",
        "model.eval()"
      ],
      "metadata": {
        "id": "m7BE1-mepjtB"
      },
      "execution_count": null,
      "outputs": []
    },
    {
      "cell_type": "markdown",
      "source": [
        "## Human evaluation - prompt responses from the trained MiniGPT model"
      ],
      "metadata": {
        "id": "8VUYgMADeFy2"
      }
    },
    {
      "cell_type": "code",
      "source": [
        "# Prompt - 1\n",
        "prompt = \"i love the sound of autotuned vocals.\"\n",
        "model_inference(model, prompt,token_to_id,response_type = 1,temperature = 1,sentences = 3)"
      ],
      "metadata": {
        "colab": {
          "base_uri": "https://localhost:8080/"
        },
        "id": "OOZw5mcTcPdK",
        "outputId": "200c1e65-94a5-472f-ccec-ebb5db0bc73a"
      },
      "execution_count": 33,
      "outputs": [
        {
          "output_type": "stream",
          "name": "stdout",
          "text": [
            "\u001b[91mPrompt:\u001b[0m\n",
            "i love the sound of autotuned vocals.\n",
            "\u001b[94mModel Response:\u001b[0m\n",
            "i bought my own recording equipment for singing . \n",
            "i also bought some audio software so i could aut ot une myself . \n",
            "my tracks all turned out silly and erratic . \n"
          ]
        }
      ]
    },
    {
      "cell_type": "code",
      "source": [
        "# Prompt - 2\n",
        "prompt = \"i woke up am in the morning.\"\n",
        "model_inference(model, prompt,token_to_id,response_type = 2,temperature = 0.1,sentences = 6)"
      ],
      "metadata": {
        "colab": {
          "base_uri": "https://localhost:8080/"
        },
        "id": "TILIO_U1ShOu",
        "outputId": "6de717ce-4697-4368-e0de-ca284cbde075"
      },
      "execution_count": 34,
      "outputs": [
        {
          "output_type": "stream",
          "name": "stdout",
          "text": [
            "\u001b[91mPrompt:\u001b[0m\n",
            "i woke up am in the morning.\n",
            "\u001b[94mModel Response:\u001b[0m\n",
            "i prepared breakfast and got a glass of milk . \n",
            "there was no cereal . \n",
            "i looked inside and saw a strange object . \n",
            "i looked in the mirror . \n",
            "i decided to call it out , where i could go . \n",
            "now i miss anything in it and ruined . \n"
          ]
        }
      ]
    },
    {
      "cell_type": "code",
      "source": [
        "# Prompt - 3\n",
        "prompt = \"one sunny day the sky suddenly became dark and cloudy.\"\n",
        "model_inference(model, prompt,token_to_id,response_type = 2,temperature = 0.5,sentences = 4)"
      ],
      "metadata": {
        "colab": {
          "base_uri": "https://localhost:8080/"
        },
        "id": "dVx-A6qsShRR",
        "outputId": "750e33fb-1d2e-4008-b88b-61f7d0be93a8"
      },
      "execution_count": 35,
      "outputs": [
        {
          "output_type": "stream",
          "name": "stdout",
          "text": [
            "\u001b[91mPrompt:\u001b[0m\n",
            "one sunny day the sky suddenly became dark and cloudy.\n",
            "\u001b[94mModel Response:\u001b[0m\n",
            "this change in weather caught ke lly by surprise . \n",
            "she ran for cover under trees as she could . \n",
            "she chose the house next day . \n",
            "she ran straight to the ground and j ay went back to her room . \n"
          ]
        }
      ]
    },
    {
      "cell_type": "code",
      "source": [
        "# Prompt - 4\n",
        "prompt = \"my friend and i went\"\n",
        "model_inference(model, prompt,token_to_id,response_type = 2,temperature = 1,sentences = 4)"
      ],
      "metadata": {
        "colab": {
          "base_uri": "https://localhost:8080/"
        },
        "id": "H4h2cY49Sebv",
        "outputId": "71236f58-e6b8-4589-bfa5-3d4856c4a2db"
      },
      "execution_count": 36,
      "outputs": [
        {
          "output_type": "stream",
          "name": "stdout",
          "text": [
            "\u001b[91mPrompt:\u001b[0m\n",
            "my friend and i went\n",
            "\u001b[94mModel Response:\u001b[0m\n",
            "to the beach . \n",
            "we watched the sunset . \n",
            "they saw a mountain lake and went home . \n",
            "we saw a nice seafood salad . \n"
          ]
        }
      ]
    },
    {
      "cell_type": "markdown",
      "source": [
        "# 4. Embedding Visualization"
      ],
      "metadata": {
        "id": "fkU4frU8EvTS"
      }
    },
    {
      "cell_type": "code",
      "source": [
        "# Variable to store embeddings\n",
        "final_embeddings = None\n",
        "\n",
        "# Define a hook to capture the input to fc_layer\n",
        "def hook_fn(module, input, output):\n",
        "    global final_embeddings\n",
        "    final_embeddings = input[0]  # input[0] is the tensor before fc_layer\n",
        "\n",
        "# Register the hook on fc_layer\n",
        "hook = model.fc_layer.register_forward_hook(hook_fn)\n",
        "\n",
        "# Run forward pass\n",
        "# prompt = \"the animal did not cross the street because it was too tired\"\n",
        "prompt = \"cat dog king man queen woman girl boy he she they pasta jar salad pizza\" #perplexity=6 works best\n",
        "# prompt = \"cat dog king man queen woman he she they pasta jar salad pizza\"\n",
        "\n",
        "# prompt = \"cat dog king man queen woman pasta salad pizza find search look\"\n",
        "\n",
        "tokens_big = tokenizer.tokenize(prompt)\n",
        "prompt_tokens = [token_to_id.get(token, token_to_id[\"<pad>\"]) for token in tokens_big]\n",
        "tok_prompt = [id_to_token[each].replace('Ġ','') for each in prompt_tokens]\n",
        "\n",
        "\n",
        "token_ids = torch.tensor([prompt_tokens])  # \"the cat sat\"\n",
        "with torch.no_grad():\n",
        "    _ = model(token_ids)  # Normal forward pass to trigger the hook\n",
        "\n",
        "# Remove the hook (optional, if you only need it once)\n",
        "hook.remove()\n",
        "\n",
        "# Check the embeddings\n",
        "print(final_embeddings.shape)  # torch.Size([1, 3, 2])\n",
        "# print(final_embeddings)"
      ],
      "metadata": {
        "colab": {
          "base_uri": "https://localhost:8080/"
        },
        "id": "iaLWCWK1EyP3",
        "outputId": "579ee5a9-fb72-4960-b863-e6cdbc49f6ae"
      },
      "execution_count": 19,
      "outputs": [
        {
          "output_type": "stream",
          "name": "stdout",
          "text": [
            "torch.Size([1, 15, 256])\n"
          ]
        }
      ]
    },
    {
      "cell_type": "code",
      "source": [
        "# pos_dict.keys()\n",
        "pos_dict['VB']"
      ],
      "metadata": {
        "colab": {
          "base_uri": "https://localhost:8080/"
        },
        "collapsed": true,
        "id": "I7K-6sE3WVMw",
        "outputId": "e42eb99a-d66e-4786-8732-3b7016164aec"
      },
      "execution_count": null,
      "outputs": [
        {
          "output_type": "execute_result",
          "data": {
            "text/plain": [
              "['get',\n",
              " 'go',\n",
              " 'be',\n",
              " 'have',\n",
              " 'make',\n",
              " 'see',\n",
              " 'find',\n",
              " 'do',\n",
              " 'buy',\n",
              " 'take',\n",
              " 'know',\n",
              " 'let',\n",
              " 'come',\n",
              " 'give',\n",
              " 'run',\n",
              " 'leave',\n",
              " 'keep',\n",
              " 'believe',\n",
              " 'save',\n",
              " 'lose',\n",
              " 'ken',\n",
              " 'say',\n",
              " 'slow',\n",
              " 'remember',\n",
              " 'realize',\n",
              " 'kitten',\n",
              " 'pen',\n",
              " 'happen',\n",
              " 'improve',\n",
              " 'eaten',\n",
              " 'replace',\n",
              " 'apply',\n",
              " 'add',\n",
              " 'recognize',\n",
              " 'remove',\n",
              " 'follow',\n",
              " 'expect',\n",
              " 'develop',\n",
              " 'allow',\n",
              " 'apologize',\n",
              " 'participate',\n",
              " 'kindergarten',\n",
              " 'reduce',\n",
              " 'settle',\n",
              " 'rotten',\n",
              " 'epipen',\n",
              " 'traumatize',\n",
              " 'qualify',\n",
              " 'appear',\n",
              " 'ostracize',\n",
              " 'succeed',\n",
              " 'obtain',\n",
              " 'assume',\n",
              " 'kindle',\n",
              " 'tranquilize',\n",
              " 'rationalize',\n",
              " 'rectify',\n",
              " 'consider',\n",
              " 'socialize',\n",
              " 'aspen']"
            ]
          },
          "metadata": {},
          "execution_count": 60
        }
      ]
    },
    {
      "cell_type": "code",
      "source": [
        "len(tok_prompt)"
      ],
      "metadata": {
        "colab": {
          "base_uri": "https://localhost:8080/"
        },
        "id": "_rZNDHXhHPSM",
        "outputId": "1db49a5e-2ce6-4ce9-dc03-5e336eaaa579"
      },
      "execution_count": 224,
      "outputs": [
        {
          "output_type": "execute_result",
          "data": {
            "text/plain": [
              "15"
            ]
          },
          "metadata": {},
          "execution_count": 224
        }
      ]
    },
    {
      "cell_type": "code",
      "source": [
        "from sklearn.decomposition import PCA\n",
        "import matplotlib.pyplot as plt\n",
        "\n",
        "# Flatten embeddings for PCA (if multiple sequences, concatenate them)\n",
        "embeddings_np = final_embeddings.squeeze(0).cpu().numpy()  # [3, 2]\n",
        "pca = PCA(n_components=2)\n",
        "embeddings_2d = pca.fit_transform(embeddings_np)\n",
        "\n",
        "# Plot\n",
        "tokens = tok_prompt\n",
        "plt.scatter(embeddings_2d[:, 0], embeddings_2d[:, 1])\n",
        "for i, token in enumerate(tokens):\n",
        "    plt.annotate(token, (embeddings_2d[i, 0], embeddings_2d[i, 1]))\n",
        "plt.title(\"Trained miniGPT Word Embeddings (PCA)\")\n",
        "plt.show()\n"
      ],
      "metadata": {
        "colab": {
          "base_uri": "https://localhost:8080/",
          "height": 452
        },
        "id": "YPioomxNEyWe",
        "outputId": "d6b5d530-b925-44ad-d3cc-6feef01753c4"
      },
      "execution_count": 21,
      "outputs": [
        {
          "output_type": "display_data",
          "data": {
            "text/plain": [
              "<Figure size 640x480 with 1 Axes>"
            ],
            "image/png": "[encoded data removed]"
          },
          "metadata": {}
        }
      ]
    },
    {
      "cell_type": "code",
      "source": [
        "from sklearn.manifold import TSNE\n",
        "from sklearn.preprocessing import StandardScaler\n",
        "embeddings_np = final_embeddings.squeeze(0).cpu().numpy()  # [3, 2]\n",
        "tsne = TSNE(n_components=2, random_state=42, perplexity=6, n_iter=1000)\n",
        "tsne_2d = tsne.fit_transform(embeddings_np)\n",
        "scaler = StandardScaler()\n",
        "\n",
        "embeddings_2d = scaler.fit_transform(tsne_2d)\n",
        "# Plot\n",
        "tokens = tok_prompt\n",
        "plt.scatter(embeddings_2d[:, 0], embeddings_2d[:, 1])\n",
        "for i, token in enumerate(tokens):\n",
        "    plt.annotate(token, (embeddings_2d[i, 0], embeddings_2d[i, 1]), fontsize = 14)\n",
        "plt.title(\"Trained miniGPT Word Embeddings(TSNE)\", fontsize = 16)\n",
        "plt.show()"
      ],
      "metadata": {
        "colab": {
          "base_uri": "https://localhost:8080/",
          "height": 454
        },
        "id": "PT2fDoxHQWTJ",
        "outputId": "db523ddb-ab61-4b89-85be-202df029ce63"
      },
      "execution_count": 20,
      "outputs": [
        {
          "output_type": "display_data",
          "data": {
            "text/plain": [
              "<Figure size 640x480 with 1 Axes>"
            ],
            "image/png": "[encoded data removed]"
          },
          "metadata": {}
        }
      ]
    },
    {
      "cell_type": "markdown",
      "source": [
        "# 5. Attention Analysis"
      ],
      "metadata": {
        "id": "J9rNy48tdubM"
      }
    },
    {
      "cell_type": "markdown",
      "source": [
        "## Attention Heatmap of weights"
      ],
      "metadata": {
        "id": "Yho380girckA"
      }
    },
    {
      "cell_type": "code",
      "source": [
        "import seaborn as sns\n",
        "import matplotlib.pyplot as plt"
      ],
      "metadata": {
        "id": "CNfMeKfGXAe0"
      },
      "execution_count": 122,
      "outputs": []
    },
    {
      "cell_type": "code",
      "source": [
        "# prompt = \"the animal did not cross the street because it was too tired\"\n",
        "# prompt = \"the cat was wet and it was cold\"\n",
        "prompt = \"the cat was out and it was wet\"\n",
        "tokens_big = tokenizer.tokenize(prompt)\n",
        "prompt_tokens = [token_to_id.get(token, token_to_id[\"<pad>\"]) for token in tokens_big]\n",
        "tok_prompt = [id_to_token[each].replace('Ġ','') for each in prompt_tokens]"
      ],
      "metadata": {
        "id": "gL2ZxEqsrMKz"
      },
      "execution_count": 44,
      "outputs": []
    },
    {
      "cell_type": "code",
      "source": [
        "# response_type : 1 = Fixed\n",
        "torch.manual_seed(42)  # Fix random seed\n",
        "model.eval()           # Disable dropout and batch norm\n",
        "model_input = torch.tensor(prompt_tokens) #, token_to_id[\"is\"], token_to_id[\"where\"]\n",
        "\n",
        "model_input = model_input.unsqueeze(0)  # Shape: [1, seq_len]\n",
        "input_length = model_input.size(dim=1)  # Now use dim=1 for seq_len\n",
        "# predictions = model(model_input)\n",
        "with torch.no_grad():\n",
        "    predictions = model(model_input)"
      ],
      "metadata": {
        "id": "ek85dvAArIlp"
      },
      "execution_count": 45,
      "outputs": []
    },
    {
      "cell_type": "code",
      "source": [
        "# attn_weights = model.layers[1].self_attention.attention_percents[0, 0, :, :]  # [batch_size, num_heads, seq_len, seq_len]"
      ],
      "metadata": {
        "id": "bGDaHYFqsSI6"
      },
      "execution_count": 46,
      "outputs": []
    },
    {
      "cell_type": "code",
      "source": [
        "from matplotlib import rcParams\n",
        "import seaborn as sns\n",
        "import matplotlib.pyplot as plt\n",
        "rcParams['axes.titlepad'] = 15\n",
        "attn_weights = model.layers[1].self_attention.attention_percents[0, 15, :, :]  # [batch_size, num_heads, seq_len, seq_len]\n",
        "plt.figure(figsize=(6, 5))\n",
        "sns.heatmap(\n",
        "    attn_weights.numpy(),  # Move to CPU if on GPU\n",
        "    annot=True,                  # Show values in cells\n",
        "    fmt=\".2f\",                   # Format to 2 decimal places\n",
        "    cmap=\"Blues\",                # Color scheme\n",
        "    xticklabels=tok_prompt,          # Key tokens (columns)\n",
        "    yticklabels=tok_prompt           # Query tokens (rows)\n",
        ")\n",
        "plt.title(f\"Attention Weights for: '{prompt}'\",fontsize = 18)\n",
        "plt.xlabel(\"Key Tokens\")\n",
        "plt.ylabel(\"Query Tokens\")\n",
        "plt.show()"
      ],
      "metadata": {
        "id": "Srdk7TsPfoYh",
        "colab": {
          "base_uri": "https://localhost:8080/",
          "height": 505
        },
        "outputId": "a570b9bb-7b00-4c42-cf33-4d33896c2706"
      },
      "execution_count": 47,
      "outputs": [
        {
          "output_type": "display_data",
          "data": {
            "text/plain": [
              "<Figure size 600x500 with 2 Axes>"
            ],
            "image/png": "[encoded data removed]"
          },
          "metadata": {}
        }
      ]
    },
    {
      "cell_type": "markdown",
      "source": [
        "## Network Graphs of attention"
      ],
      "metadata": {
        "id": "qlTjQpbGfoT-"
      }
    },
    {
      "cell_type": "code",
      "source": [
        "# prompt = \"the animal did not cross the street because it was too tired\"\n",
        "# prompt = \"the cat was wet and it was cold\"\n",
        "prompt = \"the cat was out and it was wet\"\n",
        "# prompt = \"cat sat on the mat but it was wet\"\n",
        "# prompt = \"cat said it was god\"\n",
        "tokens_big = tokenizer.tokenize(prompt)\n",
        "prompt_tokens = [token_to_id.get(token, token_to_id[\"<pad>\"]) for token in tokens_big]\n",
        "tok_prompt = [id_to_token[each].replace('Ġ','') for each in prompt_tokens]\n",
        "\n",
        "# response_type : 1 = Fixed\n",
        "torch.manual_seed(42)  # Fix random seed\n",
        "model.eval()           # Disable dropout and batch norm\n",
        "model_input = torch.tensor(prompt_tokens) #, token_to_id[\"is\"], token_to_id[\"where\"]\n",
        "\n",
        "model_input = model_input.unsqueeze(0)  # Shape: [1, seq_len]\n",
        "input_length = model_input.size(dim=1)  # Now use dim=1 for seq_len\n",
        "# predictions = model(model_input)\n",
        "with torch.no_grad():\n",
        "    predictions = model(model_input)"
      ],
      "metadata": {
        "id": "tBOWTUxu4JnN"
      },
      "execution_count": 191,
      "outputs": []
    },
    {
      "cell_type": "code",
      "source": [
        "import networkx as nx\n",
        "import matplotlib.pyplot as plt\n",
        "\n",
        "tokens = tok_prompt\n",
        "\n",
        "attn_weights = model.layers[1].self_attention.attention_percents[0, 15, :, :]\n",
        "\n",
        "# Create a directed graph\n",
        "G = nx.DiGraph()\n",
        "\n",
        "# Add nodes\n",
        "for i, token in enumerate(tokens):\n",
        "    G.add_node(i, label=token)\n",
        "\n",
        "# Add edges (threshold > 0.1)\n",
        "for i in range(len(tokens)):\n",
        "    for j in range(len(tokens)):\n",
        "        # if i == j:\n",
        "        #   G.add_edge(i, j, weight=0)\n",
        "        # else:\n",
        "        weight = attn_weights[i][j]\n",
        "        if weight > 0.2:\n",
        "        # if weight == max(attn_weights[i]):\n",
        "            G.add_edge(i, j, weight=weight)\n",
        "\n",
        "# Plot\n",
        "pos = nx.circular_layout(G)\n",
        "labels = nx.get_node_attributes(G, 'label')\n",
        "edge_labels = {(i, j): f\"{d['weight']:.2f}\" for i, j, d in G.edges(data=True)}\n",
        "\n",
        "nx.draw(G, pos, with_labels=True, labels=labels, node_color='lightblue', node_size=2000, font_size=10)\n",
        "nx.draw_networkx_edge_labels(G, pos, edge_labels=edge_labels)\n",
        "plt.title(f\"Attention Graph for: '{prompt}'\",fontsize = 18)\n",
        "plt.show()"
      ],
      "metadata": {
        "id": "s3409QEYfoWS",
        "colab": {
          "base_uri": "https://localhost:8080/",
          "height": 544
        },
        "outputId": "c5ee196a-046a-4bf0-fc64-8ee46dca2d29"
      },
      "execution_count": 217,
      "outputs": [
        {
          "output_type": "display_data",
          "data": {
            "text/plain": [
              "<Figure size 640x480 with 1 Axes>"
            ],
            "image/png": "[encoded data removed]"
          },
          "metadata": {}
        }
      ]
    },
    {
      "cell_type": "code",
      "source": [],
      "metadata": {
        "id": "G1RVHHugPjGW"
      },
      "execution_count": null,
      "outputs": []
    }
  ]
}