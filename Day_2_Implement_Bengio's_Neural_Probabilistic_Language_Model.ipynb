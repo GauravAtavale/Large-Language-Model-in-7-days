{
  "nbformat": 4,
  "nbformat_minor": 0,
  "metadata": {
    "colab": {
      "provenance": []
    },
    "kernelspec": {
      "name": "python3",
      "display_name": "Python 3"
    },
    "language_info": {
      "name": "python"
    },
    "widgets": {
      "application/vnd.jupyter.widget-state+json": {
        "98a70f54fff0485b931ce6739ac8a484": {
          "model_module": "@jupyter-widgets/controls",
          "model_name": "HBoxModel",
          "model_module_version": "1.5.0",
          "state": {
            "_dom_classes": [],
            "_model_module": "@jupyter-widgets/controls",
            "_model_module_version": "1.5.0",
            "_model_name": "HBoxModel",
            "_view_count": null,
            "_view_module": "@jupyter-widgets/controls",
            "_view_module_version": "1.5.0",
            "_view_name": "HBoxView",
            "box_style": "",
            "children": [
              "IPY_MODEL_1de1bcfa56a04c54af7c7eaac404ce02",
              "IPY_MODEL_0e179ba2b32946bf808e1dd9fab4bb5a",
              "IPY_MODEL_866ef94b534b4b5fa9760c0de2e24931"
            ],
            "layout": "IPY_MODEL_9864c9a1d49949b199c1fb443e297531"
          }
        },
        "1de1bcfa56a04c54af7c7eaac404ce02": {
          "model_module": "@jupyter-widgets/controls",
          "model_name": "HTMLModel",
          "model_module_version": "1.5.0",
          "state": {
            "_dom_classes": [],
            "_model_module": "@jupyter-widgets/controls",
            "_model_module_version": "1.5.0",
            "_model_name": "HTMLModel",
            "_view_count": null,
            "_view_module": "@jupyter-widgets/controls",
            "_view_module_version": "1.5.0",
            "_view_name": "HTMLView",
            "description": "",
            "description_tooltip": null,
            "layout": "IPY_MODEL_ce12c98e850b4c8799cfce3ad3ee4992",
            "placeholder": "​",
            "style": "IPY_MODEL_caabc0d8ed734e1594b270ea8471c427",
            "value": "README.md: 100%"
          }
        },
        "0e179ba2b32946bf808e1dd9fab4bb5a": {
          "model_module": "@jupyter-widgets/controls",
          "model_name": "FloatProgressModel",
          "model_module_version": "1.5.0",
          "state": {
            "_dom_classes": [],
            "_model_module": "@jupyter-widgets/controls",
            "_model_module_version": "1.5.0",
            "_model_name": "FloatProgressModel",
            "_view_count": null,
            "_view_module": "@jupyter-widgets/controls",
            "_view_module_version": "1.5.0",
            "_view_name": "ProgressView",
            "bar_style": "success",
            "description": "",
            "description_tooltip": null,
            "layout": "IPY_MODEL_d3a9154c18c3445682570486a9164cea",
            "max": 15586,
            "min": 0,
            "orientation": "horizontal",
            "style": "IPY_MODEL_1feea73a06d94817af350ee8f5cc65f3",
            "value": 15586
          }
        },
        "866ef94b534b4b5fa9760c0de2e24931": {
          "model_module": "@jupyter-widgets/controls",
          "model_name": "HTMLModel",
          "model_module_version": "1.5.0",
          "state": {
            "_dom_classes": [],
            "_model_module": "@jupyter-widgets/controls",
            "_model_module_version": "1.5.0",
            "_model_name": "HTMLModel",
            "_view_count": null,
            "_view_module": "@jupyter-widgets/controls",
            "_view_module_version": "1.5.0",
            "_view_name": "HTMLView",
            "description": "",
            "description_tooltip": null,
            "layout": "IPY_MODEL_e942e0eca350410f9ae850bf616d2b78",
            "placeholder": "​",
            "style": "IPY_MODEL_f52b59bbf1564fdf9c16a496c5dea734",
            "value": " 15.6k/15.6k [00:00&lt;00:00, 518kB/s]"
          }
        },
        "9864c9a1d49949b199c1fb443e297531": {
          "model_module": "@jupyter-widgets/base",
          "model_name": "LayoutModel",
          "model_module_version": "1.2.0",
          "state": {
            "_model_module": "@jupyter-widgets/base",
            "_model_module_version": "1.2.0",
            "_model_name": "LayoutModel",
            "_view_count": null,
            "_view_module": "@jupyter-widgets/base",
            "_view_module_version": "1.2.0",
            "_view_name": "LayoutView",
            "align_content": null,
            "align_items": null,
            "align_self": null,
            "border": null,
            "bottom": null,
            "display": null,
            "flex": null,
            "flex_flow": null,
            "grid_area": null,
            "grid_auto_columns": null,
            "grid_auto_flow": null,
            "grid_auto_rows": null,
            "grid_column": null,
            "grid_gap": null,
            "grid_row": null,
            "grid_template_areas": null,
            "grid_template_columns": null,
            "grid_template_rows": null,
            "height": null,
            "justify_content": null,
            "justify_items": null,
            "left": null,
            "margin": null,
            "max_height": null,
            "max_width": null,
            "min_height": null,
            "min_width": null,
            "object_fit": null,
            "object_position": null,
            "order": null,
            "overflow": null,
            "overflow_x": null,
            "overflow_y": null,
            "padding": null,
            "right": null,
            "top": null,
            "visibility": null,
            "width": null
          }
        },
        "ce12c98e850b4c8799cfce3ad3ee4992": {
          "model_module": "@jupyter-widgets/base",
          "model_name": "LayoutModel",
          "model_module_version": "1.2.0",
          "state": {
            "_model_module": "@jupyter-widgets/base",
            "_model_module_version": "1.2.0",
            "_model_name": "LayoutModel",
            "_view_count": null,
            "_view_module": "@jupyter-widgets/base",
            "_view_module_version": "1.2.0",
            "_view_name": "LayoutView",
            "align_content": null,
            "align_items": null,
            "align_self": null,
            "border": null,
            "bottom": null,
            "display": null,
            "flex": null,
            "flex_flow": null,
            "grid_area": null,
            "grid_auto_columns": null,
            "grid_auto_flow": null,
            "grid_auto_rows": null,
            "grid_column": null,
            "grid_gap": null,
            "grid_row": null,
            "grid_template_areas": null,
            "grid_template_columns": null,
            "grid_template_rows": null,
            "height": null,
            "justify_content": null,
            "justify_items": null,
            "left": null,
            "margin": null,
            "max_height": null,
            "max_width": null,
            "min_height": null,
            "min_width": null,
            "object_fit": null,
            "object_position": null,
            "order": null,
            "overflow": null,
            "overflow_x": null,
            "overflow_y": null,
            "padding": null,
            "right": null,
            "top": null,
            "visibility": null,
            "width": null
          }
        },
        "caabc0d8ed734e1594b270ea8471c427": {
          "model_module": "@jupyter-widgets/controls",
          "model_name": "DescriptionStyleModel",
          "model_module_version": "1.5.0",
          "state": {
            "_model_module": "@jupyter-widgets/controls",
            "_model_module_version": "1.5.0",
            "_model_name": "DescriptionStyleModel",
            "_view_count": null,
            "_view_module": "@jupyter-widgets/base",
            "_view_module_version": "1.2.0",
            "_view_name": "StyleView",
            "description_width": ""
          }
        },
        "d3a9154c18c3445682570486a9164cea": {
          "model_module": "@jupyter-widgets/base",
          "model_name": "LayoutModel",
          "model_module_version": "1.2.0",
          "state": {
            "_model_module": "@jupyter-widgets/base",
            "_model_module_version": "1.2.0",
            "_model_name": "LayoutModel",
            "_view_count": null,
            "_view_module": "@jupyter-widgets/base",
            "_view_module_version": "1.2.0",
            "_view_name": "LayoutView",
            "align_content": null,
            "align_items": null,
            "align_self": null,
            "border": null,
            "bottom": null,
            "display": null,
            "flex": null,
            "flex_flow": null,
            "grid_area": null,
            "grid_auto_columns": null,
            "grid_auto_flow": null,
            "grid_auto_rows": null,
            "grid_column": null,
            "grid_gap": null,
            "grid_row": null,
            "grid_template_areas": null,
            "grid_template_columns": null,
            "grid_template_rows": null,
            "height": null,
            "justify_content": null,
            "justify_items": null,
            "left": null,
            "margin": null,
            "max_height": null,
            "max_width": null,
            "min_height": null,
            "min_width": null,
            "object_fit": null,
            "object_position": null,
            "order": null,
            "overflow": null,
            "overflow_x": null,
            "overflow_y": null,
            "padding": null,
            "right": null,
            "top": null,
            "visibility": null,
            "width": null
          }
        },
        "1feea73a06d94817af350ee8f5cc65f3": {
          "model_module": "@jupyter-widgets/controls",
          "model_name": "ProgressStyleModel",
          "model_module_version": "1.5.0",
          "state": {
            "_model_module": "@jupyter-widgets/controls",
            "_model_module_version": "1.5.0",
            "_model_name": "ProgressStyleModel",
            "_view_count": null,
            "_view_module": "@jupyter-widgets/base",
            "_view_module_version": "1.2.0",
            "_view_name": "StyleView",
            "bar_color": null,
            "description_width": ""
          }
        },
        "e942e0eca350410f9ae850bf616d2b78": {
          "model_module": "@jupyter-widgets/base",
          "model_name": "LayoutModel",
          "model_module_version": "1.2.0",
          "state": {
            "_model_module": "@jupyter-widgets/base",
            "_model_module_version": "1.2.0",
            "_model_name": "LayoutModel",
            "_view_count": null,
            "_view_module": "@jupyter-widgets/base",
            "_view_module_version": "1.2.0",
            "_view_name": "LayoutView",
            "align_content": null,
            "align_items": null,
            "align_self": null,
            "border": null,
            "bottom": null,
            "display": null,
            "flex": null,
            "flex_flow": null,
            "grid_area": null,
            "grid_auto_columns": null,
            "grid_auto_flow": null,
            "grid_auto_rows": null,
            "grid_column": null,
            "grid_gap": null,
            "grid_row": null,
            "grid_template_areas": null,
            "grid_template_columns": null,
            "grid_template_rows": null,
            "height": null,
            "justify_content": null,
            "justify_items": null,
            "left": null,
            "margin": null,
            "max_height": null,
            "max_width": null,
            "min_height": null,
            "min_width": null,
            "object_fit": null,
            "object_position": null,
            "order": null,
            "overflow": null,
            "overflow_x": null,
            "overflow_y": null,
            "padding": null,
            "right": null,
            "top": null,
            "visibility": null,
            "width": null
          }
        },
        "f52b59bbf1564fdf9c16a496c5dea734": {
          "model_module": "@jupyter-widgets/controls",
          "model_name": "DescriptionStyleModel",
          "model_module_version": "1.5.0",
          "state": {
            "_model_module": "@jupyter-widgets/controls",
            "_model_module_version": "1.5.0",
            "_model_name": "DescriptionStyleModel",
            "_view_count": null,
            "_view_module": "@jupyter-widgets/base",
            "_view_module_version": "1.2.0",
            "_view_name": "StyleView",
            "description_width": ""
          }
        },
        "d0d13337b2c842feac7e57d8d9e8f2ff": {
          "model_module": "@jupyter-widgets/controls",
          "model_name": "HBoxModel",
          "model_module_version": "1.5.0",
          "state": {
            "_dom_classes": [],
            "_model_module": "@jupyter-widgets/controls",
            "_model_module_version": "1.5.0",
            "_model_name": "HBoxModel",
            "_view_count": null,
            "_view_module": "@jupyter-widgets/controls",
            "_view_module_version": "1.5.0",
            "_view_name": "HBoxView",
            "box_style": "",
            "children": [
              "IPY_MODEL_117f6bf742db42b2b0c1bde6e9e0dce2",
              "IPY_MODEL_448a019856ce4dc9be4de76787f74181",
              "IPY_MODEL_d4b37cadd3b843d3af0eccd71dba5a6a"
            ],
            "layout": "IPY_MODEL_c9fc264751cb41cab334043dc48330ea"
          }
        },
        "117f6bf742db42b2b0c1bde6e9e0dce2": {
          "model_module": "@jupyter-widgets/controls",
          "model_name": "HTMLModel",
          "model_module_version": "1.5.0",
          "state": {
            "_dom_classes": [],
            "_model_module": "@jupyter-widgets/controls",
            "_model_module_version": "1.5.0",
            "_model_name": "HTMLModel",
            "_view_count": null,
            "_view_module": "@jupyter-widgets/controls",
            "_view_module_version": "1.5.0",
            "_view_name": "HTMLView",
            "description": "",
            "description_tooltip": null,
            "layout": "IPY_MODEL_b4380bd8e66442eda5c2343389e7a60f",
            "placeholder": "​",
            "style": "IPY_MODEL_1c2b76b5377e46d5b32f3d5262b333df",
            "value": "train-00000-of-00003.parquet: 100%"
          }
        },
        "448a019856ce4dc9be4de76787f74181": {
          "model_module": "@jupyter-widgets/controls",
          "model_name": "FloatProgressModel",
          "model_module_version": "1.5.0",
          "state": {
            "_dom_classes": [],
            "_model_module": "@jupyter-widgets/controls",
            "_model_module_version": "1.5.0",
            "_model_name": "FloatProgressModel",
            "_view_count": null,
            "_view_module": "@jupyter-widgets/controls",
            "_view_module_version": "1.5.0",
            "_view_name": "ProgressView",
            "bar_style": "success",
            "description": "",
            "description_tooltip": null,
            "layout": "IPY_MODEL_32edcc92b2184d6aa10469f4a6aa7186",
            "max": 256540614,
            "min": 0,
            "orientation": "horizontal",
            "style": "IPY_MODEL_19aaed4e5a3e46278d1b61d47500f288",
            "value": 256540614
          }
        },
        "d4b37cadd3b843d3af0eccd71dba5a6a": {
          "model_module": "@jupyter-widgets/controls",
          "model_name": "HTMLModel",
          "model_module_version": "1.5.0",
          "state": {
            "_dom_classes": [],
            "_model_module": "@jupyter-widgets/controls",
            "_model_module_version": "1.5.0",
            "_model_name": "HTMLModel",
            "_view_count": null,
            "_view_module": "@jupyter-widgets/controls",
            "_view_module_version": "1.5.0",
            "_view_name": "HTMLView",
            "description": "",
            "description_tooltip": null,
            "layout": "IPY_MODEL_946a6b9de062405b85b713fd1c97ee05",
            "placeholder": "​",
            "style": "IPY_MODEL_5574c9155d9f40bbad77f69ab6b63388",
            "value": " 257M/257M [00:01&lt;00:00, 159MB/s]"
          }
        },
        "c9fc264751cb41cab334043dc48330ea": {
          "model_module": "@jupyter-widgets/base",
          "model_name": "LayoutModel",
          "model_module_version": "1.2.0",
          "state": {
            "_model_module": "@jupyter-widgets/base",
            "_model_module_version": "1.2.0",
            "_model_name": "LayoutModel",
            "_view_count": null,
            "_view_module": "@jupyter-widgets/base",
            "_view_module_version": "1.2.0",
            "_view_name": "LayoutView",
            "align_content": null,
            "align_items": null,
            "align_self": null,
            "border": null,
            "bottom": null,
            "display": null,
            "flex": null,
            "flex_flow": null,
            "grid_area": null,
            "grid_auto_columns": null,
            "grid_auto_flow": null,
            "grid_auto_rows": null,
            "grid_column": null,
            "grid_gap": null,
            "grid_row": null,
            "grid_template_areas": null,
            "grid_template_columns": null,
            "grid_template_rows": null,
            "height": null,
            "justify_content": null,
            "justify_items": null,
            "left": null,
            "margin": null,
            "max_height": null,
            "max_width": null,
            "min_height": null,
            "min_width": null,
            "object_fit": null,
            "object_position": null,
            "order": null,
            "overflow": null,
            "overflow_x": null,
            "overflow_y": null,
            "padding": null,
            "right": null,
            "top": null,
            "visibility": null,
            "width": null
          }
        },
        "b4380bd8e66442eda5c2343389e7a60f": {
          "model_module": "@jupyter-widgets/base",
          "model_name": "LayoutModel",
          "model_module_version": "1.2.0",
          "state": {
            "_model_module": "@jupyter-widgets/base",
            "_model_module_version": "1.2.0",
            "_model_name": "LayoutModel",
            "_view_count": null,
            "_view_module": "@jupyter-widgets/base",
            "_view_module_version": "1.2.0",
            "_view_name": "LayoutView",
            "align_content": null,
            "align_items": null,
            "align_self": null,
            "border": null,
            "bottom": null,
            "display": null,
            "flex": null,
            "flex_flow": null,
            "grid_area": null,
            "grid_auto_columns": null,
            "grid_auto_flow": null,
            "grid_auto_rows": null,
            "grid_column": null,
            "grid_gap": null,
            "grid_row": null,
            "grid_template_areas": null,
            "grid_template_columns": null,
            "grid_template_rows": null,
            "height": null,
            "justify_content": null,
            "justify_items": null,
            "left": null,
            "margin": null,
            "max_height": null,
            "max_width": null,
            "min_height": null,
            "min_width": null,
            "object_fit": null,
            "object_position": null,
            "order": null,
            "overflow": null,
            "overflow_x": null,
            "overflow_y": null,
            "padding": null,
            "right": null,
            "top": null,
            "visibility": null,
            "width": null
          }
        },
        "1c2b76b5377e46d5b32f3d5262b333df": {
          "model_module": "@jupyter-widgets/controls",
          "model_name": "DescriptionStyleModel",
          "model_module_version": "1.5.0",
          "state": {
            "_model_module": "@jupyter-widgets/controls",
            "_model_module_version": "1.5.0",
            "_model_name": "DescriptionStyleModel",
            "_view_count": null,
            "_view_module": "@jupyter-widgets/base",
            "_view_module_version": "1.2.0",
            "_view_name": "StyleView",
            "description_width": ""
          }
        },
        "32edcc92b2184d6aa10469f4a6aa7186": {
          "model_module": "@jupyter-widgets/base",
          "model_name": "LayoutModel",
          "model_module_version": "1.2.0",
          "state": {
            "_model_module": "@jupyter-widgets/base",
            "_model_module_version": "1.2.0",
            "_model_name": "LayoutModel",
            "_view_count": null,
            "_view_module": "@jupyter-widgets/base",
            "_view_module_version": "1.2.0",
            "_view_name": "LayoutView",
            "align_content": null,
            "align_items": null,
            "align_self": null,
            "border": null,
            "bottom": null,
            "display": null,
            "flex": null,
            "flex_flow": null,
            "grid_area": null,
            "grid_auto_columns": null,
            "grid_auto_flow": null,
            "grid_auto_rows": null,
            "grid_column": null,
            "grid_gap": null,
            "grid_row": null,
            "grid_template_areas": null,
            "grid_template_columns": null,
            "grid_template_rows": null,
            "height": null,
            "justify_content": null,
            "justify_items": null,
            "left": null,
            "margin": null,
            "max_height": null,
            "max_width": null,
            "min_height": null,
            "min_width": null,
            "object_fit": null,
            "object_position": null,
            "order": null,
            "overflow": null,
            "overflow_x": null,
            "overflow_y": null,
            "padding": null,
            "right": null,
            "top": null,
            "visibility": null,
            "width": null
          }
        },
        "19aaed4e5a3e46278d1b61d47500f288": {
          "model_module": "@jupyter-widgets/controls",
          "model_name": "ProgressStyleModel",
          "model_module_version": "1.5.0",
          "state": {
            "_model_module": "@jupyter-widgets/controls",
            "_model_module_version": "1.5.0",
            "_model_name": "ProgressStyleModel",
            "_view_count": null,
            "_view_module": "@jupyter-widgets/base",
            "_view_module_version": "1.2.0",
            "_view_name": "StyleView",
            "bar_color": null,
            "description_width": ""
          }
        },
        "946a6b9de062405b85b713fd1c97ee05": {
          "model_module": "@jupyter-widgets/base",
          "model_name": "LayoutModel",
          "model_module_version": "1.2.0",
          "state": {
            "_model_module": "@jupyter-widgets/base",
            "_model_module_version": "1.2.0",
            "_model_name": "LayoutModel",
            "_view_count": null,
            "_view_module": "@jupyter-widgets/base",
            "_view_module_version": "1.2.0",
            "_view_name": "LayoutView",
            "align_content": null,
            "align_items": null,
            "align_self": null,
            "border": null,
            "bottom": null,
            "display": null,
            "flex": null,
            "flex_flow": null,
            "grid_area": null,
            "grid_auto_columns": null,
            "grid_auto_flow": null,
            "grid_auto_rows": null,
            "grid_column": null,
            "grid_gap": null,
            "grid_row": null,
            "grid_template_areas": null,
            "grid_template_columns": null,
            "grid_template_rows": null,
            "height": null,
            "justify_content": null,
            "justify_items": null,
            "left": null,
            "margin": null,
            "max_height": null,
            "max_width": null,
            "min_height": null,
            "min_width": null,
            "object_fit": null,
            "object_position": null,
            "order": null,
            "overflow": null,
            "overflow_x": null,
            "overflow_y": null,
            "padding": null,
            "right": null,
            "top": null,
            "visibility": null,
            "width": null
          }
        },
        "5574c9155d9f40bbad77f69ab6b63388": {
          "model_module": "@jupyter-widgets/controls",
          "model_name": "DescriptionStyleModel",
          "model_module_version": "1.5.0",
          "state": {
            "_model_module": "@jupyter-widgets/controls",
            "_model_module_version": "1.5.0",
            "_model_name": "DescriptionStyleModel",
            "_view_count": null,
            "_view_module": "@jupyter-widgets/base",
            "_view_module_version": "1.2.0",
            "_view_name": "StyleView",
            "description_width": ""
          }
        },
        "de1eb826f5cc4e948f7c380420c0f89e": {
          "model_module": "@jupyter-widgets/controls",
          "model_name": "HBoxModel",
          "model_module_version": "1.5.0",
          "state": {
            "_dom_classes": [],
            "_model_module": "@jupyter-widgets/controls",
            "_model_module_version": "1.5.0",
            "_model_name": "HBoxModel",
            "_view_count": null,
            "_view_module": "@jupyter-widgets/controls",
            "_view_module_version": "1.5.0",
            "_view_name": "HBoxView",
            "box_style": "",
            "children": [
              "IPY_MODEL_f703481e11c247e6ac12413ad8f80982",
              "IPY_MODEL_527012471e4c4b9bb6a57b092d0d3c8b",
              "IPY_MODEL_b9ec891bf737460e9765b52adcaeb7ec"
            ],
            "layout": "IPY_MODEL_c77ae7f3aeca404b87d6094e6433cde3"
          }
        },
        "f703481e11c247e6ac12413ad8f80982": {
          "model_module": "@jupyter-widgets/controls",
          "model_name": "HTMLModel",
          "model_module_version": "1.5.0",
          "state": {
            "_dom_classes": [],
            "_model_module": "@jupyter-widgets/controls",
            "_model_module_version": "1.5.0",
            "_model_name": "HTMLModel",
            "_view_count": null,
            "_view_module": "@jupyter-widgets/controls",
            "_view_module_version": "1.5.0",
            "_view_name": "HTMLView",
            "description": "",
            "description_tooltip": null,
            "layout": "IPY_MODEL_65c0fdc2c2b448f3acfe08d49e856242",
            "placeholder": "​",
            "style": "IPY_MODEL_ec5dc42c46a54b8988c5d017e4ed408b",
            "value": "train-00001-of-00003.parquet: 100%"
          }
        },
        "527012471e4c4b9bb6a57b092d0d3c8b": {
          "model_module": "@jupyter-widgets/controls",
          "model_name": "FloatProgressModel",
          "model_module_version": "1.5.0",
          "state": {
            "_dom_classes": [],
            "_model_module": "@jupyter-widgets/controls",
            "_model_module_version": "1.5.0",
            "_model_name": "FloatProgressModel",
            "_view_count": null,
            "_view_module": "@jupyter-widgets/controls",
            "_view_module_version": "1.5.0",
            "_view_name": "ProgressView",
            "bar_style": "success",
            "description": "",
            "description_tooltip": null,
            "layout": "IPY_MODEL_38bcc662099a4f98b81ea46c8afe3246",
            "max": 256588241,
            "min": 0,
            "orientation": "horizontal",
            "style": "IPY_MODEL_23ad59e8374747a4a1fee2634085c5da",
            "value": 256588241
          }
        },
        "b9ec891bf737460e9765b52adcaeb7ec": {
          "model_module": "@jupyter-widgets/controls",
          "model_name": "HTMLModel",
          "model_module_version": "1.5.0",
          "state": {
            "_dom_classes": [],
            "_model_module": "@jupyter-widgets/controls",
            "_model_module_version": "1.5.0",
            "_model_name": "HTMLModel",
            "_view_count": null,
            "_view_module": "@jupyter-widgets/controls",
            "_view_module_version": "1.5.0",
            "_view_name": "HTMLView",
            "description": "",
            "description_tooltip": null,
            "layout": "IPY_MODEL_752386bd513f4f4d8600c0d6296165b2",
            "placeholder": "​",
            "style": "IPY_MODEL_0d901e703e56493495b5e663a2765cb4",
            "value": " 257M/257M [00:05&lt;00:00, 128MB/s]"
          }
        },
        "c77ae7f3aeca404b87d6094e6433cde3": {
          "model_module": "@jupyter-widgets/base",
          "model_name": "LayoutModel",
          "model_module_version": "1.2.0",
          "state": {
            "_model_module": "@jupyter-widgets/base",
            "_model_module_version": "1.2.0",
            "_model_name": "LayoutModel",
            "_view_count": null,
            "_view_module": "@jupyter-widgets/base",
            "_view_module_version": "1.2.0",
            "_view_name": "LayoutView",
            "align_content": null,
            "align_items": null,
            "align_self": null,
            "border": null,
            "bottom": null,
            "display": null,
            "flex": null,
            "flex_flow": null,
            "grid_area": null,
            "grid_auto_columns": null,
            "grid_auto_flow": null,
            "grid_auto_rows": null,
            "grid_column": null,
            "grid_gap": null,
            "grid_row": null,
            "grid_template_areas": null,
            "grid_template_columns": null,
            "grid_template_rows": null,
            "height": null,
            "justify_content": null,
            "justify_items": null,
            "left": null,
            "margin": null,
            "max_height": null,
            "max_width": null,
            "min_height": null,
            "min_width": null,
            "object_fit": null,
            "object_position": null,
            "order": null,
            "overflow": null,
            "overflow_x": null,
            "overflow_y": null,
            "padding": null,
            "right": null,
            "top": null,
            "visibility": null,
            "width": null
          }
        },
        "65c0fdc2c2b448f3acfe08d49e856242": {
          "model_module": "@jupyter-widgets/base",
          "model_name": "LayoutModel",
          "model_module_version": "1.2.0",
          "state": {
            "_model_module": "@jupyter-widgets/base",
            "_model_module_version": "1.2.0",
            "_model_name": "LayoutModel",
            "_view_count": null,
            "_view_module": "@jupyter-widgets/base",
            "_view_module_version": "1.2.0",
            "_view_name": "LayoutView",
            "align_content": null,
            "align_items": null,
            "align_self": null,
            "border": null,
            "bottom": null,
            "display": null,
            "flex": null,
            "flex_flow": null,
            "grid_area": null,
            "grid_auto_columns": null,
            "grid_auto_flow": null,
            "grid_auto_rows": null,
            "grid_column": null,
            "grid_gap": null,
            "grid_row": null,
            "grid_template_areas": null,
            "grid_template_columns": null,
            "grid_template_rows": null,
            "height": null,
            "justify_content": null,
            "justify_items": null,
            "left": null,
            "margin": null,
            "max_height": null,
            "max_width": null,
            "min_height": null,
            "min_width": null,
            "object_fit": null,
            "object_position": null,
            "order": null,
            "overflow": null,
            "overflow_x": null,
            "overflow_y": null,
            "padding": null,
            "right": null,
            "top": null,
            "visibility": null,
            "width": null
          }
        },
        "ec5dc42c46a54b8988c5d017e4ed408b": {
          "model_module": "@jupyter-widgets/controls",
          "model_name": "DescriptionStyleModel",
          "model_module_version": "1.5.0",
          "state": {
            "_model_module": "@jupyter-widgets/controls",
            "_model_module_version": "1.5.0",
            "_model_name": "DescriptionStyleModel",
            "_view_count": null,
            "_view_module": "@jupyter-widgets/base",
            "_view_module_version": "1.2.0",
            "_view_name": "StyleView",
            "description_width": ""
          }
        },
        "38bcc662099a4f98b81ea46c8afe3246": {
          "model_module": "@jupyter-widgets/base",
          "model_name": "LayoutModel",
          "model_module_version": "1.2.0",
          "state": {
            "_model_module": "@jupyter-widgets/base",
            "_model_module_version": "1.2.0",
            "_model_name": "LayoutModel",
            "_view_count": null,
            "_view_module": "@jupyter-widgets/base",
            "_view_module_version": "1.2.0",
            "_view_name": "LayoutView",
            "align_content": null,
            "align_items": null,
            "align_self": null,
            "border": null,
            "bottom": null,
            "display": null,
            "flex": null,
            "flex_flow": null,
            "grid_area": null,
            "grid_auto_columns": null,
            "grid_auto_flow": null,
            "grid_auto_rows": null,
            "grid_column": null,
            "grid_gap": null,
            "grid_row": null,
            "grid_template_areas": null,
            "grid_template_columns": null,
            "grid_template_rows": null,
            "height": null,
            "justify_content": null,
            "justify_items": null,
            "left": null,
            "margin": null,
            "max_height": null,
            "max_width": null,
            "min_height": null,
            "min_width": null,
            "object_fit": null,
            "object_position": null,
            "order": null,
            "overflow": null,
            "overflow_x": null,
            "overflow_y": null,
            "padding": null,
            "right": null,
            "top": null,
            "visibility": null,
            "width": null
          }
        },
        "23ad59e8374747a4a1fee2634085c5da": {
          "model_module": "@jupyter-widgets/controls",
          "model_name": "ProgressStyleModel",
          "model_module_version": "1.5.0",
          "state": {
            "_model_module": "@jupyter-widgets/controls",
            "_model_module_version": "1.5.0",
            "_model_name": "ProgressStyleModel",
            "_view_count": null,
            "_view_module": "@jupyter-widgets/base",
            "_view_module_version": "1.2.0",
            "_view_name": "StyleView",
            "bar_color": null,
            "description_width": ""
          }
        },
        "752386bd513f4f4d8600c0d6296165b2": {
          "model_module": "@jupyter-widgets/base",
          "model_name": "LayoutModel",
          "model_module_version": "1.2.0",
          "state": {
            "_model_module": "@jupyter-widgets/base",
            "_model_module_version": "1.2.0",
            "_model_name": "LayoutModel",
            "_view_count": null,
            "_view_module": "@jupyter-widgets/base",
            "_view_module_version": "1.2.0",
            "_view_name": "LayoutView",
            "align_content": null,
            "align_items": null,
            "align_self": null,
            "border": null,
            "bottom": null,
            "display": null,
            "flex": null,
            "flex_flow": null,
            "grid_area": null,
            "grid_auto_columns": null,
            "grid_auto_flow": null,
            "grid_auto_rows": null,
            "grid_column": null,
            "grid_gap": null,
            "grid_row": null,
            "grid_template_areas": null,
            "grid_template_columns": null,
            "grid_template_rows": null,
            "height": null,
            "justify_content": null,
            "justify_items": null,
            "left": null,
            "margin": null,
            "max_height": null,
            "max_width": null,
            "min_height": null,
            "min_width": null,
            "object_fit": null,
            "object_position": null,
            "order": null,
            "overflow": null,
            "overflow_x": null,
            "overflow_y": null,
            "padding": null,
            "right": null,
            "top": null,
            "visibility": null,
            "width": null
          }
        },
        "0d901e703e56493495b5e663a2765cb4": {
          "model_module": "@jupyter-widgets/controls",
          "model_name": "DescriptionStyleModel",
          "model_module_version": "1.5.0",
          "state": {
            "_model_module": "@jupyter-widgets/controls",
            "_model_module_version": "1.5.0",
            "_model_name": "DescriptionStyleModel",
            "_view_count": null,
            "_view_module": "@jupyter-widgets/base",
            "_view_module_version": "1.2.0",
            "_view_name": "StyleView",
            "description_width": ""
          }
        },
        "e49f502e4176498d9f94f7a9f59e16d9": {
          "model_module": "@jupyter-widgets/controls",
          "model_name": "HBoxModel",
          "model_module_version": "1.5.0",
          "state": {
            "_dom_classes": [],
            "_model_module": "@jupyter-widgets/controls",
            "_model_module_version": "1.5.0",
            "_model_name": "HBoxModel",
            "_view_count": null,
            "_view_module": "@jupyter-widgets/controls",
            "_view_module_version": "1.5.0",
            "_view_name": "HBoxView",
            "box_style": "",
            "children": [
              "IPY_MODEL_240dc3fdc6d642509c9483332a9be074",
              "IPY_MODEL_ba3cf7cb4da94a3f8f68d2117c7c6736",
              "IPY_MODEL_3ecc6b87f95d4830bf17f08845b3ce0d"
            ],
            "layout": "IPY_MODEL_078776096d644636aacd07519bfc4f90"
          }
        },
        "240dc3fdc6d642509c9483332a9be074": {
          "model_module": "@jupyter-widgets/controls",
          "model_name": "HTMLModel",
          "model_module_version": "1.5.0",
          "state": {
            "_dom_classes": [],
            "_model_module": "@jupyter-widgets/controls",
            "_model_module_version": "1.5.0",
            "_model_name": "HTMLModel",
            "_view_count": null,
            "_view_module": "@jupyter-widgets/controls",
            "_view_module_version": "1.5.0",
            "_view_name": "HTMLView",
            "description": "",
            "description_tooltip": null,
            "layout": "IPY_MODEL_343ac94bf20d437f824bb9a153bdda0e",
            "placeholder": "​",
            "style": "IPY_MODEL_8db3ab887e9b4033b973ffd63e2208ee",
            "value": "train-00002-of-00003.parquet: 100%"
          }
        },
        "ba3cf7cb4da94a3f8f68d2117c7c6736": {
          "model_module": "@jupyter-widgets/controls",
          "model_name": "FloatProgressModel",
          "model_module_version": "1.5.0",
          "state": {
            "_dom_classes": [],
            "_model_module": "@jupyter-widgets/controls",
            "_model_module_version": "1.5.0",
            "_model_name": "FloatProgressModel",
            "_view_count": null,
            "_view_module": "@jupyter-widgets/controls",
            "_view_module_version": "1.5.0",
            "_view_name": "ProgressView",
            "bar_style": "success",
            "description": "",
            "description_tooltip": null,
            "layout": "IPY_MODEL_ebe8a645b8c34746ade1196f4346ad95",
            "max": 259300551,
            "min": 0,
            "orientation": "horizontal",
            "style": "IPY_MODEL_1af20fd5ac814dc3b8dfe7197f009b36",
            "value": 259300551
          }
        },
        "3ecc6b87f95d4830bf17f08845b3ce0d": {
          "model_module": "@jupyter-widgets/controls",
          "model_name": "HTMLModel",
          "model_module_version": "1.5.0",
          "state": {
            "_dom_classes": [],
            "_model_module": "@jupyter-widgets/controls",
            "_model_module_version": "1.5.0",
            "_model_name": "HTMLModel",
            "_view_count": null,
            "_view_module": "@jupyter-widgets/controls",
            "_view_module_version": "1.5.0",
            "_view_name": "HTMLView",
            "description": "",
            "description_tooltip": null,
            "layout": "IPY_MODEL_52f00962d4fe44eb8a729416a9dd0f81",
            "placeholder": "​",
            "style": "IPY_MODEL_7954a5fabf1948b4b328625595b32188",
            "value": " 259M/259M [00:02&lt;00:00, 77.8MB/s]"
          }
        },
        "078776096d644636aacd07519bfc4f90": {
          "model_module": "@jupyter-widgets/base",
          "model_name": "LayoutModel",
          "model_module_version": "1.2.0",
          "state": {
            "_model_module": "@jupyter-widgets/base",
            "_model_module_version": "1.2.0",
            "_model_name": "LayoutModel",
            "_view_count": null,
            "_view_module": "@jupyter-widgets/base",
            "_view_module_version": "1.2.0",
            "_view_name": "LayoutView",
            "align_content": null,
            "align_items": null,
            "align_self": null,
            "border": null,
            "bottom": null,
            "display": null,
            "flex": null,
            "flex_flow": null,
            "grid_area": null,
            "grid_auto_columns": null,
            "grid_auto_flow": null,
            "grid_auto_rows": null,
            "grid_column": null,
            "grid_gap": null,
            "grid_row": null,
            "grid_template_areas": null,
            "grid_template_columns": null,
            "grid_template_rows": null,
            "height": null,
            "justify_content": null,
            "justify_items": null,
            "left": null,
            "margin": null,
            "max_height": null,
            "max_width": null,
            "min_height": null,
            "min_width": null,
            "object_fit": null,
            "object_position": null,
            "order": null,
            "overflow": null,
            "overflow_x": null,
            "overflow_y": null,
            "padding": null,
            "right": null,
            "top": null,
            "visibility": null,
            "width": null
          }
        },
        "343ac94bf20d437f824bb9a153bdda0e": {
          "model_module": "@jupyter-widgets/base",
          "model_name": "LayoutModel",
          "model_module_version": "1.2.0",
          "state": {
            "_model_module": "@jupyter-widgets/base",
            "_model_module_version": "1.2.0",
            "_model_name": "LayoutModel",
            "_view_count": null,
            "_view_module": "@jupyter-widgets/base",
            "_view_module_version": "1.2.0",
            "_view_name": "LayoutView",
            "align_content": null,
            "align_items": null,
            "align_self": null,
            "border": null,
            "bottom": null,
            "display": null,
            "flex": null,
            "flex_flow": null,
            "grid_area": null,
            "grid_auto_columns": null,
            "grid_auto_flow": null,
            "grid_auto_rows": null,
            "grid_column": null,
            "grid_gap": null,
            "grid_row": null,
            "grid_template_areas": null,
            "grid_template_columns": null,
            "grid_template_rows": null,
            "height": null,
            "justify_content": null,
            "justify_items": null,
            "left": null,
            "margin": null,
            "max_height": null,
            "max_width": null,
            "min_height": null,
            "min_width": null,
            "object_fit": null,
            "object_position": null,
            "order": null,
            "overflow": null,
            "overflow_x": null,
            "overflow_y": null,
            "padding": null,
            "right": null,
            "top": null,
            "visibility": null,
            "width": null
          }
        },
        "8db3ab887e9b4033b973ffd63e2208ee": {
          "model_module": "@jupyter-widgets/controls",
          "model_name": "DescriptionStyleModel",
          "model_module_version": "1.5.0",
          "state": {
            "_model_module": "@jupyter-widgets/controls",
            "_model_module_version": "1.5.0",
            "_model_name": "DescriptionStyleModel",
            "_view_count": null,
            "_view_module": "@jupyter-widgets/base",
            "_view_module_version": "1.2.0",
            "_view_name": "StyleView",
            "description_width": ""
          }
        },
        "ebe8a645b8c34746ade1196f4346ad95": {
          "model_module": "@jupyter-widgets/base",
          "model_name": "LayoutModel",
          "model_module_version": "1.2.0",
          "state": {
            "_model_module": "@jupyter-widgets/base",
            "_model_module_version": "1.2.0",
            "_model_name": "LayoutModel",
            "_view_count": null,
            "_view_module": "@jupyter-widgets/base",
            "_view_module_version": "1.2.0",
            "_view_name": "LayoutView",
            "align_content": null,
            "align_items": null,
            "align_self": null,
            "border": null,
            "bottom": null,
            "display": null,
            "flex": null,
            "flex_flow": null,
            "grid_area": null,
            "grid_auto_columns": null,
            "grid_auto_flow": null,
            "grid_auto_rows": null,
            "grid_column": null,
            "grid_gap": null,
            "grid_row": null,
            "grid_template_areas": null,
            "grid_template_columns": null,
            "grid_template_rows": null,
            "height": null,
            "justify_content": null,
            "justify_items": null,
            "left": null,
            "margin": null,
            "max_height": null,
            "max_width": null,
            "min_height": null,
            "min_width": null,
            "object_fit": null,
            "object_position": null,
            "order": null,
            "overflow": null,
            "overflow_x": null,
            "overflow_y": null,
            "padding": null,
            "right": null,
            "top": null,
            "visibility": null,
            "width": null
          }
        },
        "1af20fd5ac814dc3b8dfe7197f009b36": {
          "model_module": "@jupyter-widgets/controls",
          "model_name": "ProgressStyleModel",
          "model_module_version": "1.5.0",
          "state": {
            "_model_module": "@jupyter-widgets/controls",
            "_model_module_version": "1.5.0",
            "_model_name": "ProgressStyleModel",
            "_view_count": null,
            "_view_module": "@jupyter-widgets/base",
            "_view_module_version": "1.2.0",
            "_view_name": "StyleView",
            "bar_color": null,
            "description_width": ""
          }
        },
        "52f00962d4fe44eb8a729416a9dd0f81": {
          "model_module": "@jupyter-widgets/base",
          "model_name": "LayoutModel",
          "model_module_version": "1.2.0",
          "state": {
            "_model_module": "@jupyter-widgets/base",
            "_model_module_version": "1.2.0",
            "_model_name": "LayoutModel",
            "_view_count": null,
            "_view_module": "@jupyter-widgets/base",
            "_view_module_version": "1.2.0",
            "_view_name": "LayoutView",
            "align_content": null,
            "align_items": null,
            "align_self": null,
            "border": null,
            "bottom": null,
            "display": null,
            "flex": null,
            "flex_flow": null,
            "grid_area": null,
            "grid_auto_columns": null,
            "grid_auto_flow": null,
            "grid_auto_rows": null,
            "grid_column": null,
            "grid_gap": null,
            "grid_row": null,
            "grid_template_areas": null,
            "grid_template_columns": null,
            "grid_template_rows": null,
            "height": null,
            "justify_content": null,
            "justify_items": null,
            "left": null,
            "margin": null,
            "max_height": null,
            "max_width": null,
            "min_height": null,
            "min_width": null,
            "object_fit": null,
            "object_position": null,
            "order": null,
            "overflow": null,
            "overflow_x": null,
            "overflow_y": null,
            "padding": null,
            "right": null,
            "top": null,
            "visibility": null,
            "width": null
          }
        },
        "7954a5fabf1948b4b328625595b32188": {
          "model_module": "@jupyter-widgets/controls",
          "model_name": "DescriptionStyleModel",
          "model_module_version": "1.5.0",
          "state": {
            "_model_module": "@jupyter-widgets/controls",
            "_model_module_version": "1.5.0",
            "_model_name": "DescriptionStyleModel",
            "_view_count": null,
            "_view_module": "@jupyter-widgets/base",
            "_view_module_version": "1.2.0",
            "_view_name": "StyleView",
            "description_width": ""
          }
        },
        "e0ff692d05d54ed693f5f155cc5daf78": {
          "model_module": "@jupyter-widgets/controls",
          "model_name": "HBoxModel",
          "model_module_version": "1.5.0",
          "state": {
            "_dom_classes": [],
            "_model_module": "@jupyter-widgets/controls",
            "_model_module_version": "1.5.0",
            "_model_name": "HBoxModel",
            "_view_count": null,
            "_view_module": "@jupyter-widgets/controls",
            "_view_module_version": "1.5.0",
            "_view_name": "HBoxView",
            "box_style": "",
            "children": [
              "IPY_MODEL_e84b4d17d4e94205ba5e4bbea7e118e1",
              "IPY_MODEL_9cb2f6b89e3344ae9b464b4a42d7f836",
              "IPY_MODEL_e4b272d069f24f9686aa90c364aec977"
            ],
            "layout": "IPY_MODEL_437d3aeff282426dac745d60c09305cb"
          }
        },
        "e84b4d17d4e94205ba5e4bbea7e118e1": {
          "model_module": "@jupyter-widgets/controls",
          "model_name": "HTMLModel",
          "model_module_version": "1.5.0",
          "state": {
            "_dom_classes": [],
            "_model_module": "@jupyter-widgets/controls",
            "_model_module_version": "1.5.0",
            "_model_name": "HTMLModel",
            "_view_count": null,
            "_view_module": "@jupyter-widgets/controls",
            "_view_module_version": "1.5.0",
            "_view_name": "HTMLView",
            "description": "",
            "description_tooltip": null,
            "layout": "IPY_MODEL_c7dfb1ebc9f34927bd850ba69159a202",
            "placeholder": "​",
            "style": "IPY_MODEL_6f21b5c77d544fd890cce67646763038",
            "value": "validation-00000-of-00001.parquet: 100%"
          }
        },
        "9cb2f6b89e3344ae9b464b4a42d7f836": {
          "model_module": "@jupyter-widgets/controls",
          "model_name": "FloatProgressModel",
          "model_module_version": "1.5.0",
          "state": {
            "_dom_classes": [],
            "_model_module": "@jupyter-widgets/controls",
            "_model_module_version": "1.5.0",
            "_model_name": "FloatProgressModel",
            "_view_count": null,
            "_view_module": "@jupyter-widgets/controls",
            "_view_module_version": "1.5.0",
            "_view_name": "ProgressView",
            "bar_style": "success",
            "description": "",
            "description_tooltip": null,
            "layout": "IPY_MODEL_97aaadc4506f4397894012abbe607e6b",
            "max": 34664725,
            "min": 0,
            "orientation": "horizontal",
            "style": "IPY_MODEL_3f3132dba6534c648802ba64aade9855",
            "value": 34664725
          }
        },
        "e4b272d069f24f9686aa90c364aec977": {
          "model_module": "@jupyter-widgets/controls",
          "model_name": "HTMLModel",
          "model_module_version": "1.5.0",
          "state": {
            "_dom_classes": [],
            "_model_module": "@jupyter-widgets/controls",
            "_model_module_version": "1.5.0",
            "_model_name": "HTMLModel",
            "_view_count": null,
            "_view_module": "@jupyter-widgets/controls",
            "_view_module_version": "1.5.0",
            "_view_name": "HTMLView",
            "description": "",
            "description_tooltip": null,
            "layout": "IPY_MODEL_2aea989d7353410dacd2918bef4aeb89",
            "placeholder": "​",
            "style": "IPY_MODEL_7cb90b364eae4610af80cad74d5ae0d0",
            "value": " 34.7M/34.7M [00:00&lt;00:00, 152MB/s]"
          }
        },
        "437d3aeff282426dac745d60c09305cb": {
          "model_module": "@jupyter-widgets/base",
          "model_name": "LayoutModel",
          "model_module_version": "1.2.0",
          "state": {
            "_model_module": "@jupyter-widgets/base",
            "_model_module_version": "1.2.0",
            "_model_name": "LayoutModel",
            "_view_count": null,
            "_view_module": "@jupyter-widgets/base",
            "_view_module_version": "1.2.0",
            "_view_name": "LayoutView",
            "align_content": null,
            "align_items": null,
            "align_self": null,
            "border": null,
            "bottom": null,
            "display": null,
            "flex": null,
            "flex_flow": null,
            "grid_area": null,
            "grid_auto_columns": null,
            "grid_auto_flow": null,
            "grid_auto_rows": null,
            "grid_column": null,
            "grid_gap": null,
            "grid_row": null,
            "grid_template_areas": null,
            "grid_template_columns": null,
            "grid_template_rows": null,
            "height": null,
            "justify_content": null,
            "justify_items": null,
            "left": null,
            "margin": null,
            "max_height": null,
            "max_width": null,
            "min_height": null,
            "min_width": null,
            "object_fit": null,
            "object_position": null,
            "order": null,
            "overflow": null,
            "overflow_x": null,
            "overflow_y": null,
            "padding": null,
            "right": null,
            "top": null,
            "visibility": null,
            "width": null
          }
        },
        "c7dfb1ebc9f34927bd850ba69159a202": {
          "model_module": "@jupyter-widgets/base",
          "model_name": "LayoutModel",
          "model_module_version": "1.2.0",
          "state": {
            "_model_module": "@jupyter-widgets/base",
            "_model_module_version": "1.2.0",
            "_model_name": "LayoutModel",
            "_view_count": null,
            "_view_module": "@jupyter-widgets/base",
            "_view_module_version": "1.2.0",
            "_view_name": "LayoutView",
            "align_content": null,
            "align_items": null,
            "align_self": null,
            "border": null,
            "bottom": null,
            "display": null,
            "flex": null,
            "flex_flow": null,
            "grid_area": null,
            "grid_auto_columns": null,
            "grid_auto_flow": null,
            "grid_auto_rows": null,
            "grid_column": null,
            "grid_gap": null,
            "grid_row": null,
            "grid_template_areas": null,
            "grid_template_columns": null,
            "grid_template_rows": null,
            "height": null,
            "justify_content": null,
            "justify_items": null,
            "left": null,
            "margin": null,
            "max_height": null,
            "max_width": null,
            "min_height": null,
            "min_width": null,
            "object_fit": null,
            "object_position": null,
            "order": null,
            "overflow": null,
            "overflow_x": null,
            "overflow_y": null,
            "padding": null,
            "right": null,
            "top": null,
            "visibility": null,
            "width": null
          }
        },
        "6f21b5c77d544fd890cce67646763038": {
          "model_module": "@jupyter-widgets/controls",
          "model_name": "DescriptionStyleModel",
          "model_module_version": "1.5.0",
          "state": {
            "_model_module": "@jupyter-widgets/controls",
            "_model_module_version": "1.5.0",
            "_model_name": "DescriptionStyleModel",
            "_view_count": null,
            "_view_module": "@jupyter-widgets/base",
            "_view_module_version": "1.2.0",
            "_view_name": "StyleView",
            "description_width": ""
          }
        },
        "97aaadc4506f4397894012abbe607e6b": {
          "model_module": "@jupyter-widgets/base",
          "model_name": "LayoutModel",
          "model_module_version": "1.2.0",
          "state": {
            "_model_module": "@jupyter-widgets/base",
            "_model_module_version": "1.2.0",
            "_model_name": "LayoutModel",
            "_view_count": null,
            "_view_module": "@jupyter-widgets/base",
            "_view_module_version": "1.2.0",
            "_view_name": "LayoutView",
            "align_content": null,
            "align_items": null,
            "align_self": null,
            "border": null,
            "bottom": null,
            "display": null,
            "flex": null,
            "flex_flow": null,
            "grid_area": null,
            "grid_auto_columns": null,
            "grid_auto_flow": null,
            "grid_auto_rows": null,
            "grid_column": null,
            "grid_gap": null,
            "grid_row": null,
            "grid_template_areas": null,
            "grid_template_columns": null,
            "grid_template_rows": null,
            "height": null,
            "justify_content": null,
            "justify_items": null,
            "left": null,
            "margin": null,
            "max_height": null,
            "max_width": null,
            "min_height": null,
            "min_width": null,
            "object_fit": null,
            "object_position": null,
            "order": null,
            "overflow": null,
            "overflow_x": null,
            "overflow_y": null,
            "padding": null,
            "right": null,
            "top": null,
            "visibility": null,
            "width": null
          }
        },
        "3f3132dba6534c648802ba64aade9855": {
          "model_module": "@jupyter-widgets/controls",
          "model_name": "ProgressStyleModel",
          "model_module_version": "1.5.0",
          "state": {
            "_model_module": "@jupyter-widgets/controls",
            "_model_module_version": "1.5.0",
            "_model_name": "ProgressStyleModel",
            "_view_count": null,
            "_view_module": "@jupyter-widgets/base",
            "_view_module_version": "1.2.0",
            "_view_name": "StyleView",
            "bar_color": null,
            "description_width": ""
          }
        },
        "2aea989d7353410dacd2918bef4aeb89": {
          "model_module": "@jupyter-widgets/base",
          "model_name": "LayoutModel",
          "model_module_version": "1.2.0",
          "state": {
            "_model_module": "@jupyter-widgets/base",
            "_model_module_version": "1.2.0",
            "_model_name": "LayoutModel",
            "_view_count": null,
            "_view_module": "@jupyter-widgets/base",
            "_view_module_version": "1.2.0",
            "_view_name": "LayoutView",
            "align_content": null,
            "align_items": null,
            "align_self": null,
            "border": null,
            "bottom": null,
            "display": null,
            "flex": null,
            "flex_flow": null,
            "grid_area": null,
            "grid_auto_columns": null,
            "grid_auto_flow": null,
            "grid_auto_rows": null,
            "grid_column": null,
            "grid_gap": null,
            "grid_row": null,
            "grid_template_areas": null,
            "grid_template_columns": null,
            "grid_template_rows": null,
            "height": null,
            "justify_content": null,
            "justify_items": null,
            "left": null,
            "margin": null,
            "max_height": null,
            "max_width": null,
            "min_height": null,
            "min_width": null,
            "object_fit": null,
            "object_position": null,
            "order": null,
            "overflow": null,
            "overflow_x": null,
            "overflow_y": null,
            "padding": null,
            "right": null,
            "top": null,
            "visibility": null,
            "width": null
          }
        },
        "7cb90b364eae4610af80cad74d5ae0d0": {
          "model_module": "@jupyter-widgets/controls",
          "model_name": "DescriptionStyleModel",
          "model_module_version": "1.5.0",
          "state": {
            "_model_module": "@jupyter-widgets/controls",
            "_model_module_version": "1.5.0",
            "_model_name": "DescriptionStyleModel",
            "_view_count": null,
            "_view_module": "@jupyter-widgets/base",
            "_view_module_version": "1.2.0",
            "_view_name": "StyleView",
            "description_width": ""
          }
        },
        "02954cb86ceb46d5b07e3b19e6f2d038": {
          "model_module": "@jupyter-widgets/controls",
          "model_name": "HBoxModel",
          "model_module_version": "1.5.0",
          "state": {
            "_dom_classes": [],
            "_model_module": "@jupyter-widgets/controls",
            "_model_module_version": "1.5.0",
            "_model_name": "HBoxModel",
            "_view_count": null,
            "_view_module": "@jupyter-widgets/controls",
            "_view_module_version": "1.5.0",
            "_view_name": "HBoxView",
            "box_style": "",
            "children": [
              "IPY_MODEL_03e8c1520b044dfdafe370a28487bdf1",
              "IPY_MODEL_46cda77b0225455faf0243fd97b4289b",
              "IPY_MODEL_431a2fabea434ca5bff0f3ff26879e1a"
            ],
            "layout": "IPY_MODEL_2f4c9f3a115c4e66b92ef44df12efceb"
          }
        },
        "03e8c1520b044dfdafe370a28487bdf1": {
          "model_module": "@jupyter-widgets/controls",
          "model_name": "HTMLModel",
          "model_module_version": "1.5.0",
          "state": {
            "_dom_classes": [],
            "_model_module": "@jupyter-widgets/controls",
            "_model_module_version": "1.5.0",
            "_model_name": "HTMLModel",
            "_view_count": null,
            "_view_module": "@jupyter-widgets/controls",
            "_view_module_version": "1.5.0",
            "_view_name": "HTMLView",
            "description": "",
            "description_tooltip": null,
            "layout": "IPY_MODEL_218473556f2f46baaf0deb599f059c87",
            "placeholder": "​",
            "style": "IPY_MODEL_0e187cbfa5554076880d81d88e78b8cf",
            "value": "test-00000-of-00001.parquet: 100%"
          }
        },
        "46cda77b0225455faf0243fd97b4289b": {
          "model_module": "@jupyter-widgets/controls",
          "model_name": "FloatProgressModel",
          "model_module_version": "1.5.0",
          "state": {
            "_dom_classes": [],
            "_model_module": "@jupyter-widgets/controls",
            "_model_module_version": "1.5.0",
            "_model_name": "FloatProgressModel",
            "_view_count": null,
            "_view_module": "@jupyter-widgets/controls",
            "_view_module_version": "1.5.0",
            "_view_name": "ProgressView",
            "bar_style": "success",
            "description": "",
            "description_tooltip": null,
            "layout": "IPY_MODEL_867de2c9a5c94e63b31c7da16267a733",
            "max": 30000471,
            "min": 0,
            "orientation": "horizontal",
            "style": "IPY_MODEL_f4586550064e4031b3fb0a1c7535e2d4",
            "value": 30000471
          }
        },
        "431a2fabea434ca5bff0f3ff26879e1a": {
          "model_module": "@jupyter-widgets/controls",
          "model_name": "HTMLModel",
          "model_module_version": "1.5.0",
          "state": {
            "_dom_classes": [],
            "_model_module": "@jupyter-widgets/controls",
            "_model_module_version": "1.5.0",
            "_model_name": "HTMLModel",
            "_view_count": null,
            "_view_module": "@jupyter-widgets/controls",
            "_view_module_version": "1.5.0",
            "_view_name": "HTMLView",
            "description": "",
            "description_tooltip": null,
            "layout": "IPY_MODEL_9636e218e22448268f861eb4ec56cc48",
            "placeholder": "​",
            "style": "IPY_MODEL_f2f066ecdb084078a5981edcdccb6cbc",
            "value": " 30.0M/30.0M [00:00&lt;00:00, 145MB/s]"
          }
        },
        "2f4c9f3a115c4e66b92ef44df12efceb": {
          "model_module": "@jupyter-widgets/base",
          "model_name": "LayoutModel",
          "model_module_version": "1.2.0",
          "state": {
            "_model_module": "@jupyter-widgets/base",
            "_model_module_version": "1.2.0",
            "_model_name": "LayoutModel",
            "_view_count": null,
            "_view_module": "@jupyter-widgets/base",
            "_view_module_version": "1.2.0",
            "_view_name": "LayoutView",
            "align_content": null,
            "align_items": null,
            "align_self": null,
            "border": null,
            "bottom": null,
            "display": null,
            "flex": null,
            "flex_flow": null,
            "grid_area": null,
            "grid_auto_columns": null,
            "grid_auto_flow": null,
            "grid_auto_rows": null,
            "grid_column": null,
            "grid_gap": null,
            "grid_row": null,
            "grid_template_areas": null,
            "grid_template_columns": null,
            "grid_template_rows": null,
            "height": null,
            "justify_content": null,
            "justify_items": null,
            "left": null,
            "margin": null,
            "max_height": null,
            "max_width": null,
            "min_height": null,
            "min_width": null,
            "object_fit": null,
            "object_position": null,
            "order": null,
            "overflow": null,
            "overflow_x": null,
            "overflow_y": null,
            "padding": null,
            "right": null,
            "top": null,
            "visibility": null,
            "width": null
          }
        },
        "218473556f2f46baaf0deb599f059c87": {
          "model_module": "@jupyter-widgets/base",
          "model_name": "LayoutModel",
          "model_module_version": "1.2.0",
          "state": {
            "_model_module": "@jupyter-widgets/base",
            "_model_module_version": "1.2.0",
            "_model_name": "LayoutModel",
            "_view_count": null,
            "_view_module": "@jupyter-widgets/base",
            "_view_module_version": "1.2.0",
            "_view_name": "LayoutView",
            "align_content": null,
            "align_items": null,
            "align_self": null,
            "border": null,
            "bottom": null,
            "display": null,
            "flex": null,
            "flex_flow": null,
            "grid_area": null,
            "grid_auto_columns": null,
            "grid_auto_flow": null,
            "grid_auto_rows": null,
            "grid_column": null,
            "grid_gap": null,
            "grid_row": null,
            "grid_template_areas": null,
            "grid_template_columns": null,
            "grid_template_rows": null,
            "height": null,
            "justify_content": null,
            "justify_items": null,
            "left": null,
            "margin": null,
            "max_height": null,
            "max_width": null,
            "min_height": null,
            "min_width": null,
            "object_fit": null,
            "object_position": null,
            "order": null,
            "overflow": null,
            "overflow_x": null,
            "overflow_y": null,
            "padding": null,
            "right": null,
            "top": null,
            "visibility": null,
            "width": null
          }
        },
        "0e187cbfa5554076880d81d88e78b8cf": {
          "model_module": "@jupyter-widgets/controls",
          "model_name": "DescriptionStyleModel",
          "model_module_version": "1.5.0",
          "state": {
            "_model_module": "@jupyter-widgets/controls",
            "_model_module_version": "1.5.0",
            "_model_name": "DescriptionStyleModel",
            "_view_count": null,
            "_view_module": "@jupyter-widgets/base",
            "_view_module_version": "1.2.0",
            "_view_name": "StyleView",
            "description_width": ""
          }
        },
        "867de2c9a5c94e63b31c7da16267a733": {
          "model_module": "@jupyter-widgets/base",
          "model_name": "LayoutModel",
          "model_module_version": "1.2.0",
          "state": {
            "_model_module": "@jupyter-widgets/base",
            "_model_module_version": "1.2.0",
            "_model_name": "LayoutModel",
            "_view_count": null,
            "_view_module": "@jupyter-widgets/base",
            "_view_module_version": "1.2.0",
            "_view_name": "LayoutView",
            "align_content": null,
            "align_items": null,
            "align_self": null,
            "border": null,
            "bottom": null,
            "display": null,
            "flex": null,
            "flex_flow": null,
            "grid_area": null,
            "grid_auto_columns": null,
            "grid_auto_flow": null,
            "grid_auto_rows": null,
            "grid_column": null,
            "grid_gap": null,
            "grid_row": null,
            "grid_template_areas": null,
            "grid_template_columns": null,
            "grid_template_rows": null,
            "height": null,
            "justify_content": null,
            "justify_items": null,
            "left": null,
            "margin": null,
            "max_height": null,
            "max_width": null,
            "min_height": null,
            "min_width": null,
            "object_fit": null,
            "object_position": null,
            "order": null,
            "overflow": null,
            "overflow_x": null,
            "overflow_y": null,
            "padding": null,
            "right": null,
            "top": null,
            "visibility": null,
            "width": null
          }
        },
        "f4586550064e4031b3fb0a1c7535e2d4": {
          "model_module": "@jupyter-widgets/controls",
          "model_name": "ProgressStyleModel",
          "model_module_version": "1.5.0",
          "state": {
            "_model_module": "@jupyter-widgets/controls",
            "_model_module_version": "1.5.0",
            "_model_name": "ProgressStyleModel",
            "_view_count": null,
            "_view_module": "@jupyter-widgets/base",
            "_view_module_version": "1.2.0",
            "_view_name": "StyleView",
            "bar_color": null,
            "description_width": ""
          }
        },
        "9636e218e22448268f861eb4ec56cc48": {
          "model_module": "@jupyter-widgets/base",
          "model_name": "LayoutModel",
          "model_module_version": "1.2.0",
          "state": {
            "_model_module": "@jupyter-widgets/base",
            "_model_module_version": "1.2.0",
            "_model_name": "LayoutModel",
            "_view_count": null,
            "_view_module": "@jupyter-widgets/base",
            "_view_module_version": "1.2.0",
            "_view_name": "LayoutView",
            "align_content": null,
            "align_items": null,
            "align_self": null,
            "border": null,
            "bottom": null,
            "display": null,
            "flex": null,
            "flex_flow": null,
            "grid_area": null,
            "grid_auto_columns": null,
            "grid_auto_flow": null,
            "grid_auto_rows": null,
            "grid_column": null,
            "grid_gap": null,
            "grid_row": null,
            "grid_template_areas": null,
            "grid_template_columns": null,
            "grid_template_rows": null,
            "height": null,
            "justify_content": null,
            "justify_items": null,
            "left": null,
            "margin": null,
            "max_height": null,
            "max_width": null,
            "min_height": null,
            "min_width": null,
            "object_fit": null,
            "object_position": null,
            "order": null,
            "overflow": null,
            "overflow_x": null,
            "overflow_y": null,
            "padding": null,
            "right": null,
            "top": null,
            "visibility": null,
            "width": null
          }
        },
        "f2f066ecdb084078a5981edcdccb6cbc": {
          "model_module": "@jupyter-widgets/controls",
          "model_name": "DescriptionStyleModel",
          "model_module_version": "1.5.0",
          "state": {
            "_model_module": "@jupyter-widgets/controls",
            "_model_module_version": "1.5.0",
            "_model_name": "DescriptionStyleModel",
            "_view_count": null,
            "_view_module": "@jupyter-widgets/base",
            "_view_module_version": "1.2.0",
            "_view_name": "StyleView",
            "description_width": ""
          }
        },
        "0953caa273894e0280ae7cd8a3723502": {
          "model_module": "@jupyter-widgets/controls",
          "model_name": "HBoxModel",
          "model_module_version": "1.5.0",
          "state": {
            "_dom_classes": [],
            "_model_module": "@jupyter-widgets/controls",
            "_model_module_version": "1.5.0",
            "_model_name": "HBoxModel",
            "_view_count": null,
            "_view_module": "@jupyter-widgets/controls",
            "_view_module_version": "1.5.0",
            "_view_name": "HBoxView",
            "box_style": "",
            "children": [
              "IPY_MODEL_02708f372c6f40089759bb10a1b81df6",
              "IPY_MODEL_3bae73ce61274209aaf598c6d7b04ade",
              "IPY_MODEL_e1e26c1b51964d46af98590cad066adc"
            ],
            "layout": "IPY_MODEL_4b442c54b2754961b6fd52133e4dab28"
          }
        },
        "02708f372c6f40089759bb10a1b81df6": {
          "model_module": "@jupyter-widgets/controls",
          "model_name": "HTMLModel",
          "model_module_version": "1.5.0",
          "state": {
            "_dom_classes": [],
            "_model_module": "@jupyter-widgets/controls",
            "_model_module_version": "1.5.0",
            "_model_name": "HTMLModel",
            "_view_count": null,
            "_view_module": "@jupyter-widgets/controls",
            "_view_module_version": "1.5.0",
            "_view_name": "HTMLView",
            "description": "",
            "description_tooltip": null,
            "layout": "IPY_MODEL_efad5ba373614e0b88f8e1fef188c6ee",
            "placeholder": "​",
            "style": "IPY_MODEL_ce4e3580c2c94711a0541fd7c277c799",
            "value": "Generating train split: 100%"
          }
        },
        "3bae73ce61274209aaf598c6d7b04ade": {
          "model_module": "@jupyter-widgets/controls",
          "model_name": "FloatProgressModel",
          "model_module_version": "1.5.0",
          "state": {
            "_dom_classes": [],
            "_model_module": "@jupyter-widgets/controls",
            "_model_module_version": "1.5.0",
            "_model_name": "FloatProgressModel",
            "_view_count": null,
            "_view_module": "@jupyter-widgets/controls",
            "_view_module_version": "1.5.0",
            "_view_name": "ProgressView",
            "bar_style": "success",
            "description": "",
            "description_tooltip": null,
            "layout": "IPY_MODEL_3903fba6d5644499aa6a2de4bd0aa289",
            "max": 287113,
            "min": 0,
            "orientation": "horizontal",
            "style": "IPY_MODEL_1bc5e0426f3f4482bd47427b7fd8f97c",
            "value": 287113
          }
        },
        "e1e26c1b51964d46af98590cad066adc": {
          "model_module": "@jupyter-widgets/controls",
          "model_name": "HTMLModel",
          "model_module_version": "1.5.0",
          "state": {
            "_dom_classes": [],
            "_model_module": "@jupyter-widgets/controls",
            "_model_module_version": "1.5.0",
            "_model_name": "HTMLModel",
            "_view_count": null,
            "_view_module": "@jupyter-widgets/controls",
            "_view_module_version": "1.5.0",
            "_view_name": "HTMLView",
            "description": "",
            "description_tooltip": null,
            "layout": "IPY_MODEL_acc9f05420ac4b22b993bd822695f1b2",
            "placeholder": "​",
            "style": "IPY_MODEL_690dc4656d104c2cb30f9ddfd281a2c1",
            "value": " 287113/287113 [00:13&lt;00:00, 10573.17 examples/s]"
          }
        },
        "4b442c54b2754961b6fd52133e4dab28": {
          "model_module": "@jupyter-widgets/base",
          "model_name": "LayoutModel",
          "model_module_version": "1.2.0",
          "state": {
            "_model_module": "@jupyter-widgets/base",
            "_model_module_version": "1.2.0",
            "_model_name": "LayoutModel",
            "_view_count": null,
            "_view_module": "@jupyter-widgets/base",
            "_view_module_version": "1.2.0",
            "_view_name": "LayoutView",
            "align_content": null,
            "align_items": null,
            "align_self": null,
            "border": null,
            "bottom": null,
            "display": null,
            "flex": null,
            "flex_flow": null,
            "grid_area": null,
            "grid_auto_columns": null,
            "grid_auto_flow": null,
            "grid_auto_rows": null,
            "grid_column": null,
            "grid_gap": null,
            "grid_row": null,
            "grid_template_areas": null,
            "grid_template_columns": null,
            "grid_template_rows": null,
            "height": null,
            "justify_content": null,
            "justify_items": null,
            "left": null,
            "margin": null,
            "max_height": null,
            "max_width": null,
            "min_height": null,
            "min_width": null,
            "object_fit": null,
            "object_position": null,
            "order": null,
            "overflow": null,
            "overflow_x": null,
            "overflow_y": null,
            "padding": null,
            "right": null,
            "top": null,
            "visibility": null,
            "width": null
          }
        },
        "efad5ba373614e0b88f8e1fef188c6ee": {
          "model_module": "@jupyter-widgets/base",
          "model_name": "LayoutModel",
          "model_module_version": "1.2.0",
          "state": {
            "_model_module": "@jupyter-widgets/base",
            "_model_module_version": "1.2.0",
            "_model_name": "LayoutModel",
            "_view_count": null,
            "_view_module": "@jupyter-widgets/base",
            "_view_module_version": "1.2.0",
            "_view_name": "LayoutView",
            "align_content": null,
            "align_items": null,
            "align_self": null,
            "border": null,
            "bottom": null,
            "display": null,
            "flex": null,
            "flex_flow": null,
            "grid_area": null,
            "grid_auto_columns": null,
            "grid_auto_flow": null,
            "grid_auto_rows": null,
            "grid_column": null,
            "grid_gap": null,
            "grid_row": null,
            "grid_template_areas": null,
            "grid_template_columns": null,
            "grid_template_rows": null,
            "height": null,
            "justify_content": null,
            "justify_items": null,
            "left": null,
            "margin": null,
            "max_height": null,
            "max_width": null,
            "min_height": null,
            "min_width": null,
            "object_fit": null,
            "object_position": null,
            "order": null,
            "overflow": null,
            "overflow_x": null,
            "overflow_y": null,
            "padding": null,
            "right": null,
            "top": null,
            "visibility": null,
            "width": null
          }
        },
        "ce4e3580c2c94711a0541fd7c277c799": {
          "model_module": "@jupyter-widgets/controls",
          "model_name": "DescriptionStyleModel",
          "model_module_version": "1.5.0",
          "state": {
            "_model_module": "@jupyter-widgets/controls",
            "_model_module_version": "1.5.0",
            "_model_name": "DescriptionStyleModel",
            "_view_count": null,
            "_view_module": "@jupyter-widgets/base",
            "_view_module_version": "1.2.0",
            "_view_name": "StyleView",
            "description_width": ""
          }
        },
        "3903fba6d5644499aa6a2de4bd0aa289": {
          "model_module": "@jupyter-widgets/base",
          "model_name": "LayoutModel",
          "model_module_version": "1.2.0",
          "state": {
            "_model_module": "@jupyter-widgets/base",
            "_model_module_version": "1.2.0",
            "_model_name": "LayoutModel",
            "_view_count": null,
            "_view_module": "@jupyter-widgets/base",
            "_view_module_version": "1.2.0",
            "_view_name": "LayoutView",
            "align_content": null,
            "align_items": null,
            "align_self": null,
            "border": null,
            "bottom": null,
            "display": null,
            "flex": null,
            "flex_flow": null,
            "grid_area": null,
            "grid_auto_columns": null,
            "grid_auto_flow": null,
            "grid_auto_rows": null,
            "grid_column": null,
            "grid_gap": null,
            "grid_row": null,
            "grid_template_areas": null,
            "grid_template_columns": null,
            "grid_template_rows": null,
            "height": null,
            "justify_content": null,
            "justify_items": null,
            "left": null,
            "margin": null,
            "max_height": null,
            "max_width": null,
            "min_height": null,
            "min_width": null,
            "object_fit": null,
            "object_position": null,
            "order": null,
            "overflow": null,
            "overflow_x": null,
            "overflow_y": null,
            "padding": null,
            "right": null,
            "top": null,
            "visibility": null,
            "width": null
          }
        },
        "1bc5e0426f3f4482bd47427b7fd8f97c": {
          "model_module": "@jupyter-widgets/controls",
          "model_name": "ProgressStyleModel",
          "model_module_version": "1.5.0",
          "state": {
            "_model_module": "@jupyter-widgets/controls",
            "_model_module_version": "1.5.0",
            "_model_name": "ProgressStyleModel",
            "_view_count": null,
            "_view_module": "@jupyter-widgets/base",
            "_view_module_version": "1.2.0",
            "_view_name": "StyleView",
            "bar_color": null,
            "description_width": ""
          }
        },
        "acc9f05420ac4b22b993bd822695f1b2": {
          "model_module": "@jupyter-widgets/base",
          "model_name": "LayoutModel",
          "model_module_version": "1.2.0",
          "state": {
            "_model_module": "@jupyter-widgets/base",
            "_model_module_version": "1.2.0",
            "_model_name": "LayoutModel",
            "_view_count": null,
            "_view_module": "@jupyter-widgets/base",
            "_view_module_version": "1.2.0",
            "_view_name": "LayoutView",
            "align_content": null,
            "align_items": null,
            "align_self": null,
            "border": null,
            "bottom": null,
            "display": null,
            "flex": null,
            "flex_flow": null,
            "grid_area": null,
            "grid_auto_columns": null,
            "grid_auto_flow": null,
            "grid_auto_rows": null,
            "grid_column": null,
            "grid_gap": null,
            "grid_row": null,
            "grid_template_areas": null,
            "grid_template_columns": null,
            "grid_template_rows": null,
            "height": null,
            "justify_content": null,
            "justify_items": null,
            "left": null,
            "margin": null,
            "max_height": null,
            "max_width": null,
            "min_height": null,
            "min_width": null,
            "object_fit": null,
            "object_position": null,
            "order": null,
            "overflow": null,
            "overflow_x": null,
            "overflow_y": null,
            "padding": null,
            "right": null,
            "top": null,
            "visibility": null,
            "width": null
          }
        },
        "690dc4656d104c2cb30f9ddfd281a2c1": {
          "model_module": "@jupyter-widgets/controls",
          "model_name": "DescriptionStyleModel",
          "model_module_version": "1.5.0",
          "state": {
            "_model_module": "@jupyter-widgets/controls",
            "_model_module_version": "1.5.0",
            "_model_name": "DescriptionStyleModel",
            "_view_count": null,
            "_view_module": "@jupyter-widgets/base",
            "_view_module_version": "1.2.0",
            "_view_name": "StyleView",
            "description_width": ""
          }
        },
        "17ed35221dc44a3f92ca75a48c281ff3": {
          "model_module": "@jupyter-widgets/controls",
          "model_name": "HBoxModel",
          "model_module_version": "1.5.0",
          "state": {
            "_dom_classes": [],
            "_model_module": "@jupyter-widgets/controls",
            "_model_module_version": "1.5.0",
            "_model_name": "HBoxModel",
            "_view_count": null,
            "_view_module": "@jupyter-widgets/controls",
            "_view_module_version": "1.5.0",
            "_view_name": "HBoxView",
            "box_style": "",
            "children": [
              "IPY_MODEL_e710619dec894d37868d875654f61ece",
              "IPY_MODEL_717b17c5b44a4a31b25b4fa0d510b413",
              "IPY_MODEL_574b6a5863fc458da569181276656167"
            ],
            "layout": "IPY_MODEL_58eea2d38c194b93b8336774cb28befe"
          }
        },
        "e710619dec894d37868d875654f61ece": {
          "model_module": "@jupyter-widgets/controls",
          "model_name": "HTMLModel",
          "model_module_version": "1.5.0",
          "state": {
            "_dom_classes": [],
            "_model_module": "@jupyter-widgets/controls",
            "_model_module_version": "1.5.0",
            "_model_name": "HTMLModel",
            "_view_count": null,
            "_view_module": "@jupyter-widgets/controls",
            "_view_module_version": "1.5.0",
            "_view_name": "HTMLView",
            "description": "",
            "description_tooltip": null,
            "layout": "IPY_MODEL_ea970bf91ead4b9bb13b01c9ab9a511c",
            "placeholder": "​",
            "style": "IPY_MODEL_3bfda5e749664890a6c9e1127287940f",
            "value": "Generating validation split: 100%"
          }
        },
        "717b17c5b44a4a31b25b4fa0d510b413": {
          "model_module": "@jupyter-widgets/controls",
          "model_name": "FloatProgressModel",
          "model_module_version": "1.5.0",
          "state": {
            "_dom_classes": [],
            "_model_module": "@jupyter-widgets/controls",
            "_model_module_version": "1.5.0",
            "_model_name": "FloatProgressModel",
            "_view_count": null,
            "_view_module": "@jupyter-widgets/controls",
            "_view_module_version": "1.5.0",
            "_view_name": "ProgressView",
            "bar_style": "success",
            "description": "",
            "description_tooltip": null,
            "layout": "IPY_MODEL_0a3d35935811458d85480200b5f9447c",
            "max": 13368,
            "min": 0,
            "orientation": "horizontal",
            "style": "IPY_MODEL_88eba733620e425181fcb889a2b7a91d",
            "value": 13368
          }
        },
        "574b6a5863fc458da569181276656167": {
          "model_module": "@jupyter-widgets/controls",
          "model_name": "HTMLModel",
          "model_module_version": "1.5.0",
          "state": {
            "_dom_classes": [],
            "_model_module": "@jupyter-widgets/controls",
            "_model_module_version": "1.5.0",
            "_model_name": "HTMLModel",
            "_view_count": null,
            "_view_module": "@jupyter-widgets/controls",
            "_view_module_version": "1.5.0",
            "_view_name": "HTMLView",
            "description": "",
            "description_tooltip": null,
            "layout": "IPY_MODEL_72ea1fdd909147ddbe5391ecbd0388a6",
            "placeholder": "​",
            "style": "IPY_MODEL_efd28175242945d5b70601c26dd24e43",
            "value": " 13368/13368 [00:01&lt;00:00, 8870.98 examples/s]"
          }
        },
        "58eea2d38c194b93b8336774cb28befe": {
          "model_module": "@jupyter-widgets/base",
          "model_name": "LayoutModel",
          "model_module_version": "1.2.0",
          "state": {
            "_model_module": "@jupyter-widgets/base",
            "_model_module_version": "1.2.0",
            "_model_name": "LayoutModel",
            "_view_count": null,
            "_view_module": "@jupyter-widgets/base",
            "_view_module_version": "1.2.0",
            "_view_name": "LayoutView",
            "align_content": null,
            "align_items": null,
            "align_self": null,
            "border": null,
            "bottom": null,
            "display": null,
            "flex": null,
            "flex_flow": null,
            "grid_area": null,
            "grid_auto_columns": null,
            "grid_auto_flow": null,
            "grid_auto_rows": null,
            "grid_column": null,
            "grid_gap": null,
            "grid_row": null,
            "grid_template_areas": null,
            "grid_template_columns": null,
            "grid_template_rows": null,
            "height": null,
            "justify_content": null,
            "justify_items": null,
            "left": null,
            "margin": null,
            "max_height": null,
            "max_width": null,
            "min_height": null,
            "min_width": null,
            "object_fit": null,
            "object_position": null,
            "order": null,
            "overflow": null,
            "overflow_x": null,
            "overflow_y": null,
            "padding": null,
            "right": null,
            "top": null,
            "visibility": null,
            "width": null
          }
        },
        "ea970bf91ead4b9bb13b01c9ab9a511c": {
          "model_module": "@jupyter-widgets/base",
          "model_name": "LayoutModel",
          "model_module_version": "1.2.0",
          "state": {
            "_model_module": "@jupyter-widgets/base",
            "_model_module_version": "1.2.0",
            "_model_name": "LayoutModel",
            "_view_count": null,
            "_view_module": "@jupyter-widgets/base",
            "_view_module_version": "1.2.0",
            "_view_name": "LayoutView",
            "align_content": null,
            "align_items": null,
            "align_self": null,
            "border": null,
            "bottom": null,
            "display": null,
            "flex": null,
            "flex_flow": null,
            "grid_area": null,
            "grid_auto_columns": null,
            "grid_auto_flow": null,
            "grid_auto_rows": null,
            "grid_column": null,
            "grid_gap": null,
            "grid_row": null,
            "grid_template_areas": null,
            "grid_template_columns": null,
            "grid_template_rows": null,
            "height": null,
            "justify_content": null,
            "justify_items": null,
            "left": null,
            "margin": null,
            "max_height": null,
            "max_width": null,
            "min_height": null,
            "min_width": null,
            "object_fit": null,
            "object_position": null,
            "order": null,
            "overflow": null,
            "overflow_x": null,
            "overflow_y": null,
            "padding": null,
            "right": null,
            "top": null,
            "visibility": null,
            "width": null
          }
        },
        "3bfda5e749664890a6c9e1127287940f": {
          "model_module": "@jupyter-widgets/controls",
          "model_name": "DescriptionStyleModel",
          "model_module_version": "1.5.0",
          "state": {
            "_model_module": "@jupyter-widgets/controls",
            "_model_module_version": "1.5.0",
            "_model_name": "DescriptionStyleModel",
            "_view_count": null,
            "_view_module": "@jupyter-widgets/base",
            "_view_module_version": "1.2.0",
            "_view_name": "StyleView",
            "description_width": ""
          }
        },
        "0a3d35935811458d85480200b5f9447c": {
          "model_module": "@jupyter-widgets/base",
          "model_name": "LayoutModel",
          "model_module_version": "1.2.0",
          "state": {
            "_model_module": "@jupyter-widgets/base",
            "_model_module_version": "1.2.0",
            "_model_name": "LayoutModel",
            "_view_count": null,
            "_view_module": "@jupyter-widgets/base",
            "_view_module_version": "1.2.0",
            "_view_name": "LayoutView",
            "align_content": null,
            "align_items": null,
            "align_self": null,
            "border": null,
            "bottom": null,
            "display": null,
            "flex": null,
            "flex_flow": null,
            "grid_area": null,
            "grid_auto_columns": null,
            "grid_auto_flow": null,
            "grid_auto_rows": null,
            "grid_column": null,
            "grid_gap": null,
            "grid_row": null,
            "grid_template_areas": null,
            "grid_template_columns": null,
            "grid_template_rows": null,
            "height": null,
            "justify_content": null,
            "justify_items": null,
            "left": null,
            "margin": null,
            "max_height": null,
            "max_width": null,
            "min_height": null,
            "min_width": null,
            "object_fit": null,
            "object_position": null,
            "order": null,
            "overflow": null,
            "overflow_x": null,
            "overflow_y": null,
            "padding": null,
            "right": null,
            "top": null,
            "visibility": null,
            "width": null
          }
        },
        "88eba733620e425181fcb889a2b7a91d": {
          "model_module": "@jupyter-widgets/controls",
          "model_name": "ProgressStyleModel",
          "model_module_version": "1.5.0",
          "state": {
            "_model_module": "@jupyter-widgets/controls",
            "_model_module_version": "1.5.0",
            "_model_name": "ProgressStyleModel",
            "_view_count": null,
            "_view_module": "@jupyter-widgets/base",
            "_view_module_version": "1.2.0",
            "_view_name": "StyleView",
            "bar_color": null,
            "description_width": ""
          }
        },
        "72ea1fdd909147ddbe5391ecbd0388a6": {
          "model_module": "@jupyter-widgets/base",
          "model_name": "LayoutModel",
          "model_module_version": "1.2.0",
          "state": {
            "_model_module": "@jupyter-widgets/base",
            "_model_module_version": "1.2.0",
            "_model_name": "LayoutModel",
            "_view_count": null,
            "_view_module": "@jupyter-widgets/base",
            "_view_module_version": "1.2.0",
            "_view_name": "LayoutView",
            "align_content": null,
            "align_items": null,
            "align_self": null,
            "border": null,
            "bottom": null,
            "display": null,
            "flex": null,
            "flex_flow": null,
            "grid_area": null,
            "grid_auto_columns": null,
            "grid_auto_flow": null,
            "grid_auto_rows": null,
            "grid_column": null,
            "grid_gap": null,
            "grid_row": null,
            "grid_template_areas": null,
            "grid_template_columns": null,
            "grid_template_rows": null,
            "height": null,
            "justify_content": null,
            "justify_items": null,
            "left": null,
            "margin": null,
            "max_height": null,
            "max_width": null,
            "min_height": null,
            "min_width": null,
            "object_fit": null,
            "object_position": null,
            "order": null,
            "overflow": null,
            "overflow_x": null,
            "overflow_y": null,
            "padding": null,
            "right": null,
            "top": null,
            "visibility": null,
            "width": null
          }
        },
        "efd28175242945d5b70601c26dd24e43": {
          "model_module": "@jupyter-widgets/controls",
          "model_name": "DescriptionStyleModel",
          "model_module_version": "1.5.0",
          "state": {
            "_model_module": "@jupyter-widgets/controls",
            "_model_module_version": "1.5.0",
            "_model_name": "DescriptionStyleModel",
            "_view_count": null,
            "_view_module": "@jupyter-widgets/base",
            "_view_module_version": "1.2.0",
            "_view_name": "StyleView",
            "description_width": ""
          }
        },
        "260e4935a7dd4fcebf9b4342783c5bbe": {
          "model_module": "@jupyter-widgets/controls",
          "model_name": "HBoxModel",
          "model_module_version": "1.5.0",
          "state": {
            "_dom_classes": [],
            "_model_module": "@jupyter-widgets/controls",
            "_model_module_version": "1.5.0",
            "_model_name": "HBoxModel",
            "_view_count": null,
            "_view_module": "@jupyter-widgets/controls",
            "_view_module_version": "1.5.0",
            "_view_name": "HBoxView",
            "box_style": "",
            "children": [
              "IPY_MODEL_4e505a0d813c48ab92f412980c08f7cb",
              "IPY_MODEL_6f7dadcbd2ed495e94dbaa9761778ac0",
              "IPY_MODEL_4764f908d48e4ef1aa7527ed3624fd3e"
            ],
            "layout": "IPY_MODEL_cfe9d7caabe84912ac4829008b9272ba"
          }
        },
        "4e505a0d813c48ab92f412980c08f7cb": {
          "model_module": "@jupyter-widgets/controls",
          "model_name": "HTMLModel",
          "model_module_version": "1.5.0",
          "state": {
            "_dom_classes": [],
            "_model_module": "@jupyter-widgets/controls",
            "_model_module_version": "1.5.0",
            "_model_name": "HTMLModel",
            "_view_count": null,
            "_view_module": "@jupyter-widgets/controls",
            "_view_module_version": "1.5.0",
            "_view_name": "HTMLView",
            "description": "",
            "description_tooltip": null,
            "layout": "IPY_MODEL_df68583f878d44a996110697c76d60db",
            "placeholder": "​",
            "style": "IPY_MODEL_29d84cf326b844d68764b40ec2d5e46e",
            "value": "Generating test split: 100%"
          }
        },
        "6f7dadcbd2ed495e94dbaa9761778ac0": {
          "model_module": "@jupyter-widgets/controls",
          "model_name": "FloatProgressModel",
          "model_module_version": "1.5.0",
          "state": {
            "_dom_classes": [],
            "_model_module": "@jupyter-widgets/controls",
            "_model_module_version": "1.5.0",
            "_model_name": "FloatProgressModel",
            "_view_count": null,
            "_view_module": "@jupyter-widgets/controls",
            "_view_module_version": "1.5.0",
            "_view_name": "ProgressView",
            "bar_style": "success",
            "description": "",
            "description_tooltip": null,
            "layout": "IPY_MODEL_e4d85f03327441aa9194ce96f46edf4c",
            "max": 11490,
            "min": 0,
            "orientation": "horizontal",
            "style": "IPY_MODEL_180b369d5d1344768c871edde6ed3e86",
            "value": 11490
          }
        },
        "4764f908d48e4ef1aa7527ed3624fd3e": {
          "model_module": "@jupyter-widgets/controls",
          "model_name": "HTMLModel",
          "model_module_version": "1.5.0",
          "state": {
            "_dom_classes": [],
            "_model_module": "@jupyter-widgets/controls",
            "_model_module_version": "1.5.0",
            "_model_name": "HTMLModel",
            "_view_count": null,
            "_view_module": "@jupyter-widgets/controls",
            "_view_module_version": "1.5.0",
            "_view_name": "HTMLView",
            "description": "",
            "description_tooltip": null,
            "layout": "IPY_MODEL_8a479879b7dd498aae3246089189471b",
            "placeholder": "​",
            "style": "IPY_MODEL_317969c79bf3429b969ed4d9c79f3ab3",
            "value": " 11490/11490 [00:00&lt;00:00, 15018.94 examples/s]"
          }
        },
        "cfe9d7caabe84912ac4829008b9272ba": {
          "model_module": "@jupyter-widgets/base",
          "model_name": "LayoutModel",
          "model_module_version": "1.2.0",
          "state": {
            "_model_module": "@jupyter-widgets/base",
            "_model_module_version": "1.2.0",
            "_model_name": "LayoutModel",
            "_view_count": null,
            "_view_module": "@jupyter-widgets/base",
            "_view_module_version": "1.2.0",
            "_view_name": "LayoutView",
            "align_content": null,
            "align_items": null,
            "align_self": null,
            "border": null,
            "bottom": null,
            "display": null,
            "flex": null,
            "flex_flow": null,
            "grid_area": null,
            "grid_auto_columns": null,
            "grid_auto_flow": null,
            "grid_auto_rows": null,
            "grid_column": null,
            "grid_gap": null,
            "grid_row": null,
            "grid_template_areas": null,
            "grid_template_columns": null,
            "grid_template_rows": null,
            "height": null,
            "justify_content": null,
            "justify_items": null,
            "left": null,
            "margin": null,
            "max_height": null,
            "max_width": null,
            "min_height": null,
            "min_width": null,
            "object_fit": null,
            "object_position": null,
            "order": null,
            "overflow": null,
            "overflow_x": null,
            "overflow_y": null,
            "padding": null,
            "right": null,
            "top": null,
            "visibility": null,
            "width": null
          }
        },
        "df68583f878d44a996110697c76d60db": {
          "model_module": "@jupyter-widgets/base",
          "model_name": "LayoutModel",
          "model_module_version": "1.2.0",
          "state": {
            "_model_module": "@jupyter-widgets/base",
            "_model_module_version": "1.2.0",
            "_model_name": "LayoutModel",
            "_view_count": null,
            "_view_module": "@jupyter-widgets/base",
            "_view_module_version": "1.2.0",
            "_view_name": "LayoutView",
            "align_content": null,
            "align_items": null,
            "align_self": null,
            "border": null,
            "bottom": null,
            "display": null,
            "flex": null,
            "flex_flow": null,
            "grid_area": null,
            "grid_auto_columns": null,
            "grid_auto_flow": null,
            "grid_auto_rows": null,
            "grid_column": null,
            "grid_gap": null,
            "grid_row": null,
            "grid_template_areas": null,
            "grid_template_columns": null,
            "grid_template_rows": null,
            "height": null,
            "justify_content": null,
            "justify_items": null,
            "left": null,
            "margin": null,
            "max_height": null,
            "max_width": null,
            "min_height": null,
            "min_width": null,
            "object_fit": null,
            "object_position": null,
            "order": null,
            "overflow": null,
            "overflow_x": null,
            "overflow_y": null,
            "padding": null,
            "right": null,
            "top": null,
            "visibility": null,
            "width": null
          }
        },
        "29d84cf326b844d68764b40ec2d5e46e": {
          "model_module": "@jupyter-widgets/controls",
          "model_name": "DescriptionStyleModel",
          "model_module_version": "1.5.0",
          "state": {
            "_model_module": "@jupyter-widgets/controls",
            "_model_module_version": "1.5.0",
            "_model_name": "DescriptionStyleModel",
            "_view_count": null,
            "_view_module": "@jupyter-widgets/base",
            "_view_module_version": "1.2.0",
            "_view_name": "StyleView",
            "description_width": ""
          }
        },
        "e4d85f03327441aa9194ce96f46edf4c": {
          "model_module": "@jupyter-widgets/base",
          "model_name": "LayoutModel",
          "model_module_version": "1.2.0",
          "state": {
            "_model_module": "@jupyter-widgets/base",
            "_model_module_version": "1.2.0",
            "_model_name": "LayoutModel",
            "_view_count": null,
            "_view_module": "@jupyter-widgets/base",
            "_view_module_version": "1.2.0",
            "_view_name": "LayoutView",
            "align_content": null,
            "align_items": null,
            "align_self": null,
            "border": null,
            "bottom": null,
            "display": null,
            "flex": null,
            "flex_flow": null,
            "grid_area": null,
            "grid_auto_columns": null,
            "grid_auto_flow": null,
            "grid_auto_rows": null,
            "grid_column": null,
            "grid_gap": null,
            "grid_row": null,
            "grid_template_areas": null,
            "grid_template_columns": null,
            "grid_template_rows": null,
            "height": null,
            "justify_content": null,
            "justify_items": null,
            "left": null,
            "margin": null,
            "max_height": null,
            "max_width": null,
            "min_height": null,
            "min_width": null,
            "object_fit": null,
            "object_position": null,
            "order": null,
            "overflow": null,
            "overflow_x": null,
            "overflow_y": null,
            "padding": null,
            "right": null,
            "top": null,
            "visibility": null,
            "width": null
          }
        },
        "180b369d5d1344768c871edde6ed3e86": {
          "model_module": "@jupyter-widgets/controls",
          "model_name": "ProgressStyleModel",
          "model_module_version": "1.5.0",
          "state": {
            "_model_module": "@jupyter-widgets/controls",
            "_model_module_version": "1.5.0",
            "_model_name": "ProgressStyleModel",
            "_view_count": null,
            "_view_module": "@jupyter-widgets/base",
            "_view_module_version": "1.2.0",
            "_view_name": "StyleView",
            "bar_color": null,
            "description_width": ""
          }
        },
        "8a479879b7dd498aae3246089189471b": {
          "model_module": "@jupyter-widgets/base",
          "model_name": "LayoutModel",
          "model_module_version": "1.2.0",
          "state": {
            "_model_module": "@jupyter-widgets/base",
            "_model_module_version": "1.2.0",
            "_model_name": "LayoutModel",
            "_view_count": null,
            "_view_module": "@jupyter-widgets/base",
            "_view_module_version": "1.2.0",
            "_view_name": "LayoutView",
            "align_content": null,
            "align_items": null,
            "align_self": null,
            "border": null,
            "bottom": null,
            "display": null,
            "flex": null,
            "flex_flow": null,
            "grid_area": null,
            "grid_auto_columns": null,
            "grid_auto_flow": null,
            "grid_auto_rows": null,
            "grid_column": null,
            "grid_gap": null,
            "grid_row": null,
            "grid_template_areas": null,
            "grid_template_columns": null,
            "grid_template_rows": null,
            "height": null,
            "justify_content": null,
            "justify_items": null,
            "left": null,
            "margin": null,
            "max_height": null,
            "max_width": null,
            "min_height": null,
            "min_width": null,
            "object_fit": null,
            "object_position": null,
            "order": null,
            "overflow": null,
            "overflow_x": null,
            "overflow_y": null,
            "padding": null,
            "right": null,
            "top": null,
            "visibility": null,
            "width": null
          }
        },
        "317969c79bf3429b969ed4d9c79f3ab3": {
          "model_module": "@jupyter-widgets/controls",
          "model_name": "DescriptionStyleModel",
          "model_module_version": "1.5.0",
          "state": {
            "_model_module": "@jupyter-widgets/controls",
            "_model_module_version": "1.5.0",
            "_model_name": "DescriptionStyleModel",
            "_view_count": null,
            "_view_module": "@jupyter-widgets/base",
            "_view_module_version": "1.2.0",
            "_view_name": "StyleView",
            "description_width": ""
          }
        }
      }
    }
  },
  "cells": [
    {
      "cell_type": "markdown",
      "source": [
        "# Implement Yoshua Bengio's Paper - 'A Neural Probabilistic Language Model' (2003)\n",
        "\n",
        "Link for the paper: https://www.jmlr.org/papers/volume3/bengio03a/bengio03a.pdf\n",
        "\n",
        "Bigram Language Model file can be found here: https://github.com/GauravAtavale/Large-Language-Model-in-7-days\n",
        "\n",
        "\n",
        "#### **Why this paper?**\n",
        "\n",
        "There are 3 main reasons why this paper is considered a landmark in the development of language models:\n",
        "\n",
        "> **`1.Paradigm Shift`**: Moved NLP from brittle, count-based methods (N-gram) to flexible, learnable representations, unlocking semantic understanding..\n",
        "\n",
        "> **`2.Foundation for Modern NLP`**: Embeddings and neural architectures it pioneered are core to GPT, BERT, and beyond.\n",
        "\n",
        "> **`3.Word Embeddings `** : Ideas proposed in the paper about learning the embeddings based on the context is still the state of the art approach and has directly influenced in developing sophisticated embeddings like Word2Vec (2013).\n",
        "\n",
        "#### **What are we going to cover?**\n",
        "\n",
        "```\n",
        "We will implement the following 2 tasks:\n",
        "Task 1: Name Generation using the next charachter prediction\n",
        "Task 2: Words Generation using the next charachter prediction\n",
        "```\n",
        "\n",
        "#### **Summary of the Proposed Architecture:**\n",
        "\n",
        "> ##### Biggest drawback of N-gram models is that it suffered from sparsity and exponential growth in parameters as context size increased. This Neural network based approach solved it.\n",
        "\n",
        "> ##### The architecture proposed has 3 layers with learnable parameters\n",
        "*   1. Embedding layer - The embeddings are initiated randomly and are learned in training\n",
        "*   2. Hidden layer\n",
        "*   3. Output layer\n",
        "\n",
        "> ##### Tanh is the activation used\n",
        "\n",
        "> ##### Context length used is 3 (how many tokens are used to predict next token). But this can easily be extedned to higher length\n",
        "\n",
        "> ##### It is an extremely flexible Neural network architecture - The number of dimensions used for embeddings and number of hidden layers can be extended to achieve better performance  "
      ],
      "metadata": {
        "id": "m9j-IktxoO1n"
      }
    },
    {
      "cell_type": "markdown",
      "source": [
        "![Day2_A Neural Probabilistic Language Model -  architecture.png](data:image/png;base64,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)"
      ],
      "metadata": {
        "id": "0ojcxz3boUHZ"
      }
    },
    {
      "cell_type": "markdown",
      "source": [
        "# Generate Names using the Neural Network approach of predicting the next token\n",
        "\n",
        "**Vocabulary** - This is a character level model. So 26 alphabets  + start/end token is the vovabulary\n",
        "\n",
        "**Token** - Charachters"
      ],
      "metadata": {
        "id": "EtCM0CEVoUFB"
      }
    },
    {
      "cell_type": "code",
      "source": [
        "# Import relevant libraries\n",
        "from google.colab import drive\n",
        "import requests\n",
        "import numpy as np\n",
        "import pandas as pd\n",
        "import torch\n",
        "import torch.nn as nn\n",
        "import torch.nn.functional as F\n",
        "import matplotlib.pyplot as plt\n",
        "# drive.mount('/content/drive') # The file can be uploaded to drive. Don't forget to mount drive in that case"
      ],
      "metadata": {
        "id": "pYAHiBIjoT7a"
      },
      "execution_count": 1,
      "outputs": []
    },
    {
      "cell_type": "code",
      "source": [
        "# The file is in the Git repo: https://github.com/GauravAtavale/Large-Language-Model-in-7-days\n",
        "\n",
        "# This file has a list of 32033 names collected. This dataset will be used to generate new names.\n",
        "git_url = \"https://raw.githubusercontent.com/GauravAtavale/Large-Language-Model-in-7-days/refs/heads/main/names.txt\"\n",
        "response = requests.get(git_url)\n",
        "response.raise_for_status()\n",
        "words = response.text.splitlines()\n",
        "\n",
        "#words = open('names.txt','r').read().splitlines() # if the file is local\n",
        "print(f\"Data type of words: {type(words)} \\nNumber of names in file: {len(words)}\")"
      ],
      "metadata": {
        "colab": {
          "base_uri": "https://localhost:8080/"
        },
        "id": "xVwUAoxloT93",
        "outputId": "450c7d56-c33a-4cb4-855a-0ca7e7de3464"
      },
      "execution_count": 2,
      "outputs": [
        {
          "output_type": "stream",
          "name": "stdout",
          "text": [
            "Data type of words: <class 'list'> \n",
            "Number of names in file: 32033\n"
          ]
        }
      ]
    },
    {
      "cell_type": "code",
      "source": [
        "# Looking at the first 10 names in the file\n",
        "# Note: this dataset is a cleaned dataset with only alphbets(lowercase) in it. No need to clean further\n",
        "words[:10]"
      ],
      "metadata": {
        "colab": {
          "base_uri": "https://localhost:8080/"
        },
        "id": "dma--piwoUCh",
        "outputId": "a83b3802-7f35-4b89-85b7-ad76cc059f94"
      },
      "execution_count": 3,
      "outputs": [
        {
          "output_type": "execute_result",
          "data": {
            "text/plain": [
              "['emma',\n",
              " 'olivia',\n",
              " 'ava',\n",
              " 'isabella',\n",
              " 'sophia',\n",
              " 'charlotte',\n",
              " 'mia',\n",
              " 'amelia',\n",
              " 'harper',\n",
              " 'evelyn']"
            ]
          },
          "metadata": {},
          "execution_count": 3
        }
      ]
    },
    {
      "cell_type": "code",
      "source": [
        "# First let's check Unique characters in the data\n",
        "chars = sorted(list(set(''.join(words))))\n",
        "print(\"Unique Charachters:\", chars)\n",
        "print(\"Number of unique Chars:\", len(chars))"
      ],
      "metadata": {
        "colab": {
          "base_uri": "https://localhost:8080/"
        },
        "id": "GY-R7aMitFHW",
        "outputId": "82e8c7ec-8cb7-467e-b91c-137791d8a051"
      },
      "execution_count": 4,
      "outputs": [
        {
          "output_type": "stream",
          "name": "stdout",
          "text": [
            "Unique Charachters: ['a', 'b', 'c', 'd', 'e', 'f', 'g', 'h', 'i', 'j', 'k', 'l', 'm', 'n', 'o', 'p', 'q', 'r', 's', 't', 'u', 'v', 'w', 'x', 'y', 'z']\n",
            "Number of unique Chars: 26\n"
          ]
        }
      ]
    },
    {
      "cell_type": "code",
      "source": [
        "# Note: 'chars' is sorted list of unique characters and index starts from 1....26\n",
        "string_to_ind = {s:i+1 for i,s in enumerate(chars)} # +1 is to offset so that a starts with index 1\n",
        "\n",
        "# We can introduce tokens <'S'> and <'E'>. But since we will have <'S'> as the first char(rows) and <'E'> as second (columns)\n",
        "# it would be convinient to replace them with '.', depicting start and end when represented in row or col respectively\n",
        "string_to_ind['.'] = 0\n",
        "\n",
        "print(dict(list(string_to_ind.items())[0:5]))\n",
        "print(dict(list(string_to_ind.items())[22:]))"
      ],
      "metadata": {
        "colab": {
          "base_uri": "https://localhost:8080/"
        },
        "id": "Ele0iHL0tCOY",
        "outputId": "f8f444ef-934c-44fb-9abb-f23419e01df5"
      },
      "execution_count": 5,
      "outputs": [
        {
          "output_type": "stream",
          "name": "stdout",
          "text": [
            "{'a': 1, 'b': 2, 'c': 3, 'd': 4, 'e': 5}\n",
            "{'w': 23, 'x': 24, 'y': 25, 'z': 26, '.': 0}\n"
          ]
        }
      ]
    },
    {
      "cell_type": "code",
      "source": [
        "# Get reverse of string_to_ind for labelling later\n",
        "ind_to_string = {i:s for s,i in string_to_ind.items()}"
      ],
      "metadata": {
        "id": "xYfqeK6otR43"
      },
      "execution_count": 6,
      "outputs": []
    },
    {
      "cell_type": "markdown",
      "source": [
        "## Illustration with 2 examples"
      ],
      "metadata": {
        "id": "oeU4AKEbtoqk"
      }
    },
    {
      "cell_type": "markdown",
      "source": [
        "The architecture in Bengio's paper looks at prior 3 tokens to predict the next token. This implies the context length of the model is 3.\n",
        "\n",
        "\n",
        "The beginning of the series is represented as **`'...'`** here\n",
        "\n"
      ],
      "metadata": {
        "id": "R_NwJj0iJ2Ot"
      }
    },
    {
      "cell_type": "code",
      "source": [
        "context_len = 3 # As per the architecture which can be extended\n",
        "X_list = []\n",
        "Y_list = []\n",
        "\n",
        "for w in words[0:2]: # First 2 names are considered for the example\n",
        "  print(\"Name:\",w)\n",
        "  # Initially the context window is '...' to predict the first token. The token '.' has index 0\n",
        "  context_block = [0] * context_len\n",
        "  for ch in w + '.':\n",
        "    # Create X and Y based on the context and the next token\n",
        "    X_list.append(context_block) # Append the index of context_block\n",
        "    Y_list.append(string_to_ind[ch]) # Corresponding index of next token\n",
        "    print(''.join(ind_to_string[i] for i in context_block),\"------next-token------>\",ch)\n",
        "    context_block = context_block[1:] + [string_to_ind[ch]]\n",
        "  print(\"------------------------------------\")\n",
        "print(\"Created X data and corresponding Y values:\", X_list[0], \"---->\",Y_list[0],\"\\nRemaining data: \")\n",
        "\n",
        "print(X_list[1:])\n",
        "print(Y_list[1:])"
      ],
      "metadata": {
        "colab": {
          "base_uri": "https://localhost:8080/"
        },
        "id": "2AQc61IlscTQ",
        "outputId": "3a399750-3da7-4e5e-9572-07ff09a8237c"
      },
      "execution_count": 7,
      "outputs": [
        {
          "output_type": "stream",
          "name": "stdout",
          "text": [
            "Name: emma\n",
            "... ------next-token------> e\n",
            "..e ------next-token------> m\n",
            ".em ------next-token------> m\n",
            "emm ------next-token------> a\n",
            "mma ------next-token------> .\n",
            "------------------------------------\n",
            "Name: olivia\n",
            "... ------next-token------> o\n",
            "..o ------next-token------> l\n",
            ".ol ------next-token------> i\n",
            "oli ------next-token------> v\n",
            "liv ------next-token------> i\n",
            "ivi ------next-token------> a\n",
            "via ------next-token------> .\n",
            "------------------------------------\n",
            "Created X data and corresponding Y values: [0, 0, 0] ----> 5 \n",
            "Remaining data: \n",
            "[[0, 0, 5], [0, 5, 13], [5, 13, 13], [13, 13, 1], [0, 0, 0], [0, 0, 15], [0, 15, 12], [15, 12, 9], [12, 9, 22], [9, 22, 9], [22, 9, 1]]\n",
            "[13, 13, 1, 0, 15, 12, 9, 22, 9, 1, 0]\n"
          ]
        }
      ]
    },
    {
      "cell_type": "code",
      "source": [
        "# Create the final data\n",
        "context_len = 3\n",
        "X_list = []\n",
        "Y_list = []\n",
        "\n",
        "for w in words:\n",
        "  context_block = [0] * context_len\n",
        "  for ch in w + '.':\n",
        "    X_list.append(context_block)\n",
        "    Y_list.append(string_to_ind[ch])\n",
        "    context_block = context_block[1:] + [string_to_ind[ch]]\n",
        "X = torch.tensor(X_list)\n",
        "Y = torch.tensor(Y_list)"
      ],
      "metadata": {
        "id": "qoh6UWyyscRb"
      },
      "execution_count": 8,
      "outputs": []
    },
    {
      "cell_type": "code",
      "source": [
        "X.shape, Y.shape, X.dtype, Y.dtype"
      ],
      "metadata": {
        "colab": {
          "base_uri": "https://localhost:8080/"
        },
        "id": "wCUkWIc9scOQ",
        "outputId": "e04fca5c-b198-4c47-fbf4-fe02dcb2e2ee"
      },
      "execution_count": 9,
      "outputs": [
        {
          "output_type": "execute_result",
          "data": {
            "text/plain": [
              "(torch.Size([228146, 3]), torch.Size([228146]), torch.int64, torch.int64)"
            ]
          },
          "metadata": {},
          "execution_count": 9
        }
      ]
    },
    {
      "cell_type": "markdown",
      "source": [
        "## Initialize the embeddings\n",
        "\n",
        "> Bengio's paper was one of the first papers to introduce learning embeddings based on the context\n",
        "\n",
        "> Embeddings are randomly generated initially and are learned through training the Neural Network\n",
        "\n",
        "> Number of dimensions of embeddings has to be decided... that tells how much information is wrapped in them"
      ],
      "metadata": {
        "id": "Cmefo_e6Rjr6"
      }
    },
    {
      "cell_type": "code",
      "source": [
        "# Generating the embeddings\n",
        "emb_dim = 2\n",
        "vocab_len = len(string_to_ind)\n",
        "print(f\"Vocab length: {vocab_len}\\nEmbedding dimension: {emb_dim}\")\n",
        "\n",
        "C = torch.randn((vocab_len,emb_dim)) # This is the initial embedding - Randomly generated"
      ],
      "metadata": {
        "colab": {
          "base_uri": "https://localhost:8080/"
        },
        "id": "lr0_BKq_scMT",
        "outputId": "47dbcada-62b4-4d26-e69f-1827184bc6d2"
      },
      "execution_count": 10,
      "outputs": [
        {
          "output_type": "stream",
          "name": "stdout",
          "text": [
            "Vocab length: 27\n",
            "Embedding dimension: 2\n"
          ]
        }
      ]
    },
    {
      "cell_type": "code",
      "source": [
        "# Tensor C is the embeddings of the 27 characters we have in the vocabulary\n",
        "print(\"Showing the first 5 tokens and their corresponding embeddings\\n\")\n",
        "for i in range(5):print(f\"Tokens: '{ind_to_string[i]}'    |    Embedding: {C[i]}\")"
      ],
      "metadata": {
        "colab": {
          "base_uri": "https://localhost:8080/"
        },
        "id": "tDfgLxxhiDzn",
        "outputId": "399115a2-abbe-41a5-92a5-574aa0d39577"
      },
      "execution_count": 11,
      "outputs": [
        {
          "output_type": "stream",
          "name": "stdout",
          "text": [
            "Showing the first 5 tokens and their corresponding embeddings\n",
            "\n",
            "Tokens: '.'    |    Embedding: tensor([0.2287, 0.7128])\n",
            "Tokens: 'a'    |    Embedding: tensor([ 0.7195, -2.3990])\n",
            "Tokens: 'b'    |    Embedding: tensor([0.0556, 0.9636])\n",
            "Tokens: 'c'    |    Embedding: tensor([-1.7431, -1.1074])\n",
            "Tokens: 'd'    |    Embedding: tensor([-0.9167, -0.6111])\n"
          ]
        }
      ]
    },
    {
      "cell_type": "markdown",
      "source": [
        "## Visualize Embeddings before Learning"
      ],
      "metadata": {
        "id": "qMhxAJDNuIiw"
      }
    },
    {
      "cell_type": "code",
      "source": [
        "plt.figure(figsize=(8,8))\n",
        "plt.scatter(C[:,0].data, C[:,1].data, s=200)\n",
        "for i in range(C.shape[0]):\n",
        "  plt.text(C[i,0].item(), C[i,1].item(), ind_to_string[i], ha=\"center\", va=\"center\", color=\"white\")\n",
        "plt.grid('minor')\n",
        "plt.title(\"Embeddings before training - random initialization\")\n",
        "plt.show()"
      ],
      "metadata": {
        "colab": {
          "base_uri": "https://localhost:8080/",
          "height": 699
        },
        "id": "BCRCMCqbuU4D",
        "outputId": "000b9791-b6a4-498f-9f87-2b1d9ec85c60"
      },
      "execution_count": 12,
      "outputs": [
        {
          "output_type": "display_data",
          "data": {
            "text/plain": [
              "<Figure size 800x800 with 1 Axes>"
            ],
            "image/png": "[encoded data removed]"
          },
          "metadata": {}
        }
      ]
    },
    {
      "cell_type": "markdown",
      "source": [
        "> Truly random distribution of embeddings => No learning"
      ],
      "metadata": {
        "id": "sHqIzWujyP1y"
      }
    },
    {
      "cell_type": "markdown",
      "source": [
        "## Importance of uisng View to reshape\n",
        "\n",
        "> #### The input data X has context length of 3 tokens (it looks into 3 prior tokens to predict next). And Embeddings has dimension = 2.\n",
        "> #### This implies that each example in input data should be a vector of length 3 * 2 = 6 (context_len X embedding_dim)\n",
        "> #### This is achieved easily using the View method in torch - which reshapes the data in desired dims\n",
        "\n",
        "\n",
        "\n"
      ],
      "metadata": {
        "id": "76VATJj1KG61"
      }
    },
    {
      "cell_type": "code",
      "source": [
        "print(\"The first row in X is :\", X[0])\n",
        "print(\"\\nThe corresponding embedding vector is :\\n\", C[X[0]], \"\\nand has a shape:\", C[X[0]].shape)\n",
        "print(\"\\nThis has to be transformed into a vector of 1*6 and the best way is uing the 'view' function which reshapes the tensors:\\n\",C[X[0]].view(1,-1))\n",
        "print(\"\\nAs an example embeddings for the first 4 examples would look like this:\\n\",C[X[0:4]].view(X[0:4].shape[0],6))"
      ],
      "metadata": {
        "colab": {
          "base_uri": "https://localhost:8080/"
        },
        "id": "jF2mUpqBAUF4",
        "outputId": "11375928-7548-4cc3-c510-2726b71a99f8"
      },
      "execution_count": 13,
      "outputs": [
        {
          "output_type": "stream",
          "name": "stdout",
          "text": [
            "The first row in X is : tensor([0, 0, 0])\n",
            "\n",
            "The corresponding embedding vector is :\n",
            " tensor([[0.2287, 0.7128],\n",
            "        [0.2287, 0.7128],\n",
            "        [0.2287, 0.7128]]) \n",
            "and has a shape: torch.Size([3, 2])\n",
            "\n",
            "This has to be transformed into a vector of 1*6 and the best way is uing the 'view' function which reshapes the tensors:\n",
            " tensor([[0.2287, 0.7128, 0.2287, 0.7128, 0.2287, 0.7128]])\n",
            "\n",
            "As an example embeddings for the first 4 examples would look like this:\n",
            " tensor([[ 0.2287,  0.7128,  0.2287,  0.7128,  0.2287,  0.7128],\n",
            "        [ 0.2287,  0.7128,  0.2287,  0.7128,  0.2787,  0.5236],\n",
            "        [ 0.2287,  0.7128,  0.2787,  0.5236,  0.0020, -1.1246],\n",
            "        [ 0.2787,  0.5236,  0.0020, -1.1246,  0.0020, -1.1246]])\n"
          ]
        }
      ]
    },
    {
      "cell_type": "code",
      "source": [
        "# Getting the embeddings for all the examples in X dataset\n",
        "vector_len = context_len * emb_dim\n",
        "\n",
        "embedded_X = C[X].view(X.shape[0],vector_len)\n",
        "print(\"Shape of X         :\", X.shape)\n",
        "print(\"Shape of embedded_X:\", embedded_X.shape)"
      ],
      "metadata": {
        "colab": {
          "base_uri": "https://localhost:8080/"
        },
        "id": "fXP2QfkhBnoC",
        "outputId": "d5e623c6-ce66-4fc8-c8be-2e4005e015fa"
      },
      "execution_count": 14,
      "outputs": [
        {
          "output_type": "stream",
          "name": "stdout",
          "text": [
            "Shape of X         : torch.Size([228146, 3])\n",
            "Shape of embedded_X: torch.Size([228146, 6])\n"
          ]
        }
      ]
    },
    {
      "cell_type": "markdown",
      "source": [
        "## Start of Building the Neural Network\n",
        "\n",
        "\n",
        "> The embeddings **`C`** is a parameter\n",
        "\n",
        "> According to the architecture this is a simple Neural network with  1 hidden layer\n",
        "`\n",
        "\n"
      ],
      "metadata": {
        "id": "uBMLKnk7XATT"
      }
    },
    {
      "cell_type": "code",
      "source": [
        "# Lets build the first layer (the only layer)\n",
        "n_hidden = 100\n",
        "# emb_dim = 2 # Already defined above\n",
        "# context_len = 3 # Already defined above\n",
        "# input_dim = emb_dim * context_len\n",
        "vector_len = context_len * emb_dim\n",
        "\n",
        "w1 = torch.randn((embedded_X.shape[1],n_hidden)) # input vector_len = Context_len*emb_dim here it is 6\n",
        "b1 = torch.randn(n_hidden)\n",
        "\n",
        "print(\"Input data dimensions:\", embedded_X.shape)\n",
        "print(\"w1 dimensions:\", w1.shape)\n",
        "print(\"b1 dimensions:\", b1.shape)"
      ],
      "metadata": {
        "colab": {
          "base_uri": "https://localhost:8080/"
        },
        "id": "fHJjJDc7xdC0",
        "outputId": "43be862d-cc2b-48a8-cc36-a3605530066a"
      },
      "execution_count": 15,
      "outputs": [
        {
          "output_type": "stream",
          "name": "stdout",
          "text": [
            "Input data dimensions: torch.Size([228146, 6])\n",
            "w1 dimensions: torch.Size([6, 100])\n",
            "b1 dimensions: torch.Size([100])\n"
          ]
        }
      ]
    },
    {
      "cell_type": "code",
      "source": [
        "# Make sure the bias is broadcasted perfectly before proceeding\n",
        "# Following Yoshua Bengio's paper tanh is used as the activation function\n",
        "h = torch.tanh((embedded_X @ w1) + b1)\n",
        "h .shape"
      ],
      "metadata": {
        "colab": {
          "base_uri": "https://localhost:8080/"
        },
        "id": "0HDsg9ZkxdGJ",
        "outputId": "92ea56ef-448c-461a-d880-499119d688ae"
      },
      "execution_count": 16,
      "outputs": [
        {
          "output_type": "execute_result",
          "data": {
            "text/plain": [
              "torch.Size([228146, 100])"
            ]
          },
          "metadata": {},
          "execution_count": 16
        }
      ]
    },
    {
      "cell_type": "code",
      "source": [
        "# Output layer\n",
        "w2 = torch.randn((n_hidden,vocab_len))\n",
        "b2 = torch.randn(vocab_len)\n",
        "print(\"w2 dimensions:\", w2.shape)\n",
        "print(\"b2 dimensions:\", b2.shape)"
      ],
      "metadata": {
        "colab": {
          "base_uri": "https://localhost:8080/"
        },
        "id": "U-p7syj0xdIS",
        "outputId": "004684e0-079d-4478-c345-bc5dbdce1ec5"
      },
      "execution_count": 17,
      "outputs": [
        {
          "output_type": "stream",
          "name": "stdout",
          "text": [
            "w2 dimensions: torch.Size([100, 27])\n",
            "b2 dimensions: torch.Size([27])\n"
          ]
        }
      ]
    },
    {
      "cell_type": "code",
      "source": [
        "# logits\n",
        "logits = h @ w2 + b2\n",
        "logits.shape"
      ],
      "metadata": {
        "colab": {
          "base_uri": "https://localhost:8080/"
        },
        "id": "K7vr02t8yaPj",
        "outputId": "76e734c0-9b4f-4a53-96ec-d3759e3a90f5"
      },
      "execution_count": 18,
      "outputs": [
        {
          "output_type": "execute_result",
          "data": {
            "text/plain": [
              "torch.Size([228146, 27])"
            ]
          },
          "metadata": {},
          "execution_count": 18
        }
      ]
    },
    {
      "cell_type": "code",
      "source": [
        "# Get Manual softmax\n",
        "# cts = logits.exp()\n",
        "# probs = cts/cts.sum(1, keepdim = True)\n",
        "\n",
        "# Softmax using torch method\n",
        "y_pred = torch.softmax(logits,dim=1)\n",
        "y_pred.shape"
      ],
      "metadata": {
        "colab": {
          "base_uri": "https://localhost:8080/"
        },
        "id": "2EfyNYPnxdKI",
        "outputId": "8231bc09-9516-4c2e-f528-a15f78dbae4a"
      },
      "execution_count": 19,
      "outputs": [
        {
          "output_type": "execute_result",
          "data": {
            "text/plain": [
              "torch.Size([228146, 27])"
            ]
          },
          "metadata": {},
          "execution_count": 19
        }
      ]
    },
    {
      "cell_type": "code",
      "source": [
        "# Looking at the result of a an example - For row 3, Predicted index = 24 but Actual value is Index 1 but\n",
        "print(\"Looking at the softmax output of a an example (3 in this case):\\n\",y_pred[3])\n",
        "print(\"\\nPredicted index:\",torch.argmax(y_pred[3]))\n",
        "print(\"\\nActual value:\",Y[3])"
      ],
      "metadata": {
        "colab": {
          "base_uri": "https://localhost:8080/"
        },
        "id": "IpjnmKjYyjT1",
        "outputId": "36604dfd-6a45-450d-edd4-9124b3d8dfd4"
      },
      "execution_count": 20,
      "outputs": [
        {
          "output_type": "stream",
          "name": "stdout",
          "text": [
            "Looking at the softmax output of a an example (3 in this case):\n",
            " tensor([6.9734e-09, 2.4028e-07, 1.5292e-10, 5.5321e-04, 8.4480e-08, 3.6406e-03,\n",
            "        9.9580e-01, 2.9202e-09, 2.0948e-06, 3.5816e-13, 2.9698e-08, 1.9272e-07,\n",
            "        2.5952e-08, 2.6209e-10, 4.8926e-10, 5.0133e-10, 5.1534e-11, 2.6533e-06,\n",
            "        3.1409e-07, 3.2579e-13, 1.4195e-08, 2.6653e-09, 5.6951e-10, 1.2571e-12,\n",
            "        1.2021e-08, 3.7816e-07, 1.2455e-13])\n",
            "\n",
            "Predicted index: tensor(6)\n",
            "\n",
            "Actual value: tensor(1)\n"
          ]
        }
      ]
    },
    {
      "cell_type": "code",
      "source": [
        "# Log loss or Crossentropy loss is used here\n",
        "loss = -y_pred[torch.arange(Y.shape[0]),Y].log().mean()\n",
        "loss"
      ],
      "metadata": {
        "colab": {
          "base_uri": "https://localhost:8080/"
        },
        "id": "sMnuttBayrGb",
        "outputId": "3842400b-b3ec-4827-fbfd-65ee1bf0d725"
      },
      "execution_count": 21,
      "outputs": [
        {
          "output_type": "execute_result",
          "data": {
            "text/plain": [
              "tensor(18.4542)"
            ]
          },
          "metadata": {},
          "execution_count": 21
        }
      ]
    },
    {
      "cell_type": "markdown",
      "source": [
        "## Get mini batches - for efficient training"
      ],
      "metadata": {
        "id": "_PjaeeJtZIlL"
      }
    },
    {
      "cell_type": "code",
      "source": [
        "def get_batch_indices(data, batch_size):\n",
        "  \"\"\" Takes in input data and gives out the indices of mini batches\n",
        "      input: Input data and desired Batch size\n",
        "      output: List of indices of mini batches\n",
        "  \"\"\"\n",
        "  torch.manual_seed(42)\n",
        "  num_samples = data.shape[0] # 228146 for all of X train data\n",
        "  indices = torch.randperm(num_samples) # Shuffle indices between 0 - 228146\n",
        "  mini_batches_indices = []\n",
        "  num_batches = (num_samples + batch_size - 1) // batch_size  # Ceiling division\n",
        "\n",
        "  mini_batches_indices = []\n",
        "  for i in range(num_batches):\n",
        "      start_idx = i * batch_size\n",
        "      end_idx = start_idx + batch_size\n",
        "      batch_indices = indices[start_idx:end_idx]\n",
        "      mini_batches_indices.append(batch_indices)\n",
        "  return mini_batches_indices"
      ],
      "metadata": {
        "id": "2fPW9RJ5WnWd"
      },
      "execution_count": 22,
      "outputs": []
    },
    {
      "cell_type": "code",
      "source": [
        "# As an example\n",
        "mini_batch_check = get_batch_indices(X, batch_size=100)\n",
        "print(\"Examples in training data:\", X.shape[0],\"\\nNumber of mini Batches:\",  len(mini_batch_check))"
      ],
      "metadata": {
        "colab": {
          "base_uri": "https://localhost:8080/"
        },
        "id": "Z7-lplEoYnLh",
        "outputId": "3ab0abac-aac6-4ec5-e9b3-7840bcd5545c"
      },
      "execution_count": 23,
      "outputs": [
        {
          "output_type": "stream",
          "name": "stdout",
          "text": [
            "Examples in training data: 228146 \n",
            "Number of mini Batches: 2282\n"
          ]
        }
      ]
    },
    {
      "cell_type": "markdown",
      "source": [
        "## Putting all this together -  so far"
      ],
      "metadata": {
        "id": "u0jdVoKmyrIR"
      }
    },
    {
      "cell_type": "code",
      "source": [
        "# Initiate all relevant parameters\n",
        "context_len = 3\n",
        "emb_dim = 2\n",
        "n_hidden = 100\n",
        "batch_size = 10000\n",
        "\n",
        "vocab_len = len(string_to_ind)\n",
        "data_vector_len = context_len * emb_dim\n",
        "g = torch.Generator().manual_seed(2147483647) # For reproducibility\n",
        "\n",
        "# Embedding initialization -  A parameter\n",
        "C = torch.randn((vocab_len,emb_dim), generator=g)\n",
        "\n",
        "# Initialize the first layer (the only layer)\n",
        "w1 = torch.randn((data_vector_len,n_hidden), generator=g)\n",
        "b1 = torch.randn(n_hidden, generator=g)\n",
        "\n",
        "# Initialize the Output layer\n",
        "w2 = torch.randn((n_hidden,vocab_len), generator=g)\n",
        "b2 = torch.randn(vocab_len, generator=g)\n",
        "\n",
        "# The learnable parameters in this Architecture\n",
        "parameters = [C,w1,b1,w2,b2]\n",
        "for p in parameters:\n",
        "  p.requires_grad = True # Make sure the 'requires_grad' is True, which will help us calculate the gradients in the loss.backward() step\n",
        "\n",
        "print(\"Number of parameters learned in this Network:\",sum(p.nelement() for p in parameters))"
      ],
      "metadata": {
        "colab": {
          "base_uri": "https://localhost:8080/"
        },
        "id": "ft4v4-8vyrJ-",
        "outputId": "413ee74f-696e-43a0-aea8-51f18cf961e8"
      },
      "execution_count": 24,
      "outputs": [
        {
          "output_type": "stream",
          "name": "stdout",
          "text": [
            "Number of parameters learned in this Network: 3481\n"
          ]
        }
      ]
    },
    {
      "cell_type": "code",
      "source": [
        "# Mini Batch update\n",
        "\n",
        "mini_batch_ind = get_batch_indices(X, batch_size)\n",
        "loss_track_global = []\n",
        "num_epochs = 500\n",
        "\n",
        "for epoch in range(num_epochs):\n",
        "  loss_track_local = []\n",
        "  for idx in mini_batch_ind:\n",
        "  # Forward pass\n",
        "  # emb = C[X[idx]] # Get the corresponding embeddings for the X data\n",
        "    embedded_X = C[X[idx]].view(X[idx].shape[0],vector_len) # Get the corresponding embeddings for the X data\n",
        "    h = torch.tanh((embedded_X @ w1) + b1) # Calculate hidden layer values\n",
        "    logits = h @ w2 + b2 # op layer logits\n",
        "    #The above loss computation can be replicated with the below efficient code -- this is better for forward pass, backward pass --> efficient numerical computations\n",
        "    loss = F.cross_entropy(logits, Y[idx])\n",
        "    # if epoch % 100 == 0:\n",
        "    #   print(loss.item())\n",
        "    # print(loss.item())\n",
        "\n",
        "    # Backward pass\n",
        "    for p in parameters:\n",
        "      p.grad = None\n",
        "    loss.backward()\n",
        "      # Get stats\n",
        "    loss_track_local.append(loss.item())\n",
        "    #update\n",
        "    for p in parameters:\n",
        "      p.data += -0.01 * p.grad\n",
        "  avg_loss = sum(loss_track_local)/len(mini_batch_ind)\n",
        "  loss_track_global.append(avg_loss)\n",
        "  if epoch % 100 == 0 or epoch == num_epochs-1:\n",
        "    print(f\"Average loss after {epoch} is: {sum(loss_track_local)/len(mini_batch_ind) :.2f}\")"
      ],
      "metadata": {
        "colab": {
          "base_uri": "https://localhost:8080/"
        },
        "id": "5s0C4MLgbGeh",
        "outputId": "784a510a-3412-4ac6-c5c4-dd441278d04a"
      },
      "execution_count": 25,
      "outputs": [
        {
          "output_type": "stream",
          "name": "stdout",
          "text": [
            "Average loss after 0 is: 17.20\n",
            "Average loss after 100 is: 2.89\n",
            "Average loss after 200 is: 2.68\n",
            "Average loss after 300 is: 2.60\n",
            "Average loss after 400 is: 2.57\n",
            "Average loss after 499 is: 2.55\n"
          ]
        }
      ]
    },
    {
      "cell_type": "code",
      "source": [
        "embedded_X = C[X].view(X.shape[0],vector_len) # Get the corresponding embeddings for the X data\n",
        "h = torch.tanh((embedded_X @ w1) + b1) # Calculate hidden layer values\n",
        "logits = h @ w2 + b2 # op layer logits\n",
        "loss = F.cross_entropy(logits, Y)\n",
        "print(f\"Loss on all of the data {loss.item():.4f}\")"
      ],
      "metadata": {
        "colab": {
          "base_uri": "https://localhost:8080/"
        },
        "id": "OjSubCfKet73",
        "outputId": "ecf67715-484d-4159-de5c-fae50a66b35e"
      },
      "execution_count": 26,
      "outputs": [
        {
          "output_type": "stream",
          "name": "stdout",
          "text": [
            "Loss on all of the data 2.5473\n"
          ]
        }
      ]
    },
    {
      "cell_type": "code",
      "source": [
        "plt.plot(range(num_epochs), loss_track_global)\n",
        "plt.xlabel(\"Epochs\")\n",
        "plt.ylabel(\"Loss\")\n",
        "plt.title(\"Training Loss vs Epochs\")\n",
        "plt.show()"
      ],
      "metadata": {
        "colab": {
          "base_uri": "https://localhost:8080/",
          "height": 472
        },
        "id": "i5kG7bhyvNIo",
        "outputId": "e3581b75-57a6-4018-c50d-84332f3ada0e"
      },
      "execution_count": 27,
      "outputs": [
        {
          "output_type": "display_data",
          "data": {
            "text/plain": [
              "<Figure size 640x480 with 1 Axes>"
            ],
            "image/png": "[encoded data removed]"
          },
          "metadata": {}
        }
      ]
    },
    {
      "cell_type": "markdown",
      "source": [
        "## Visualize Embeddings - Intermediate"
      ],
      "metadata": {
        "id": "Eq8431XNt0Q7"
      }
    },
    {
      "cell_type": "code",
      "source": [
        "plt.figure(figsize=(8,8))\n",
        "plt.scatter(C[:,0].data, C[:,1].data, s=200)\n",
        "for i in range(C.shape[0]):\n",
        "  plt.text(C[i,0].item(), C[i,1].item(), ind_to_string[i], ha=\"center\", va=\"center\", color=\"white\")\n",
        "plt.grid('minor')\n",
        "plt.title(\"Embeddings after training (Intermediate)\")\n",
        "plt.show()"
      ],
      "metadata": {
        "colab": {
          "base_uri": "https://localhost:8080/",
          "height": 699
        },
        "id": "Oo32FLKaua_6",
        "outputId": "9ca36686-0d91-4a92-a512-9d947e2425e8"
      },
      "execution_count": 28,
      "outputs": [
        {
          "output_type": "display_data",
          "data": {
            "text/plain": [
              "<Figure size 800x800 with 1 Axes>"
            ],
            "image/png": "[encoded data removed]"
          },
          "metadata": {}
        }
      ]
    },
    {
      "cell_type": "markdown",
      "source": [
        "Some learning has happened based on the visuals above where it is segregating alphabets based on usage. But still lot can be improved"
      ],
      "metadata": {
        "id": "_yQxAqxYc4jt"
      }
    },
    {
      "cell_type": "markdown",
      "source": [
        "# Improving Efficiency of the code\n",
        "\n",
        "#### A few things can be done to ensure better performance and efficiency of the model\n",
        "\n",
        "#### Following are implemented to improve the model performance and efficiency\n",
        "\n",
        "```\n",
        "1. Split Train, Test, and Validation set\n",
        "2. Use Kaimming initialization to initialize weights\n",
        "3. Optimize Learning rates\n",
        "4. Batch Normalization\n",
        "```\n"
      ],
      "metadata": {
        "id": "isUD-cQ3ubDB"
      }
    },
    {
      "cell_type": "markdown",
      "source": [
        "## 1. Split data into Train, Dev, Test split"
      ],
      "metadata": {
        "id": "9uHHShyVwXiH"
      }
    },
    {
      "cell_type": "code",
      "source": [
        "# Shuffle X\n",
        "idx = torch.randperm(X.shape[0])\n",
        "X = X[idx]\n",
        "Y = Y[idx]\n",
        "\n",
        "n1 = int(len(X)*0.8) # 80% Training\n",
        "n2 = int(len(X)*0.9) # 10% Validation and 10% Test data\n",
        "\n",
        "X_train, Y_train = X[0:n1], Y[0:n1]\n",
        "X_val, Y_val = X[n1:n2], Y[n1:n2]\n",
        "X_test, Y_test = X[n2:], Y[n2:]\n",
        "\n",
        "print(\"Train data:\", X_train.shape, Y_train.shape, \"      | \", round(X_train.shape[0]/X.shape[0],2)*100, \"% of X\")\n",
        "print(\"Validation data:\", X_val.shape, Y_val.shape, \"   | \", round(X_val.shape[0]/X.shape[0],2)*100, \"% of X\")\n",
        "print(\"Test data:\", X_test.shape, Y_test.shape, \"         | \", round(X_test.shape[0]/X.shape[0],2)*100, \"% of X\")"
      ],
      "metadata": {
        "colab": {
          "base_uri": "https://localhost:8080/"
        },
        "id": "PNdZps_cxm7v",
        "outputId": "17df110c-9a89-4adc-ae78-3c1a45954947"
      },
      "execution_count": 29,
      "outputs": [
        {
          "output_type": "stream",
          "name": "stdout",
          "text": [
            "Train data: torch.Size([182516, 3]) torch.Size([182516])       |  80.0 % of X\n",
            "Validation data: torch.Size([22815, 3]) torch.Size([22815])    |  10.0 % of X\n",
            "Test data: torch.Size([22815, 3]) torch.Size([22815])          |  10.0 % of X\n"
          ]
        }
      ]
    },
    {
      "cell_type": "markdown",
      "source": [
        "## 2. Determine Learning rate and run only on sample batches\n",
        "\n",
        "> Idea is to quickly run a bunch of epochs with different learning rates and determine where is the best loss we achieve\n",
        "\n",
        "> Learning rates are between 0 and 1. So inorder to explore this, we need to explore in exponential scale rather than Linear scale. This enables us to explore extensively in the range 0-0.1 where we generally find the best LR"
      ],
      "metadata": {
        "id": "knUzopzVyoHG"
      }
    },
    {
      "cell_type": "code",
      "source": [
        "# LR Exploration - Scale comparison\n",
        "lre = torch.linspace(-3,0,1000)\n",
        "lrs = 10**lre\n",
        "\n",
        "ints = torch.arange(1000)\n",
        "# print(ints)\n",
        "plt.plot(ints,torch.linspace(0.01,1,1000))\n",
        "plt.plot(ints,lrs)\n",
        "plt.legend([\"Linear scale\", \"Exponential scale\"])\n",
        "plt.xlabel(\"Epochs\")\n",
        "plt.ylabel(\"Learning Rate\")\n",
        "plt.title(\"Learning Rates: Linear vs exponential scale comparison\")\n",
        "plt.show()"
      ],
      "metadata": {
        "colab": {
          "base_uri": "https://localhost:8080/",
          "height": 472
        },
        "id": "hIrP_eTW2aMn",
        "outputId": "d4866045-cb87-4507-eb42-6e3b944a3525"
      },
      "execution_count": 30,
      "outputs": [
        {
          "output_type": "display_data",
          "data": {
            "text/plain": [
              "<Figure size 640x480 with 1 Axes>"
            ],
            "image/png": "[encoded data removed]"
          },
          "metadata": {}
        }
      ]
    },
    {
      "cell_type": "code",
      "source": [
        "g = torch.Generator().manual_seed(2147483647) # For reproducibility\n",
        "C_temp = torch.randn((vocab_len,emb_dim), generator=g)\n",
        "w1_temp = torch.nn.init.kaiming_normal_(torch.randn((data_vector_len,n_hidden), generator = g),nonlinearity='tanh',mode='fan_out')\n",
        "b1_temp = torch.randn(n_hidden, generator=g)\n",
        "w2_temp = torch.randn((n_hidden,vocab_len), generator=g)*0.01\n",
        "b2_temp = torch.randn(vocab_len, generator=g)\n",
        "parameters_temp = [C_temp,w1_temp,b1_temp,w2_temp,b2_temp]\n",
        "for p_temp in parameters_temp:\n",
        "  p_temp.requires_grad = True\n",
        "\n",
        "num_epochs = 1000\n",
        "loss_track = []\n",
        "lowest_loss = np.inf\n",
        "lowest_loss_epoch = 0\n",
        "\n",
        "for epoch in range(num_epochs):\n",
        "  ix = torch.randint(0,X.shape[0],(32,), generator=g)\n",
        "  embedded_X = C_temp[X[ix]].view(X[ix].shape[0],data_vector_len)\n",
        "  h = torch.tanh((embedded_X @ w1_temp) + b1_temp)\n",
        "  logits = h @ w2_temp + b2_temp\n",
        "  loss = F.cross_entropy(logits, Y[ix])\n",
        "  if epoch % 100 == 0 or epoch == num_epochs-1:\n",
        "    print(f\"Sub sample loss at {epoch}: {loss.item() :.2f}\")\n",
        "\n",
        "  # Get stats\n",
        "  loss_track.append(loss.item())\n",
        "  if loss.item() < lowest_loss:\n",
        "    lowest_loss = loss.item()\n",
        "    lowest_loss_epoch = epoch\n",
        "\n",
        "  # Backward pass\n",
        "  for p_temp in parameters_temp:\n",
        "    p_temp.grad = None\n",
        "  loss.backward()\n",
        "\n",
        "  # update\n",
        "  lr = lrs[epoch].item()\n",
        "  for p_temp in parameters_temp:\n",
        "    p_temp.data += -lr * p_temp.grad"
      ],
      "metadata": {
        "colab": {
          "base_uri": "https://localhost:8080/"
        },
        "id": "WOa0kfLi6_pZ",
        "outputId": "c05f8ddd-5198-4c90-ee7d-220bcd3ec3d3"
      },
      "execution_count": 31,
      "outputs": [
        {
          "output_type": "stream",
          "name": "stdout",
          "text": [
            "Sub sample loss at 0: 3.51\n",
            "Sub sample loss at 100: 3.54\n",
            "Sub sample loss at 200: 3.39\n",
            "Sub sample loss at 300: 3.05\n",
            "Sub sample loss at 400: 2.42\n",
            "Sub sample loss at 500: 2.98\n",
            "Sub sample loss at 600: 2.70\n",
            "Sub sample loss at 700: 2.79\n",
            "Sub sample loss at 800: 2.56\n",
            "Sub sample loss at 900: 3.27\n",
            "Sub sample loss at 999: 4.24\n"
          ]
        }
      ]
    },
    {
      "cell_type": "code",
      "source": [
        "plt.plot(range(num_epochs),loss_track)\n",
        "plt.title(f\"Lowest loss at :{lowest_loss_epoch}. Best learning rate {lrs[lowest_loss_epoch] :.2f}\")\n",
        "plt.xlabel(\"Epochs\")\n",
        "plt.ylabel(\"Loss\")\n",
        "plt.show()"
      ],
      "metadata": {
        "colab": {
          "base_uri": "https://localhost:8080/",
          "height": 472
        },
        "id": "L_BxwMMe7t7H",
        "outputId": "3b6a4a3b-2402-4778-b82f-a81524051b73"
      },
      "execution_count": 32,
      "outputs": [
        {
          "output_type": "display_data",
          "data": {
            "text/plain": [
              "<Figure size 640x480 with 1 Axes>"
            ],
            "image/png": "[encoded data removed]"
          },
          "metadata": {}
        }
      ]
    },
    {
      "cell_type": "markdown",
      "source": [
        "We see the best Learning rate is around 0.1"
      ],
      "metadata": {
        "id": "huBrvPf6-EZW"
      }
    },
    {
      "cell_type": "markdown",
      "source": [
        "## 3. Adding Batch Normalization\n",
        "\n",
        "The idea is that each layer before applying activation (can be normalized to make it fall between -1,1)"
      ],
      "metadata": {
        "id": "V89zEd0l-EcD"
      }
    },
    {
      "cell_type": "code",
      "source": [
        "# Just an illustration\n",
        "orig_tensor = torch.randint(0,2500,(5,2))\n",
        "print(\"Original tensor:\\n\",orig_tensor)\n",
        "mean = orig_tensor.float().mean()\n",
        "std = orig_tensor.float().std()\n",
        "print(\"\\nOriginal mean:\",mean,\"    |    Original Std:\",std)\n",
        "normalized_tensor = (orig_tensor - mean)/std\n",
        "print(\"\\nNormalized tensor:\\n\",normalized_tensor)\n",
        "print(\"\\nNormalized mean:\",normalized_tensor.mean(),\" |    Normalized std:\",normalized_tensor.std())"
      ],
      "metadata": {
        "colab": {
          "base_uri": "https://localhost:8080/"
        },
        "id": "-JVpCL_E-EfI",
        "outputId": "0bc5fb54-862e-46d7-990c-bdeb94795ba2"
      },
      "execution_count": 33,
      "outputs": [
        {
          "output_type": "stream",
          "name": "stdout",
          "text": [
            "Original tensor:\n",
            " tensor([[1274, 1405],\n",
            "        [ 612,  639],\n",
            "        [   7, 1434],\n",
            "        [1538,  313],\n",
            "        [ 463, 1929]])\n",
            "\n",
            "Original mean: tensor(961.4000)     |    Original Std: tensor(631.7783)\n",
            "\n",
            "Normalized tensor:\n",
            " tensor([[ 0.4948,  0.7021],\n",
            "        [-0.5530, -0.5103],\n",
            "        [-1.5107,  0.7480],\n",
            "        [ 0.9127, -1.0263],\n",
            "        [-0.7889,  1.5315]])\n",
            "\n",
            "Normalized mean: tensor(-3.5763e-08)  |    Normalized std: tensor(1.0000)\n"
          ]
        }
      ]
    },
    {
      "cell_type": "markdown",
      "source": [
        "## 4. Initialize weights with Kaimming initialization and optimizing scale of weights"
      ],
      "metadata": {
        "id": "X3rRCH2x6_vc"
      }
    },
    {
      "cell_type": "code",
      "source": [
        "# Initiate all relevant parameters\n",
        "context_len = 3\n",
        "emb_dim = 2\n",
        "n_hidden = 100\n",
        "# batch_size = 10000\n",
        "\n",
        "vocab_len = len(string_to_ind)\n",
        "data_vector_len = context_len * emb_dim\n",
        "g = torch.Generator().manual_seed(2147483647) # For reproducibility\n",
        "\n",
        "# Embedding initialization -  A parameter\n",
        "C = torch.randn((vocab_len,emb_dim), generator=g)\n",
        "\n",
        "# Initialize the first layer (the only layer)\n",
        "w1 = torch.nn.init.kaiming_normal_(torch.randn((data_vector_len,n_hidden), generator = g),nonlinearity='tanh',mode='fan_out')\n",
        "\n",
        "b1 = torch.randn(n_hidden, generator=g) *0.001\n",
        "\n",
        "# Initialize the Output layer\n",
        "w2 = torch.randn((n_hidden,vocab_len), generator=g)*0.01   # Makes a big difference- This is to keep the Initialized weights closer to 0.\n",
        "b2 = torch.randn(vocab_len, generator=g) *0      # Makes a big difference\n",
        "\n",
        "# bngain and bnbias is the learning parameters in Batch normalization.\n",
        "# This is to prevent the data to be exact normal.\n",
        "#bngain ensure data scales up appropriately and bnbias shifts data from standard mean to represent the distribution effectively\n",
        "bngain = torch.ones((1,n_hidden))\n",
        "bnbias = torch.zeros((1,n_hidden))\n",
        "\n",
        "# The learnable parameters in this Architecture\n",
        "# Technically bias can be removed here as we have batch norms taking care of it\n",
        "parameters = [C,w1,b1,w2,b2,bngain,bnbias]\n",
        "for p in parameters:\n",
        "  p.requires_grad = True # Make sure the 'requires_grad' is True, which will help us calculate the gradients in the loss.backward() step\n",
        "\n",
        "print(\"Number of parameters learned in this Network:\",sum(p.nelement() for p in parameters))"
      ],
      "metadata": {
        "colab": {
          "base_uri": "https://localhost:8080/"
        },
        "id": "xHkT8fLqFkhj",
        "outputId": "56502ab7-3599-4f28-d30d-4f7a9b1a6045"
      },
      "execution_count": 34,
      "outputs": [
        {
          "output_type": "stream",
          "name": "stdout",
          "text": [
            "Number of parameters learned in this Network: 3681\n"
          ]
        }
      ]
    },
    {
      "cell_type": "markdown",
      "source": [
        "## Putting all together -- after updates"
      ],
      "metadata": {
        "id": "ASiDN6FzFkkv"
      }
    },
    {
      "cell_type": "code",
      "source": [
        "# Mini Batch update\n",
        "batch_size = 10000\n",
        "mini_batch_ind = get_batch_indices(X_train, batch_size)\n",
        "train_loss_global = []\n",
        "val_loss_global = []\n",
        "num_epochs = 1500\n",
        "\n",
        "for epoch in range(num_epochs):\n",
        "  loss_track_local = []\n",
        "  # # To speed up training only a random subset is used\n",
        "  # torch.manual_seed(42)\n",
        "  # idx = torch.randint(0,X_train.shape[0],(batch_size,))\n",
        "  for idx in mini_batch_ind:\n",
        "    # Forward pass\n",
        "    embedded_X = C[X_train[idx]].view(X_train[idx].shape[0],data_vector_len) # Get the corresponding embeddings for the X data\n",
        "    hpreact = (embedded_X @ w1) + b1 # Calculate hidden layer values\n",
        "\n",
        "    # Adding the Batch Normalization\n",
        "    #--------------------------------------------\n",
        "    bmeani = hpreact.mean(dim=0,keepdim=True)\n",
        "    bstdi = hpreact.std(dim=0,keepdim=True)\n",
        "    hpreact = bngain * ((hpreact - bmeani)/bstdi) + bnbias\n",
        "    #--------------------------------------------\n",
        "\n",
        "    h = torch.tanh(hpreact)\n",
        "    logits = h @ w2 + b2 # op layer logits\n",
        "    #The above loss computation can be replicated with the below efficient code -- this is better for forward pass, backward pass --> efficient numerical computations\n",
        "    loss = F.cross_entropy(logits, Y_train[idx])\n",
        "    # if epoch % 100 == 0:\n",
        "    #   print(loss.item())\n",
        "    # print(loss.item())\n",
        "\n",
        "    # Backward pass\n",
        "    for p in parameters:\n",
        "      p.grad = None\n",
        "    loss.backward()\n",
        "      # Get stats\n",
        "    loss_track_local.append(loss.item())\n",
        "\n",
        "    #update\n",
        "    # if epoch < 20000:\n",
        "    #   lr = 0.1\n",
        "    # # elif epoch < 500:\n",
        "    # #   lr = 0.01\n",
        "    # else:\n",
        "    #   lr = 0.01\n",
        "    lr = 0.1\n",
        "    for p in parameters:\n",
        "      p.data += -lr * p.grad\n",
        "  avg_loss = sum(loss_track_local)/len(mini_batch_ind)\n",
        "  train_loss_global.append(avg_loss)\n",
        "  if epoch % 300 == 0 or epoch == num_epochs-1:\n",
        "    # print(f\"Average loss after {epoch} is: {sum(loss_track_local)/len(mini_batch_ind) :.2f}\")\n",
        "    print(f\"Train loss after {epoch} epoch: {avg_loss :.2f}\")  #loss wo mini batch\n",
        "\n",
        "    # This step is needed to run validation to get the overall bmean and bstd\n",
        "    with torch.no_grad():\n",
        "      emb = C[X_train]\n",
        "      hpreact = (emb.view(emb.shape[0],data_vector_len) @ w1) + b1\n",
        "      bmean = hpreact.mean(dim = 0, keepdim = True)\n",
        "      bstd = hpreact.std(dim = 0, keepdim = True)\n",
        "    emb = C[X_val]\n",
        "    hpreact = (emb.view(emb.shape[0],data_vector_len) @ w1) + b1\n",
        "    # Adding the Batch Normalization\n",
        "    hpreact = bngain * ((hpreact - bmean)/bstd) + bnbias\n",
        "    h = torch.tanh(hpreact) # Calculate hidden layer values\n",
        "    logits = h @ w2 + b2 # op layer logits\n",
        "    #The above loss computation can be replicated with the below efficient code -- this is better for forward pass, backward pass --> efficient numerical computations\n",
        "    loss = F.cross_entropy(logits, Y_val)\n",
        "    print(f\"Validation loss after {epoch} epoch: {loss.item():.4f}\")"
      ],
      "metadata": {
        "colab": {
          "base_uri": "https://localhost:8080/"
        },
        "collapsed": true,
        "id": "Hscf5VemFktk",
        "outputId": "baadf2e2-c09f-403f-ca13-3ca17269ca68"
      },
      "execution_count": 35,
      "outputs": [
        {
          "output_type": "stream",
          "name": "stdout",
          "text": [
            "Train loss after 0 epoch: 3.14\n",
            "Validation loss after 0 epoch: 3.0511\n",
            "Train loss after 300 epoch: 2.37\n",
            "Validation loss after 300 epoch: 2.3763\n",
            "Train loss after 600 epoch: 2.32\n",
            "Validation loss after 600 epoch: 2.3222\n",
            "Train loss after 900 epoch: 2.29\n",
            "Validation loss after 900 epoch: 2.2984\n",
            "Train loss after 1200 epoch: 2.27\n",
            "Validation loss after 1200 epoch: 2.2841\n",
            "Train loss after 1499 epoch: 2.26\n",
            "Validation loss after 1499 epoch: 2.2728\n"
          ]
        }
      ]
    },
    {
      "cell_type": "code",
      "source": [
        "with torch.no_grad():\n",
        "  emb = C[X_train]\n",
        "  hpreact = (emb.view(emb.shape[0],data_vector_len) @ w1) + b1\n",
        "  bmean = hpreact.mean(dim = 0, keepdim = True)\n",
        "  bstd = hpreact.std(dim = 0, keepdim = True)"
      ],
      "metadata": {
        "id": "gGGnrhd0360M"
      },
      "execution_count": 36,
      "outputs": []
    },
    {
      "cell_type": "code",
      "source": [
        "emb = C[X_val]\n",
        "hpreact = (emb.view(emb.shape[0],data_vector_len) @ w1) + b1\n",
        "# Adding the Batch Normalization\n",
        "hpreact = bngain * ((hpreact - bmean)/bstd) + bnbias\n",
        "h = torch.tanh(hpreact) # Calculate hidden layer values\n",
        "logits = h @ w2 + b2 # op layer logits\n",
        "#The above loss computation can be replicated with the below efficient code -- this is better for forward pass, backward pass --> efficient numerical computations\n",
        "loss = F.cross_entropy(logits, Y_val)\n",
        "print(f\"Final Validation loss: {loss.item():.4f}\")"
      ],
      "metadata": {
        "colab": {
          "base_uri": "https://localhost:8080/"
        },
        "id": "kTtfWkXA4Blh",
        "outputId": "9f85c39b-2a03-46a5-cd59-dca3f252c183"
      },
      "execution_count": 37,
      "outputs": [
        {
          "output_type": "stream",
          "name": "stdout",
          "text": [
            "Final Validation loss: 2.2728\n"
          ]
        }
      ]
    },
    {
      "cell_type": "code",
      "source": [
        "emb = C[X_test]\n",
        "hpreact = (emb.view(emb.shape[0],data_vector_len) @ w1) + b1\n",
        "# Adding the Batch Normalization\n",
        "hpreact = bngain * ((hpreact - bmean)/bstd) + bnbias\n",
        "h = torch.tanh(hpreact) # Calculate hidden layer values\n",
        "logits = h @ w2 + b2 # op layer logits\n",
        "#The above loss computation can be replicated with the below efficient code -- this is better for forward pass, backward pass --> efficient numerical computations\n",
        "loss = F.cross_entropy(logits, Y_test)\n",
        "print(f\"Final Test loss: {loss.item():.4f}\")"
      ],
      "metadata": {
        "colab": {
          "base_uri": "https://localhost:8080/"
        },
        "id": "134bHGOw4PSp",
        "outputId": "6ce822b0-045c-41de-d43c-25eea6e5b948"
      },
      "execution_count": 38,
      "outputs": [
        {
          "output_type": "stream",
          "name": "stdout",
          "text": [
            "Final Test loss: 2.2749\n"
          ]
        }
      ]
    },
    {
      "cell_type": "markdown",
      "source": [
        "## Visualize Embeddings After Learning"
      ],
      "metadata": {
        "id": "Io1HfWT1Phsk"
      }
    },
    {
      "cell_type": "code",
      "source": [
        "plt.figure(figsize=(7,7))\n",
        "plt.scatter(C[:,0].data, C[:,1].data, s=200)\n",
        "for i in range(C.shape[0]):\n",
        "  plt.text(C[i,0].item(), C[i,1].item(), ind_to_string[i], ha=\"center\", va=\"center\", color=\"white\")\n",
        "plt.grid('minor')\n",
        "plt.title(\"Learned Embeddings After Training to Generate Names\")\n",
        "plt.show()"
      ],
      "metadata": {
        "colab": {
          "base_uri": "https://localhost:8080/",
          "height": 622
        },
        "id": "T-SSTZvjw2t_",
        "outputId": "ddbad9fd-7416-484a-f24a-6b32d4fd3876"
      },
      "execution_count": 45,
      "outputs": [
        {
          "output_type": "display_data",
          "data": {
            "text/plain": [
              "<Figure size 700x700 with 1 Axes>"
            ],
            "image/png": "[encoded data removed]"
          },
          "metadata": {}
        }
      ]
    },
    {
      "cell_type": "markdown",
      "source": [
        "## Generate new Names"
      ],
      "metadata": {
        "id": "cYQUrrApH5og"
      }
    },
    {
      "cell_type": "code",
      "source": [
        "g = torch.Generator().manual_seed(111)\n",
        "context_len = 3\n",
        "for _ in range(10):\n",
        "  context_block = [0] * context_len\n",
        "  name = []\n",
        "  while True:\n",
        "    context_emb = C[torch.tensor([context_block])]\n",
        "    hpreact = (context_emb.view(1,6) @ w1) + b1\n",
        "    hpreact = bngain * ((hpreact - bmean)/bstd) + bnbias\n",
        "    h = torch.tanh(hpreact) # Calculate hidden layer values\n",
        "    logits = h @ w2 + b2\n",
        "    probs = torch.softmax(logits,dim=1)\n",
        "    ix = torch.multinomial(probs,num_samples=1, generator=g).item()\n",
        "    # print(ind_to_string[ix],end='')\n",
        "    name.append(ind_to_string[ix])\n",
        "    if ix == 0:\n",
        "      break\n",
        "    context_block = context_block[1:] + [ix]\n",
        "  print(''.join(name))"
      ],
      "metadata": {
        "colab": {
          "base_uri": "https://localhost:8080/"
        },
        "id": "mfnvpMMUw2xI",
        "outputId": "1df309c8-c3e2-4aa5-f361-5aeb9125f90e"
      },
      "execution_count": 118,
      "outputs": [
        {
          "output_type": "stream",
          "name": "stdout",
          "text": [
            "gurdynne.\n",
            "sanap.\n",
            "hosna.\n",
            "tannanilini.\n",
            "ypayhini.\n",
            "muzu.\n",
            "hhras.\n",
            "hnan.\n",
            "ficnasyamerelloi.\n",
            "azzre.\n"
          ]
        }
      ]
    },
    {
      "cell_type": "markdown",
      "source": [
        "**Sounds much better name like now !!!**"
      ],
      "metadata": {
        "id": "EIw18eFlw20h"
      }
    },
    {
      "cell_type": "markdown",
      "source": [
        "# Words Generation using the next charachter prediction"
      ],
      "metadata": {
        "id": "F5uJ6k1Q54TX"
      }
    },
    {
      "cell_type": "code",
      "source": [
        "# don't show installation comments\n",
        "! pip install -q datasets\n",
        "! pip install -q contractions"
      ],
      "metadata": {
        "colab": {
          "base_uri": "https://localhost:8080/"
        },
        "id": "VeNalK4W54WX",
        "outputId": "93b50a27-d364-40a8-df6b-f8c0eb82b48f"
      },
      "execution_count": 119,
      "outputs": [
        {
          "output_type": "stream",
          "name": "stdout",
          "text": [
            "\u001b[?25l   \u001b[90m━━━━━━━━━━━━━━━━━━━━━━━━━━━━━━━━━━━━━━━━\u001b[0m \u001b[32m0.0/485.4 kB\u001b[0m \u001b[31m?\u001b[0m eta \u001b[36m-:--:--\u001b[0m\r\u001b[2K   \u001b[90m━━━━━━━━━━━━━━━━━━━━━━━━━━━━━━━━━━━━━━━━\u001b[0m \u001b[32m485.4/485.4 kB\u001b[0m \u001b[31m24.0 MB/s\u001b[0m eta \u001b[36m0:00:00\u001b[0m\n",
            "\u001b[?25h\u001b[?25l   \u001b[90m━━━━━━━━━━━━━━━━━━━━━━━━━━━━━━━━━━━━━━━━\u001b[0m \u001b[32m0.0/116.3 kB\u001b[0m \u001b[31m?\u001b[0m eta \u001b[36m-:--:--\u001b[0m\r\u001b[2K   \u001b[90m━━━━━━━━━━━━━━━━━━━━━━━━━━━━━━━━━━━━━━━━\u001b[0m \u001b[32m116.3/116.3 kB\u001b[0m \u001b[31m9.0 MB/s\u001b[0m eta \u001b[36m0:00:00\u001b[0m\n",
            "\u001b[?25h\u001b[?25l   \u001b[90m━━━━━━━━━━━━━━━━━━━━━━━━━━━━━━━━━━━━━━━━\u001b[0m \u001b[32m0.0/143.5 kB\u001b[0m \u001b[31m?\u001b[0m eta \u001b[36m-:--:--\u001b[0m\r\u001b[2K   \u001b[90m━━━━━━━━━━━━━━━━━━━━━━━━━━━━━━━━━━━━━━━━\u001b[0m \u001b[32m143.5/143.5 kB\u001b[0m \u001b[31m10.0 MB/s\u001b[0m eta \u001b[36m0:00:00\u001b[0m\n",
            "\u001b[2K   \u001b[90m━━━━━━━━━━━━━━━━━━━━━━━━━━━━━━━━━━━━━━━━\u001b[0m \u001b[32m194.8/194.8 kB\u001b[0m \u001b[31m14.4 MB/s\u001b[0m eta \u001b[36m0:00:00\u001b[0m\n",
            "\u001b[2K   \u001b[90m━━━━━━━━━━━━━━━━━━━━━━━━━━━━━━━━━━━━━━━━\u001b[0m \u001b[32m289.9/289.9 kB\u001b[0m \u001b[31m13.0 MB/s\u001b[0m eta \u001b[36m0:00:00\u001b[0m\n",
            "\u001b[2K   \u001b[90m━━━━━━━━━━━━━━━━━━━━━━━━━━━━━━━━━━━━━━━━\u001b[0m \u001b[32m118.3/118.3 kB\u001b[0m \u001b[31m8.7 MB/s\u001b[0m eta \u001b[36m0:00:00\u001b[0m\n",
            "\u001b[?25h"
          ]
        }
      ]
    },
    {
      "cell_type": "code",
      "source": [
        "from datasets import load_dataset\n",
        "import nltk\n",
        "import regex as re\n",
        "from contractions import contractions_dict\n",
        "import torch\n",
        "import numpy as np\n",
        "import pandas as pd\n",
        "from torch.nn.utils.rnn import pad_sequence\n",
        "from torch.utils.data import DataLoader\n",
        "\n",
        "\n",
        "# dataset = load_dataset(\"ccdv/cnn_dailymail\", '3.0.0', trust_remote_code=True)\n",
        "# cnn_dataset = load_dataset(\"cnn_dailymail\", \"3.0.0\" , quiet=True)\n",
        "cnn_dataset = load_dataset(\"cnn_dailymail\", \"3.0.0\")"
      ],
      "metadata": {
        "colab": {
          "base_uri": "https://localhost:8080/",
          "height": 429,
          "referenced_widgets": [
            "98a70f54fff0485b931ce6739ac8a484",
            "1de1bcfa56a04c54af7c7eaac404ce02",
            "0e179ba2b32946bf808e1dd9fab4bb5a",
            "866ef94b534b4b5fa9760c0de2e24931",
            "9864c9a1d49949b199c1fb443e297531",
            "ce12c98e850b4c8799cfce3ad3ee4992",
            "caabc0d8ed734e1594b270ea8471c427",
            "d3a9154c18c3445682570486a9164cea",
            "1feea73a06d94817af350ee8f5cc65f3",
            "e942e0eca350410f9ae850bf616d2b78",
            "f52b59bbf1564fdf9c16a496c5dea734",
            "d0d13337b2c842feac7e57d8d9e8f2ff",
            "117f6bf742db42b2b0c1bde6e9e0dce2",
            "448a019856ce4dc9be4de76787f74181",
            "d4b37cadd3b843d3af0eccd71dba5a6a",
            "c9fc264751cb41cab334043dc48330ea",
            "b4380bd8e66442eda5c2343389e7a60f",
            "1c2b76b5377e46d5b32f3d5262b333df",
            "32edcc92b2184d6aa10469f4a6aa7186",
            "19aaed4e5a3e46278d1b61d47500f288",
            "946a6b9de062405b85b713fd1c97ee05",
            "5574c9155d9f40bbad77f69ab6b63388",
            "de1eb826f5cc4e948f7c380420c0f89e",
            "f703481e11c247e6ac12413ad8f80982",
            "527012471e4c4b9bb6a57b092d0d3c8b",
            "b9ec891bf737460e9765b52adcaeb7ec",
            "c77ae7f3aeca404b87d6094e6433cde3",
            "65c0fdc2c2b448f3acfe08d49e856242",
            "ec5dc42c46a54b8988c5d017e4ed408b",
            "38bcc662099a4f98b81ea46c8afe3246",
            "23ad59e8374747a4a1fee2634085c5da",
            "752386bd513f4f4d8600c0d6296165b2",
            "0d901e703e56493495b5e663a2765cb4",
            "e49f502e4176498d9f94f7a9f59e16d9",
            "240dc3fdc6d642509c9483332a9be074",
            "ba3cf7cb4da94a3f8f68d2117c7c6736",
            "3ecc6b87f95d4830bf17f08845b3ce0d",
            "078776096d644636aacd07519bfc4f90",
            "343ac94bf20d437f824bb9a153bdda0e",
            "8db3ab887e9b4033b973ffd63e2208ee",
            "ebe8a645b8c34746ade1196f4346ad95",
            "1af20fd5ac814dc3b8dfe7197f009b36",
            "52f00962d4fe44eb8a729416a9dd0f81",
            "7954a5fabf1948b4b328625595b32188",
            "e0ff692d05d54ed693f5f155cc5daf78",
            "e84b4d17d4e94205ba5e4bbea7e118e1",
            "9cb2f6b89e3344ae9b464b4a42d7f836",
            "e4b272d069f24f9686aa90c364aec977",
            "437d3aeff282426dac745d60c09305cb",
            "c7dfb1ebc9f34927bd850ba69159a202",
            "6f21b5c77d544fd890cce67646763038",
            "97aaadc4506f4397894012abbe607e6b",
            "3f3132dba6534c648802ba64aade9855",
            "2aea989d7353410dacd2918bef4aeb89",
            "7cb90b364eae4610af80cad74d5ae0d0",
            "02954cb86ceb46d5b07e3b19e6f2d038",
            "03e8c1520b044dfdafe370a28487bdf1",
            "46cda77b0225455faf0243fd97b4289b",
            "431a2fabea434ca5bff0f3ff26879e1a",
            "2f4c9f3a115c4e66b92ef44df12efceb",
            "218473556f2f46baaf0deb599f059c87",
            "0e187cbfa5554076880d81d88e78b8cf",
            "867de2c9a5c94e63b31c7da16267a733",
            "f4586550064e4031b3fb0a1c7535e2d4",
            "9636e218e22448268f861eb4ec56cc48",
            "f2f066ecdb084078a5981edcdccb6cbc",
            "0953caa273894e0280ae7cd8a3723502",
            "02708f372c6f40089759bb10a1b81df6",
            "3bae73ce61274209aaf598c6d7b04ade",
            "e1e26c1b51964d46af98590cad066adc",
            "4b442c54b2754961b6fd52133e4dab28",
            "efad5ba373614e0b88f8e1fef188c6ee",
            "ce4e3580c2c94711a0541fd7c277c799",
            "3903fba6d5644499aa6a2de4bd0aa289",
            "1bc5e0426f3f4482bd47427b7fd8f97c",
            "acc9f05420ac4b22b993bd822695f1b2",
            "690dc4656d104c2cb30f9ddfd281a2c1",
            "17ed35221dc44a3f92ca75a48c281ff3",
            "e710619dec894d37868d875654f61ece",
            "717b17c5b44a4a31b25b4fa0d510b413",
            "574b6a5863fc458da569181276656167",
            "58eea2d38c194b93b8336774cb28befe",
            "ea970bf91ead4b9bb13b01c9ab9a511c",
            "3bfda5e749664890a6c9e1127287940f",
            "0a3d35935811458d85480200b5f9447c",
            "88eba733620e425181fcb889a2b7a91d",
            "72ea1fdd909147ddbe5391ecbd0388a6",
            "efd28175242945d5b70601c26dd24e43",
            "260e4935a7dd4fcebf9b4342783c5bbe",
            "4e505a0d813c48ab92f412980c08f7cb",
            "6f7dadcbd2ed495e94dbaa9761778ac0",
            "4764f908d48e4ef1aa7527ed3624fd3e",
            "cfe9d7caabe84912ac4829008b9272ba",
            "df68583f878d44a996110697c76d60db",
            "29d84cf326b844d68764b40ec2d5e46e",
            "e4d85f03327441aa9194ce96f46edf4c",
            "180b369d5d1344768c871edde6ed3e86",
            "8a479879b7dd498aae3246089189471b",
            "317969c79bf3429b969ed4d9c79f3ab3"
          ]
        },
        "id": "VJUj_QuTwa9y",
        "outputId": "a72f901c-fef4-4834-e5c4-f376c39ab1f6"
      },
      "execution_count": 120,
      "outputs": [
        {
          "output_type": "stream",
          "name": "stderr",
          "text": [
            "/usr/local/lib/python3.11/dist-packages/huggingface_hub/utils/_auth.py:94: UserWarning: \n",
            "The secret `HF_TOKEN` does not exist in your Colab secrets.\n",
            "To authenticate with the Hugging Face Hub, create a token in your settings tab (https://huggingface.co/settings/tokens), set it as secret in your Google Colab and restart your session.\n",
            "You will be able to reuse this secret in all of your notebooks.\n",
            "Please note that authentication is recommended but still optional to access public models or datasets.\n",
            "  warnings.warn(\n"
          ]
        },
        {
          "output_type": "display_data",
          "data": {
            "text/plain": [
              "README.md:   0%|          | 0.00/15.6k [00:00<?, ?B/s]"
            ],
            "application/vnd.jupyter.widget-view+json": {
              "version_major": 2,
              "version_minor": 0,
              "model_id": "98a70f54fff0485b931ce6739ac8a484"
            }
          },
          "metadata": {}
        },
        {
          "output_type": "display_data",
          "data": {
            "text/plain": [
              "train-00000-of-00003.parquet:   0%|          | 0.00/257M [00:00<?, ?B/s]"
            ],
            "application/vnd.jupyter.widget-view+json": {
              "version_major": 2,
              "version_minor": 0,
              "model_id": "d0d13337b2c842feac7e57d8d9e8f2ff"
            }
          },
          "metadata": {}
        },
        {
          "output_type": "display_data",
          "data": {
            "text/plain": [
              "train-00001-of-00003.parquet:   0%|          | 0.00/257M [00:00<?, ?B/s]"
            ],
            "application/vnd.jupyter.widget-view+json": {
              "version_major": 2,
              "version_minor": 0,
              "model_id": "de1eb826f5cc4e948f7c380420c0f89e"
            }
          },
          "metadata": {}
        },
        {
          "output_type": "display_data",
          "data": {
            "text/plain": [
              "train-00002-of-00003.parquet:   0%|          | 0.00/259M [00:00<?, ?B/s]"
            ],
            "application/vnd.jupyter.widget-view+json": {
              "version_major": 2,
              "version_minor": 0,
              "model_id": "e49f502e4176498d9f94f7a9f59e16d9"
            }
          },
          "metadata": {}
        },
        {
          "output_type": "display_data",
          "data": {
            "text/plain": [
              "validation-00000-of-00001.parquet:   0%|          | 0.00/34.7M [00:00<?, ?B/s]"
            ],
            "application/vnd.jupyter.widget-view+json": {
              "version_major": 2,
              "version_minor": 0,
              "model_id": "e0ff692d05d54ed693f5f155cc5daf78"
            }
          },
          "metadata": {}
        },
        {
          "output_type": "display_data",
          "data": {
            "text/plain": [
              "test-00000-of-00001.parquet:   0%|          | 0.00/30.0M [00:00<?, ?B/s]"
            ],
            "application/vnd.jupyter.widget-view+json": {
              "version_major": 2,
              "version_minor": 0,
              "model_id": "02954cb86ceb46d5b07e3b19e6f2d038"
            }
          },
          "metadata": {}
        },
        {
          "output_type": "display_data",
          "data": {
            "text/plain": [
              "Generating train split:   0%|          | 0/287113 [00:00<?, ? examples/s]"
            ],
            "application/vnd.jupyter.widget-view+json": {
              "version_major": 2,
              "version_minor": 0,
              "model_id": "0953caa273894e0280ae7cd8a3723502"
            }
          },
          "metadata": {}
        },
        {
          "output_type": "display_data",
          "data": {
            "text/plain": [
              "Generating validation split:   0%|          | 0/13368 [00:00<?, ? examples/s]"
            ],
            "application/vnd.jupyter.widget-view+json": {
              "version_major": 2,
              "version_minor": 0,
              "model_id": "17ed35221dc44a3f92ca75a48c281ff3"
            }
          },
          "metadata": {}
        },
        {
          "output_type": "display_data",
          "data": {
            "text/plain": [
              "Generating test split:   0%|          | 0/11490 [00:00<?, ? examples/s]"
            ],
            "application/vnd.jupyter.widget-view+json": {
              "version_major": 2,
              "version_minor": 0,
              "model_id": "260e4935a7dd4fcebf9b4342783c5bbe"
            }
          },
          "metadata": {}
        }
      ]
    },
    {
      "cell_type": "code",
      "source": [
        "# Methods for Data Cleaning\n",
        "def get_data_corpus(data, n):\n",
        "  \"\"\" Gets a string of n articles from the dataset\n",
        "      Input - dataset, number of articles\n",
        "      Output - string of n articles\n",
        "  \"\"\"\n",
        "  corp = ''\n",
        "  for i in range(n):\n",
        "    corp = corp + ' '+ data['train'][i]['article']\n",
        "  return corp\n",
        "\n",
        "# Get expanded contractions\n",
        "def expand_contractions(text, contraction_map=contractions_dict):\n",
        "  \"\"\" Gets the expanded contractions\n",
        "      Input - text: string, contraction_map: with all English contraction-expansion map\n",
        "      Output - string of n articles with expanded contractions\n",
        "  \"\"\"\n",
        "  con_key = '|'.join(contraction_map.keys())\n",
        "  cppp = re.compile(f'({con_key})', flags=re.DOTALL)\n",
        "\n",
        "  def e_m(contraction):\n",
        "      match = contraction.group(0)\n",
        "      exp_c = contraction_map.get(match)\n",
        "      if not expand_contractions:\n",
        "          print(match)\n",
        "          return match\n",
        "      return exp_c\n",
        "\n",
        "  text_e = cppp.sub(e_m, text)\n",
        "  text_e = re.sub(\"'\", \"\", text_e)\n",
        "  return text_e\n",
        "\n",
        "def get_clean_data(input_t):\n",
        "  \"\"\" Data Cleaning function\n",
        "      Input - string of n articles\n",
        "      Output - Cleaned string of n articles\n",
        "  \"\"\"\n",
        "\n",
        "  input_text = expand_contractions(input_t)\n",
        "  column_string = input_text #' '.join(dd['article'][0:250].tolist()) # Get rows to one big string\n",
        "\n",
        "  column_string = expand_contractions(column_string)  # Expand contractions\n",
        "  column_string = re.sub(r'-', ' ', column_string) # Replace hyphens with space\n",
        "\n",
        "  column_string = re.sub(\"[^A-Za-z .]\", \"\" , column_string) #re.sub(\"[^-9A-Za-z .]\", \"\" , column_string) # Remove punctuations - in case we need to include more punctuations -> re.sub(\"[^a-zA-Z :\\.]\", \"\", line)\n",
        "  # column_string = re.sub(r' ', '_', column_string) # Replace hyphens with space\n",
        "  column_string = column_string.lower() # Convert to lowercase\n",
        "  column_string = re.sub(r'\\.', \" \", column_string) # Replace dot with space and dot\n",
        "  # column_string = re.sub(r'\\.', \"<EOS>\", column_string) # Replace dot with <EOS> token\n",
        "  column_string = re.sub(\"\\s+\",\" \",column_string) # Remove extra spaces\n",
        "  return column_string"
      ],
      "metadata": {
        "id": "hsF6isnPwbAb"
      },
      "execution_count": 121,
      "outputs": []
    },
    {
      "cell_type": "markdown",
      "source": [
        "## Get data from 'cnn_dailymail' dataset"
      ],
      "metadata": {
        "id": "uXAmiqb9m_6r"
      }
    },
    {
      "cell_type": "code",
      "source": [
        "n=10 # Number of articles to be considered from the dataset\n",
        "articles_str = get_data_corpus(cnn_dataset, n)\n",
        "articles_clean = get_clean_data(articles_str)\n",
        "words = articles_clean.split()\n",
        "# words = list(set(articles_clean.split()))\n",
        "print(f\"Total words in the first {n} articles : {len(words)}\")"
      ],
      "metadata": {
        "colab": {
          "base_uri": "https://localhost:8080/"
        },
        "id": "PZWupiH_wbC-",
        "outputId": "8cd7873e-51ce-457a-99bf-0882fb414955"
      },
      "execution_count": 348,
      "outputs": [
        {
          "output_type": "stream",
          "name": "stdout",
          "text": [
            "Total words in the first 10 articles : 6071\n"
          ]
        }
      ]
    },
    {
      "cell_type": "markdown",
      "source": [
        "## Following same approach to prep data and split in train, val and test"
      ],
      "metadata": {
        "id": "CjgC8S99nFo4"
      }
    },
    {
      "cell_type": "code",
      "source": [
        "# First let's check Unique characters in the data\n",
        "chars = sorted(list(set(''.join(words))))\n",
        "print(\"Unique Charachters:\", chars)\n",
        "print(\"Number of unique Chars:\", len(chars))\n",
        "\n",
        "# Note: 'chars' is sorted list of unique characters and index starts from 1....26\n",
        "string_to_ind = {s:i+1 for i,s in enumerate(chars)} # +1 is to offset so that a starts with index 1\n",
        "\n",
        "# We can introduce tokens <'S'> and <'E'>. But since we will have <'S'> as the first char(rows) and <'E'> as second (columns)\n",
        "# it would be convinient to replace them with '.', depicting start and end when represented in row or col respectively\n",
        "string_to_ind['.'] = 0\n",
        "\n",
        "ind_to_string = {i:s for s,i in string_to_ind.items()}"
      ],
      "metadata": {
        "colab": {
          "base_uri": "https://localhost:8080/"
        },
        "id": "vG9GbyZOubJ_",
        "outputId": "d7ab4b3e-307c-4a32-cd00-03c8941922cc"
      },
      "execution_count": 349,
      "outputs": [
        {
          "output_type": "stream",
          "name": "stdout",
          "text": [
            "Unique Charachters: ['a', 'b', 'c', 'd', 'e', 'f', 'g', 'h', 'i', 'j', 'k', 'l', 'm', 'n', 'o', 'p', 'q', 'r', 's', 't', 'u', 'v', 'w', 'x', 'y', 'z']\n",
            "Number of unique Chars: 26\n"
          ]
        }
      ]
    },
    {
      "cell_type": "code",
      "source": [
        "# Create the final data\n",
        "context_len = 3\n",
        "X_list = []\n",
        "Y_list = []\n",
        "\n",
        "for w in words:\n",
        "  context_block = [0] * context_len\n",
        "  for ch in w + '.':\n",
        "    X_list.append(context_block)\n",
        "    Y_list.append(string_to_ind[ch])\n",
        "    context_block = context_block[1:] + [string_to_ind[ch]]\n",
        "X = torch.tensor(X_list)\n",
        "Y = torch.tensor(Y_list)"
      ],
      "metadata": {
        "id": "8zEvZCFaD_z5"
      },
      "execution_count": 350,
      "outputs": []
    },
    {
      "cell_type": "code",
      "source": [
        "X.shape, Y.shape"
      ],
      "metadata": {
        "colab": {
          "base_uri": "https://localhost:8080/"
        },
        "id": "ilrWTjSViKdD",
        "outputId": "a74ba320-144d-4e46-8b00-f03c8dafca2f"
      },
      "execution_count": 351,
      "outputs": [
        {
          "output_type": "execute_result",
          "data": {
            "text/plain": [
              "(torch.Size([33372, 3]), torch.Size([33372]))"
            ]
          },
          "metadata": {},
          "execution_count": 351
        }
      ]
    },
    {
      "cell_type": "code",
      "source": [
        "# Shuffle X\n",
        "idx = torch.randperm(X.shape[0])\n",
        "X = X[idx]\n",
        "Y = Y[idx]\n",
        "\n",
        "n1 = int(len(X)*0.8) # 80% Training\n",
        "n2 = int(len(X)*0.9) # 10% Validation and 10% Test data\n",
        "\n",
        "X_train, Y_train = X[0:n1], Y[0:n1]\n",
        "X_val, Y_val = X[n1:n2], Y[n1:n2]\n",
        "X_test, Y_test = X[n2:], Y[n2:]\n",
        "\n",
        "print(\"Train data:\", X_train.shape, Y_train.shape, \"      | \", round(X_train.shape[0]/X.shape[0],2)*100, \"% of X\")\n",
        "print(\"Validation data:\", X_val.shape, Y_val.shape, \"   | \", round(X_val.shape[0]/X.shape[0],2)*100, \"% of X\")\n",
        "print(\"Test data:\", X_test.shape, Y_test.shape, \"         | \", round(X_test.shape[0]/X.shape[0],2)*100, \"% of X\")"
      ],
      "metadata": {
        "colab": {
          "base_uri": "https://localhost:8080/"
        },
        "id": "Lmefzy2giIb8",
        "outputId": "964a2f96-2a8e-4df0-bcf8-19b2eccc364f"
      },
      "execution_count": 352,
      "outputs": [
        {
          "output_type": "stream",
          "name": "stdout",
          "text": [
            "Train data: torch.Size([26697, 3]) torch.Size([26697])       |  80.0 % of X\n",
            "Validation data: torch.Size([3337, 3]) torch.Size([3337])    |  10.0 % of X\n",
            "Test data: torch.Size([3338, 3]) torch.Size([3338])          |  10.0 % of X\n"
          ]
        }
      ]
    },
    {
      "cell_type": "markdown",
      "source": [
        "## Training - For word generation task"
      ],
      "metadata": {
        "id": "v19WSRM9g8jl"
      }
    },
    {
      "cell_type": "code",
      "source": [
        "# Initiate all relevant parameters\n",
        "context_len = 3\n",
        "emb_dim = 2\n",
        "n_hidden = 100\n",
        "# batch_size = 10000\n",
        "\n",
        "vocab_len = len(string_to_ind)\n",
        "data_vector_len = context_len * emb_dim\n",
        "g = torch.Generator().manual_seed(2147483647) # For reproducibility\n",
        "\n",
        "# Embedding initialization -  A parameter\n",
        "C = torch.randn((vocab_len,emb_dim), generator=g)\n",
        "\n",
        "# Initialize the first layer (the only layer)\n",
        "w1 = torch.nn.init.kaiming_normal_(torch.randn((data_vector_len,n_hidden), generator = g),nonlinearity='tanh',mode='fan_out')\n",
        "\n",
        "b1 = torch.randn(n_hidden, generator=g) *0.001\n",
        "\n",
        "# Initialize the Output layer\n",
        "w2 = torch.randn((n_hidden,vocab_len), generator=g)*0.01   # Makes a big difference- This is to keep the Initialized weights closer to 0.\n",
        "b2 = torch.randn(vocab_len, generator=g) *0      # Makes a big difference\n",
        "\n",
        "# bngain and bnbias is the learning parameters in Batch normalization.\n",
        "# This is to prevent the data to be exact normal.\n",
        "#bngain ensure data scales up appropriately and bnbias shifts data from standard mean to represent the distribution effectively\n",
        "bngain = torch.ones((1,n_hidden))\n",
        "bnbias = torch.zeros((1,n_hidden))\n",
        "\n",
        "# The learnable parameters in this Architecture\n",
        "# Technically bias can be removed here as we have batch norms taking care of it\n",
        "parameters = [C,w1,b1,w2,b2,bngain,bnbias]\n",
        "for p in parameters:\n",
        "  p.requires_grad = True # Make sure the 'requires_grad' is True, which will help us calculate the gradients in the loss.backward() step\n",
        "\n",
        "print(\"Number of parameters learned in this Network:\",sum(p.nelement() for p in parameters))"
      ],
      "metadata": {
        "colab": {
          "base_uri": "https://localhost:8080/"
        },
        "id": "K3MZrJZag8m1",
        "outputId": "7cec3b58-c469-4773-eb5b-2f45e89cbc66"
      },
      "execution_count": 353,
      "outputs": [
        {
          "output_type": "stream",
          "name": "stdout",
          "text": [
            "Number of parameters learned in this Network: 3681\n"
          ]
        }
      ]
    },
    {
      "cell_type": "code",
      "source": [
        "# Mini Batch update\n",
        "batch_size = 1000\n",
        "mini_batch_ind = get_batch_indices(X_train, batch_size)\n",
        "train_loss_global = []\n",
        "val_loss_global = []\n",
        "num_epochs = 3000\n",
        "\n",
        "for epoch in range(num_epochs):\n",
        "  loss_track_local = []\n",
        "  # # To speed up training only a random subset is used\n",
        "  # torch.manual_seed(42)\n",
        "  # idx = torch.randint(0,X_train.shape[0],(batch_size,))\n",
        "  for idx in mini_batch_ind:\n",
        "    # Forward pass\n",
        "    embedded_X = C[X_train[idx]].view(X_train[idx].shape[0],data_vector_len) # Get the corresponding embeddings for the X data\n",
        "    hpreact = (embedded_X @ w1) + b1 # Calculate hidden layer values\n",
        "\n",
        "    # Adding the Batch Normalization\n",
        "    #--------------------------------------------\n",
        "    bmeani = hpreact.mean(dim=0,keepdim=True)\n",
        "    bstdi = hpreact.std(dim=0,keepdim=True)\n",
        "    hpreact = bngain * ((hpreact - bmeani)/bstdi) + bnbias\n",
        "    #--------------------------------------------\n",
        "\n",
        "    h = torch.tanh(hpreact)\n",
        "    logits = h @ w2 + b2 # op layer logits\n",
        "    #The above loss computation can be replicated with the below efficient code -- this is better for forward pass, backward pass --> efficient numerical computations\n",
        "    loss = F.cross_entropy(logits, Y_train[idx])\n",
        "    # if epoch % 100 == 0:\n",
        "    #   print(loss.item())\n",
        "    # print(loss.item())\n",
        "\n",
        "    # Backward pass\n",
        "    for p in parameters:\n",
        "      p.grad = None\n",
        "    loss.backward()\n",
        "      # Get stats\n",
        "    loss_track_local.append(loss.item())\n",
        "\n",
        "    #update\n",
        "    # if epoch < 500:\n",
        "    #   lr = 0.1\n",
        "    # # elif epoch < 500:\n",
        "    # #   lr = 0.01\n",
        "    # else:\n",
        "    #   lr = 0.01\n",
        "    lr = 0.1\n",
        "    for p in parameters:\n",
        "      p.data += -lr * p.grad\n",
        "  avg_loss = sum(loss_track_local)/len(mini_batch_ind)\n",
        "  train_loss_global.append(avg_loss)\n",
        "  if epoch % 600 == 0 or epoch == num_epochs-1:\n",
        "    # print(f\"Average loss after {epoch} is: {sum(loss_track_local)/len(mini_batch_ind) :.2f}\")\n",
        "    print(f\"Train loss after {epoch} epoch: {avg_loss :.2f}\")  #loss wo mini batch\n",
        "\n",
        "    # This step is needed to run validation to get the overall bmean and bstd\n",
        "    with torch.no_grad():\n",
        "      emb = C[X_train]\n",
        "      hpreact = (emb.view(emb.shape[0],data_vector_len) @ w1) + b1\n",
        "      bmean = hpreact.mean(dim = 0, keepdim = True)\n",
        "      bstd = hpreact.std(dim = 0, keepdim = True)\n",
        "    emb = C[X_val]\n",
        "    hpreact = (emb.view(emb.shape[0],data_vector_len) @ w1) + b1\n",
        "    # Adding the Batch Normalization\n",
        "    hpreact = bngain * ((hpreact - bmean)/bstd) + bnbias\n",
        "    h = torch.tanh(hpreact) # Calculate hidden layer values\n",
        "    logits = h @ w2 + b2 # op layer logits\n",
        "    #The above loss computation can be replicated with the below efficient code -- this is better for forward pass, backward pass --> efficient numerical computations\n",
        "    loss = F.cross_entropy(logits, Y_val)\n",
        "    print(f\"Validation loss after {epoch} epoch: {loss.item():.4f}\")"
      ],
      "metadata": {
        "colab": {
          "base_uri": "https://localhost:8080/"
        },
        "id": "Qm4Wjc7Bg8zR",
        "outputId": "2f460e3e-c667-41e8-9f22-bf1a232298cf"
      },
      "execution_count": 354,
      "outputs": [
        {
          "output_type": "stream",
          "name": "stdout",
          "text": [
            "Train loss after 0 epoch: 3.09\n",
            "Validation loss after 0 epoch: 2.9984\n",
            "Train loss after 600 epoch: 2.01\n",
            "Validation loss after 600 epoch: 2.0987\n",
            "Train loss after 1200 epoch: 1.90\n",
            "Validation loss after 1200 epoch: 2.0336\n",
            "Train loss after 1800 epoch: 1.86\n",
            "Validation loss after 1800 epoch: 2.0044\n",
            "Train loss after 2400 epoch: 1.83\n",
            "Validation loss after 2400 epoch: 1.9883\n",
            "Train loss after 2999 epoch: 1.81\n",
            "Validation loss after 2999 epoch: 1.9787\n"
          ]
        }
      ]
    },
    {
      "cell_type": "code",
      "source": [
        "with torch.no_grad():\n",
        "  emb = C[X_train]\n",
        "  hpreact = (emb.view(emb.shape[0],data_vector_len) @ w1) + b1\n",
        "  bmean = hpreact.mean(dim = 0, keepdim = True)\n",
        "  bstd = hpreact.std(dim = 0, keepdim = True)"
      ],
      "metadata": {
        "id": "9ibRM16Hg85D"
      },
      "execution_count": 355,
      "outputs": []
    },
    {
      "cell_type": "code",
      "source": [
        "emb = C[X_val]\n",
        "hpreact = (emb.view(emb.shape[0],data_vector_len) @ w1) + b1\n",
        "# Adding the Batch Normalization\n",
        "hpreact = bngain * ((hpreact - bmean)/bstd) + bnbias\n",
        "h = torch.tanh(hpreact) # Calculate hidden layer values\n",
        "logits = h @ w2 + b2 # op layer logits\n",
        "#The above loss computation can be replicated with the below efficient code -- this is better for forward pass, backward pass --> efficient numerical computations\n",
        "loss = F.cross_entropy(logits, Y_val)\n",
        "print(f\"Final Validation loss: {loss.item():.4f}\")"
      ],
      "metadata": {
        "colab": {
          "base_uri": "https://localhost:8080/"
        },
        "id": "wYmLTZKyg89o",
        "outputId": "d98e6cf4-f607-444b-d335-7a42b3dcd4c1"
      },
      "execution_count": 356,
      "outputs": [
        {
          "output_type": "stream",
          "name": "stdout",
          "text": [
            "Final Validation loss: 1.9787\n"
          ]
        }
      ]
    },
    {
      "cell_type": "code",
      "source": [
        "emb = C[X_test]\n",
        "hpreact = (emb.view(emb.shape[0],data_vector_len) @ w1) + b1\n",
        "# Adding the Batch Normalization\n",
        "hpreact = bngain * ((hpreact - bmean)/bstd) + bnbias\n",
        "h = torch.tanh(hpreact) # Calculate hidden layer values\n",
        "logits = h @ w2 + b2 # op layer logits\n",
        "#The above loss computation can be replicated with the below efficient code -- this is better for forward pass, backward pass --> efficient numerical computations\n",
        "loss = F.cross_entropy(logits, Y_test)\n",
        "print(f\"Final Test loss: {loss.item():.4f}\")"
      ],
      "metadata": {
        "colab": {
          "base_uri": "https://localhost:8080/"
        },
        "id": "p4nfCcWdg9D7",
        "outputId": "e6ffa84c-0918-49d4-85c1-0fdd6dd29e5b"
      },
      "execution_count": 357,
      "outputs": [
        {
          "output_type": "stream",
          "name": "stdout",
          "text": [
            "Final Test loss: 1.9602\n"
          ]
        }
      ]
    },
    {
      "cell_type": "markdown",
      "source": [
        "## Visualize Embeddings After Learning Word  generation"
      ],
      "metadata": {
        "id": "Yx2zpcLnpU_E"
      }
    },
    {
      "cell_type": "code",
      "source": [
        "plt.figure(figsize=(7,7))\n",
        "plt.scatter(C[:,0].data, C[:,1].data, s=200)\n",
        "for i in range(C.shape[0]):\n",
        "  plt.text(C[i,0].item(), C[i,1].item(), ind_to_string[i], ha=\"center\", va=\"center\", color=\"white\")\n",
        "plt.grid('minor')\n",
        "plt.title(\"Learned Embeddings After Training to Generate Words\")\n",
        "plt.show()"
      ],
      "metadata": {
        "colab": {
          "base_uri": "https://localhost:8080/",
          "height": 622
        },
        "id": "p7FVVk-vpVI2",
        "outputId": "77a9ef4a-c329-460d-a305-a70b1d88ca7e"
      },
      "execution_count": 377,
      "outputs": [
        {
          "output_type": "display_data",
          "data": {
            "text/plain": [
              "<Figure size 700x700 with 1 Axes>"
            ],
            "image/png": "[encoded data removed]"
          },
          "metadata": {}
        }
      ]
    },
    {
      "cell_type": "markdown",
      "source": [
        "## Generate words"
      ],
      "metadata": {
        "id": "_L5diPZ_phYO"
      }
    },
    {
      "cell_type": "code",
      "source": [
        "words_starting_from = 'a'\n",
        "[string_to_ind[words_starting_from]] * 3"
      ],
      "metadata": {
        "colab": {
          "base_uri": "https://localhost:8080/"
        },
        "id": "ZUqYxn98p4mC",
        "outputId": "de2b61ef-523a-44c1-a9bb-0ef1f9058768"
      },
      "execution_count": 359,
      "outputs": [
        {
          "output_type": "execute_result",
          "data": {
            "text/plain": [
              "[1, 1, 1]"
            ]
          },
          "metadata": {},
          "execution_count": 359
        }
      ]
    },
    {
      "cell_type": "code",
      "source": [
        "g = torch.Generator().manual_seed(77)\n",
        "# words_starting_from = 'n'\n",
        "context_len = 3\n",
        "\n",
        "for _ in range(10):\n",
        "  begins_with_ind = torch.randint(0,26,(1,),generator = g).item()\n",
        "  context_block = [0,0,begins_with_ind] #string_to_ind[words_starting_from]\n",
        "  name = []\n",
        "  while True:\n",
        "    context_emb = C[torch.tensor([context_block])]\n",
        "    hpreact = (context_emb.view(1,6) @ w1) + b1\n",
        "    hpreact = bngain * ((hpreact - bmean)/bstd) + bnbias\n",
        "    h = torch.tanh(hpreact) # Calculate hidden layer values\n",
        "    logits = h @ w2 + b2\n",
        "    probs = torch.softmax(logits,dim=1)\n",
        "    ix = torch.multinomial(probs,num_samples=1, generator=g).item()\n",
        "    # print(ind_to_string[ix],end='')\n",
        "    name.append(ind_to_string[ix])\n",
        "    if ix == 0:\n",
        "      break\n",
        "    context_block = context_block[1:] + [ix]\n",
        "  # print(words_starting_from + ''.join(name))\n",
        "  print(ind_to_string[begins_with_ind] + ''.join(name))"
      ],
      "metadata": {
        "colab": {
          "base_uri": "https://localhost:8080/"
        },
        "id": "5sqDNq65ph8C",
        "outputId": "0ae6ec71-dd35-4a11-d1c5-afa237e1c20f"
      },
      "execution_count": 376,
      "outputs": [
        {
          "output_type": "stream",
          "name": "stdout",
          "text": [
            "says.\n",
            "know.\n",
            "ko.\n",
            "guca.\n",
            "lfried.\n",
            "of.\n",
            "meaassors.\n",
            "at.\n",
            "viclsi.\n",
            "eat.\n"
          ]
        }
      ]
    },
    {
      "cell_type": "markdown",
      "source": [
        "# Summary - So far"
      ],
      "metadata": {
        "id": "lXXkGEBHps3v"
      }
    },
    {
      "cell_type": "markdown",
      "source": [
        "> **This Neural Network based architecture is way more flexible than the traditional N-gram approaches.**\n",
        "\n",
        "> **This model does a better job than the Bigram model in both the tasks.**\n",
        "\n",
        "> **The proposed framework can be extended in terms #layers, #neurons, #dimensions in embedding, Context length etc**\n",
        "\n",
        "> **The next word (token) prediction can be implemented easily if we tokenize the text and feed in the 3 tokens to predict the next. The idea of learning the embeddings is a powerful one**\n",
        "\n",
        "> **This leads us to explore more on the word embedding for us to build sophisticated Language models**"
      ],
      "metadata": {
        "id": "JI33clAZ9ZL1"
      }
    },
    {
      "cell_type": "code",
      "source": [],
      "metadata": {
        "id": "zz_dYr1s9ZOm"
      },
      "execution_count": null,
      "outputs": []
    },
    {
      "cell_type": "code",
      "source": [],
      "metadata": {
        "id": "c60F4BE49ZRi"
      },
      "execution_count": null,
      "outputs": []
    }
  ]
}